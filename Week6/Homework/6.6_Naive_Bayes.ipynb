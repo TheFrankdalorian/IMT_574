{
 "cells": [
  {
   "cell_type": "markdown",
   "metadata": {},
   "source": [
    "This is a public set of comments collected for spam research. It has five datasets composed of 1,956 real messages extracted from five videos. These five videos are popular pop songs that were among the 10 most viewed in the collection period."
   ]
  },
  {
   "cell_type": "markdown",
   "metadata": {},
   "source": [
    "All five datasets have the following attributes:\n",
    "\n",
    "|Attribute | Attribute Explained |\n",
    "| -- | -- |\n",
    "| COMMENT_ID |\tUnique ID representing the comment |\n",
    "| AUTHOR | Author ID |\n",
    "| DATE | Date the comment is posted |\n",
    "| CONTENT | The comment |\n",
    "| TAG | Attribute Explained |"
   ]
  },
  {
   "cell_type": "code",
   "execution_count": 3220,
   "metadata": {},
   "outputs": [],
   "source": [
    "import pandas as pd\n",
    "import numpy as np\n",
    "import seaborn as sns\n",
    "import matplotlib.pyplot as plt\n",
    "import re\n",
    "import nltk\n",
    "\n",
    "from sklearn.naive_bayes import GaussianNB\n",
    "from sklearn.model_selection import train_test_split\n",
    "from sklearn.metrics import confusion_matrix\n",
    "from nltk.stem import WordNetLemmatizer\n",
    "from sklearn.feature_extraction.text import CountVectorizer"
   ]
  },
  {
   "cell_type": "code",
   "execution_count": 3221,
   "metadata": {},
   "outputs": [
    {
     "name": "stderr",
     "output_type": "stream",
     "text": [
      "[nltk_data] Downloading package punkt to /Users/skynet/nltk_data...\n",
      "[nltk_data]   Package punkt is already up-to-date!\n",
      "[nltk_data] Downloading package wordnet to /Users/skynet/nltk_data...\n",
      "[nltk_data]   Package wordnet is already up-to-date!\n",
      "[nltk_data] Downloading package omw-1.4 to /Users/skynet/nltk_data...\n",
      "[nltk_data]   Package omw-1.4 is already up-to-date!\n",
      "[nltk_data] Downloading package stopwords to\n",
      "[nltk_data]     /Users/skynet/nltk_data...\n",
      "[nltk_data]   Package stopwords is already up-to-date!\n"
     ]
    },
    {
     "data": {
      "text/plain": [
       "True"
      ]
     },
     "execution_count": 3221,
     "metadata": {},
     "output_type": "execute_result"
    }
   ],
   "source": [
    "nltk.download('punkt')\n",
    "nltk.download('wordnet')\n",
    "nltk.download('omw-1.4')\n",
    "nltk.download('stopwords')"
   ]
  },
  {
   "cell_type": "markdown",
   "metadata": {},
   "source": [
    " ***1) Use any four of these five datasets to build a spam filter with the Naïve Bayes approach.***\n",
    "\n"
   ]
  },
  {
   "cell_type": "code",
   "execution_count": 3222,
   "metadata": {},
   "outputs": [],
   "source": [
    "df_psy = pd.read_csv('~/UW/IMT_574/Week6/Homework/Youtube01-Psy.csv')\n",
    "df_katy_perry = pd.read_csv('~/UW/IMT_574/Week6/Homework/Youtube02-KatyPerry.csv')\n",
    "df_lmfao = pd.read_csv('~/UW/IMT_574/Week6/Homework/Youtube03-LMFAO.csv')\n",
    "df_eminem = pd.read_csv('~/UW/IMT_574/Week6/Homework/Youtube04-Eminem.csv')\n",
    "df_shakira = pd.read_csv('~/UW/IMT_574/Week6/Homework/Youtube05-Shakira.csv')"
   ]
  },
  {
   "cell_type": "markdown",
   "metadata": {},
   "source": [
    "***Assuming Class=0 is not spam, Class=1 is spam***"
   ]
  },
  {
   "cell_type": "code",
   "execution_count": 3223,
   "metadata": {},
   "outputs": [
    {
     "data": {
      "text/html": [
       "<div>\n",
       "<style scoped>\n",
       "    .dataframe tbody tr th:only-of-type {\n",
       "        vertical-align: middle;\n",
       "    }\n",
       "\n",
       "    .dataframe tbody tr th {\n",
       "        vertical-align: top;\n",
       "    }\n",
       "\n",
       "    .dataframe thead th {\n",
       "        text-align: right;\n",
       "    }\n",
       "</style>\n",
       "<table border=\"1\" class=\"dataframe\">\n",
       "  <thead>\n",
       "    <tr style=\"text-align: right;\">\n",
       "      <th></th>\n",
       "      <th>COMMENT</th>\n",
       "      <th>IS_SPAM</th>\n",
       "    </tr>\n",
       "  </thead>\n",
       "  <tbody>\n",
       "    <tr>\n",
       "      <th>0</th>\n",
       "      <td>Huh, anyway check out this you[tube] channel: ...</td>\n",
       "      <td>1</td>\n",
       "    </tr>\n",
       "    <tr>\n",
       "      <th>1</th>\n",
       "      <td>Hey guys check out my new channel and our firs...</td>\n",
       "      <td>1</td>\n",
       "    </tr>\n",
       "    <tr>\n",
       "      <th>2</th>\n",
       "      <td>just for test I have to say murdev.com</td>\n",
       "      <td>1</td>\n",
       "    </tr>\n",
       "    <tr>\n",
       "      <th>3</th>\n",
       "      <td>me shaking my sexy ass on my channel enjoy ^_^ ﻿</td>\n",
       "      <td>1</td>\n",
       "    </tr>\n",
       "    <tr>\n",
       "      <th>4</th>\n",
       "      <td>watch?v=vtaRGgvGtWQ   Check this out .﻿</td>\n",
       "      <td>1</td>\n",
       "    </tr>\n",
       "  </tbody>\n",
       "</table>\n",
       "</div>"
      ],
      "text/plain": [
       "                                             COMMENT  IS_SPAM\n",
       "0  Huh, anyway check out this you[tube] channel: ...        1\n",
       "1  Hey guys check out my new channel and our firs...        1\n",
       "2             just for test I have to say murdev.com        1\n",
       "3   me shaking my sexy ass on my channel enjoy ^_^ ﻿        1\n",
       "4            watch?v=vtaRGgvGtWQ   Check this out .﻿        1"
      ]
     },
     "execution_count": 3223,
     "metadata": {},
     "output_type": "execute_result"
    }
   ],
   "source": [
    "#Merging four of the datasets into a single one.\n",
    "df_merged = pd.concat([df_psy,df_katy_perry, df_lmfao, df_shakira], axis = 0)\n",
    "\n",
    "#Dropping unnecessary columns except CONTENT and CLASS\n",
    "df_merged.drop(['COMMENT_ID','AUTHOR', 'DATE' ], axis = 1, inplace=True)\n",
    "\n",
    "#renaming columns for easier manipulation\n",
    "df_merged.rename(columns={\"CONTENT\":\"COMMENT\", \"CLASS\": \"IS_SPAM\"}, inplace=True)\n",
    "\n",
    "df_merged.head()\n",
    "# df_merged.shape"
   ]
  },
  {
   "cell_type": "code",
   "execution_count": 3224,
   "metadata": {},
   "outputs": [
    {
     "data": {
      "text/plain": [
       "IS_SPAM\n",
       "1    0.503979\n",
       "0    0.496021\n",
       "Name: proportion, dtype: float64"
      ]
     },
     "execution_count": 3224,
     "metadata": {},
     "output_type": "execute_result"
    }
   ],
   "source": [
    "#Percentage of observations that are spam in training dataset\n",
    "df_merged['IS_SPAM'].value_counts(normalize=True)"
   ]
  },
  {
   "cell_type": "code",
   "execution_count": 3225,
   "metadata": {},
   "outputs": [
    {
     "name": "stdout",
     "output_type": "stream",
     "text": [
      "<class 'pandas.core.frame.DataFrame'>\n",
      "Index: 1508 entries, 0 to 369\n",
      "Data columns (total 2 columns):\n",
      " #   Column   Non-Null Count  Dtype \n",
      "---  ------   --------------  ----- \n",
      " 0   COMMENT  1508 non-null   object\n",
      " 1   IS_SPAM  1508 non-null   int64 \n",
      "dtypes: int64(1), object(1)\n",
      "memory usage: 35.3+ KB\n"
     ]
    }
   ],
   "source": [
    "df_merged.info()"
   ]
  },
  {
   "cell_type": "code",
   "execution_count": 3226,
   "metadata": {},
   "outputs": [],
   "source": [
    "#Cleaning the url links from comments\n",
    "url_pattern = r'http\\S+'\n",
    "\n",
    "X_no_links = [re.sub(url_pattern,\" \",text) for text in df_merged[\"COMMENT\"]]"
   ]
  },
  {
   "cell_type": "code",
   "execution_count": 3227,
   "metadata": {},
   "outputs": [],
   "source": [
    "#Cleaning up data, by removing invalid characters, and leaving only aplhanumeric chars\n",
    "regex_pattern = \"[^a-zA-Z0-9]\"\n",
    "\n",
    "X_alphanums_only= [re.sub(regex_pattern,\" \",text) for text in X_no_links]"
   ]
  },
  {
   "cell_type": "code",
   "execution_count": 3228,
   "metadata": {},
   "outputs": [],
   "source": [
    "#Converting the words to lowercase\n",
    "X_lowercase = [text.lower() for text in X_alphanums_only]"
   ]
  },
  {
   "cell_type": "code",
   "execution_count": 3229,
   "metadata": {},
   "outputs": [],
   "source": [
    "#Splitting the words into a list, by using the NLTK tokenizer\n",
    "X_tokenized = [nltk.word_tokenize(text) for text in X_lowercase]"
   ]
  },
  {
   "cell_type": "code",
   "execution_count": 3230,
   "metadata": {},
   "outputs": [],
   "source": [
    "#Lemmatizing the comments\n",
    "#Lemmatization:  the process of grouping together the inflected forms of a word so they can be \n",
    "# analysed as a single item, identified by the word's lemma, or dictionary form.\n",
    "\n",
    "#Lemmatization groups together different forms of a word, such as \"builds\", \"building\", and \"built\", and reduces them to a single base form, \"build\". \n",
    "\n",
    "lemmatizer = WordNetLemmatizer()\n",
    "\n",
    "X_lemmatized = [[lemmatizer.lemmatize(word) for word in text] for text in X_tokenized]"
   ]
  },
  {
   "cell_type": "code",
   "execution_count": 3231,
   "metadata": {},
   "outputs": [],
   "source": [
    "#Removing stopwords\n",
    "#Stop words are words that are filtered out of natural language data because they are considered insignificant or uninformative\n",
    "# i.e. \"A, \"An, \"The, \"In, \"Of, \"On, \"Are, \"Be, \"If, and \"Into.\n",
    "\n",
    "stopwords = nltk.corpus.stopwords.words(\"english\")\n",
    "\n",
    "X_no_stopwords = [[word for word in text if word not in stopwords] for text in X_lemmatized]"
   ]
  },
  {
   "cell_type": "code",
   "execution_count": 3232,
   "metadata": {},
   "outputs": [],
   "source": [
    "# print(X_no_stopwords[0])"
   ]
  },
  {
   "cell_type": "code",
   "execution_count": 3233,
   "metadata": {},
   "outputs": [
    {
     "name": "stdout",
     "output_type": "stream",
     "text": [
      "Number of unique words in the training dataset after clean up and formatting: 2780\n"
     ]
    }
   ],
   "source": [
    "num_words = len(np.unique([word for text in X_no_stopwords for word in text]))\n",
    "\n",
    "print(f'Number of unique words in the training dataset after clean up and formatting: {num_words}')\n"
   ]
  },
  {
   "cell_type": "code",
   "execution_count": 3234,
   "metadata": {},
   "outputs": [],
   "source": [
    "#Creating Bag of Words to be used in the NB model\n",
    "#Bag-of-words(BoW) is a statistical language model used to analyze text and documents based on word count. \n",
    "# The bag-of-words model (BoW) is a model of text which uses a representation of text that is based on an unordered collection (a \"bag\") of words.\n",
    "vectorizer = CountVectorizer(max_features=20000)\n",
    "\n",
    "X_vectorized = vectorizer.fit_transform([\" \".join(text) for text in X_no_stopwords]).toarray()\n",
    "\n",
    "X_train,X_test,y_train,y_test = train_test_split(X_vectorized,np.asarray(df_merged[\"IS_SPAM\"]),random_state=45,test_size=0.3)"
   ]
  },
  {
   "cell_type": "code",
   "execution_count": 3235,
   "metadata": {},
   "outputs": [
    {
     "data": {
      "text/plain": [
       "(1508, 2755)"
      ]
     },
     "execution_count": 3235,
     "metadata": {},
     "output_type": "execute_result"
    }
   ],
   "source": [
    "X_vectorized.shape"
   ]
  },
  {
   "cell_type": "code",
   "execution_count": 3236,
   "metadata": {},
   "outputs": [
    {
     "data": {
      "text/html": [
       "<style>#sk-container-id-90 {color: black;background-color: white;}#sk-container-id-90 pre{padding: 0;}#sk-container-id-90 div.sk-toggleable {background-color: white;}#sk-container-id-90 label.sk-toggleable__label {cursor: pointer;display: block;width: 100%;margin-bottom: 0;padding: 0.3em;box-sizing: border-box;text-align: center;}#sk-container-id-90 label.sk-toggleable__label-arrow:before {content: \"▸\";float: left;margin-right: 0.25em;color: #696969;}#sk-container-id-90 label.sk-toggleable__label-arrow:hover:before {color: black;}#sk-container-id-90 div.sk-estimator:hover label.sk-toggleable__label-arrow:before {color: black;}#sk-container-id-90 div.sk-toggleable__content {max-height: 0;max-width: 0;overflow: hidden;text-align: left;background-color: #f0f8ff;}#sk-container-id-90 div.sk-toggleable__content pre {margin: 0.2em;color: black;border-radius: 0.25em;background-color: #f0f8ff;}#sk-container-id-90 input.sk-toggleable__control:checked~div.sk-toggleable__content {max-height: 200px;max-width: 100%;overflow: auto;}#sk-container-id-90 input.sk-toggleable__control:checked~label.sk-toggleable__label-arrow:before {content: \"▾\";}#sk-container-id-90 div.sk-estimator input.sk-toggleable__control:checked~label.sk-toggleable__label {background-color: #d4ebff;}#sk-container-id-90 div.sk-label input.sk-toggleable__control:checked~label.sk-toggleable__label {background-color: #d4ebff;}#sk-container-id-90 input.sk-hidden--visually {border: 0;clip: rect(1px 1px 1px 1px);clip: rect(1px, 1px, 1px, 1px);height: 1px;margin: -1px;overflow: hidden;padding: 0;position: absolute;width: 1px;}#sk-container-id-90 div.sk-estimator {font-family: monospace;background-color: #f0f8ff;border: 1px dotted black;border-radius: 0.25em;box-sizing: border-box;margin-bottom: 0.5em;}#sk-container-id-90 div.sk-estimator:hover {background-color: #d4ebff;}#sk-container-id-90 div.sk-parallel-item::after {content: \"\";width: 100%;border-bottom: 1px solid gray;flex-grow: 1;}#sk-container-id-90 div.sk-label:hover label.sk-toggleable__label {background-color: #d4ebff;}#sk-container-id-90 div.sk-serial::before {content: \"\";position: absolute;border-left: 1px solid gray;box-sizing: border-box;top: 0;bottom: 0;left: 50%;z-index: 0;}#sk-container-id-90 div.sk-serial {display: flex;flex-direction: column;align-items: center;background-color: white;padding-right: 0.2em;padding-left: 0.2em;position: relative;}#sk-container-id-90 div.sk-item {position: relative;z-index: 1;}#sk-container-id-90 div.sk-parallel {display: flex;align-items: stretch;justify-content: center;background-color: white;position: relative;}#sk-container-id-90 div.sk-item::before, #sk-container-id-90 div.sk-parallel-item::before {content: \"\";position: absolute;border-left: 1px solid gray;box-sizing: border-box;top: 0;bottom: 0;left: 50%;z-index: -1;}#sk-container-id-90 div.sk-parallel-item {display: flex;flex-direction: column;z-index: 1;position: relative;background-color: white;}#sk-container-id-90 div.sk-parallel-item:first-child::after {align-self: flex-end;width: 50%;}#sk-container-id-90 div.sk-parallel-item:last-child::after {align-self: flex-start;width: 50%;}#sk-container-id-90 div.sk-parallel-item:only-child::after {width: 0;}#sk-container-id-90 div.sk-dashed-wrapped {border: 1px dashed gray;margin: 0 0.4em 0.5em 0.4em;box-sizing: border-box;padding-bottom: 0.4em;background-color: white;}#sk-container-id-90 div.sk-label label {font-family: monospace;font-weight: bold;display: inline-block;line-height: 1.2em;}#sk-container-id-90 div.sk-label-container {text-align: center;}#sk-container-id-90 div.sk-container {/* jupyter's `normalize.less` sets `[hidden] { display: none; }` but bootstrap.min.css set `[hidden] { display: none !important; }` so we also need the `!important` here to be able to override the default hidden behavior on the sphinx rendered scikit-learn.org. See: https://github.com/scikit-learn/scikit-learn/issues/21755 */display: inline-block !important;position: relative;}#sk-container-id-90 div.sk-text-repr-fallback {display: none;}</style><div id=\"sk-container-id-90\" class=\"sk-top-container\"><div class=\"sk-text-repr-fallback\"><pre>GaussianNB()</pre><b>In a Jupyter environment, please rerun this cell to show the HTML representation or trust the notebook. <br />On GitHub, the HTML representation is unable to render, please try loading this page with nbviewer.org.</b></div><div class=\"sk-container\" hidden><div class=\"sk-item\"><div class=\"sk-estimator sk-toggleable\"><input class=\"sk-toggleable__control sk-hidden--visually\" id=\"sk-estimator-id-90\" type=\"checkbox\" checked><label for=\"sk-estimator-id-90\" class=\"sk-toggleable__label sk-toggleable__label-arrow\">GaussianNB</label><div class=\"sk-toggleable__content\"><pre>GaussianNB()</pre></div></div></div></div></div>"
      ],
      "text/plain": [
       "GaussianNB()"
      ]
     },
     "execution_count": 3236,
     "metadata": {},
     "output_type": "execute_result"
    }
   ],
   "source": [
    "#Fitting the Naive Bayes model\n",
    "model_nb = GaussianNB()\n",
    "model_nb.fit(X_train,y_train)"
   ]
  },
  {
   "cell_type": "code",
   "execution_count": 3237,
   "metadata": {},
   "outputs": [
    {
     "data": {
      "text/plain": [
       "0.7660044150110376"
      ]
     },
     "execution_count": 3237,
     "metadata": {},
     "output_type": "execute_result"
    }
   ],
   "source": [
    "model_nb.score(X_test, y_test)"
   ]
  },
  {
   "cell_type": "code",
   "execution_count": 3238,
   "metadata": {},
   "outputs": [
    {
     "data": {
      "image/png": "[encoded data removed]",
      "text/plain": [
       "<Figure size 640x480 with 2 Axes>"
      ]
     },
     "metadata": {},
     "output_type": "display_data"
    }
   ],
   "source": [
    "#Plotting confusion matrix\n",
    "y_pred = model_nb.predict(X_test)\n",
    "\n",
    "conf = confusion_matrix(y_pred=y_pred,y_true=y_test)\n",
    "\n",
    "sns.heatmap(conf,annot=True,fmt=\".1f\")\n",
    "plt.show()"
   ]
  },
  {
   "cell_type": "markdown",
   "metadata": {},
   "source": [
    "---"
   ]
  },
  {
   "cell_type": "markdown",
   "metadata": {},
   "source": [
    " ***2) Use that filter to check the accuracy of the remaining dataset.***"
   ]
  },
  {
   "cell_type": "code",
   "execution_count": 3239,
   "metadata": {},
   "outputs": [],
   "source": [
    "#Creating a function to call the trained model\n",
    "def predict_spam(comment):\n",
    "    \n",
    "    vector = vectorizer.transform([comment])\n",
    "    spam_prediction = model_nb.predict(vector.toarray())\n",
    "    \n",
    "    return spam_prediction[0]"
   ]
  },
  {
   "cell_type": "code",
   "execution_count": 3240,
   "metadata": {},
   "outputs": [
    {
     "data": {
      "text/html": [
       "<div>\n",
       "<style scoped>\n",
       "    .dataframe tbody tr th:only-of-type {\n",
       "        vertical-align: middle;\n",
       "    }\n",
       "\n",
       "    .dataframe tbody tr th {\n",
       "        vertical-align: top;\n",
       "    }\n",
       "\n",
       "    .dataframe thead th {\n",
       "        text-align: right;\n",
       "    }\n",
       "</style>\n",
       "<table border=\"1\" class=\"dataframe\">\n",
       "  <thead>\n",
       "    <tr style=\"text-align: right;\">\n",
       "      <th></th>\n",
       "      <th>COMMENT</th>\n",
       "      <th>IS_SPAM</th>\n",
       "      <th>PREDICTED_CLASS</th>\n",
       "    </tr>\n",
       "  </thead>\n",
       "  <tbody>\n",
       "    <tr>\n",
       "      <th>0</th>\n",
       "      <td>+447935454150 lovely girl talk to me xxx﻿</td>\n",
       "      <td>1</td>\n",
       "      <td>0</td>\n",
       "    </tr>\n",
       "    <tr>\n",
       "      <th>1</th>\n",
       "      <td>I always end up coming back to this song&lt;br /&gt;﻿</td>\n",
       "      <td>0</td>\n",
       "      <td>0</td>\n",
       "    </tr>\n",
       "    <tr>\n",
       "      <th>2</th>\n",
       "      <td>my sister just received over 6,500 new &lt;a rel=...</td>\n",
       "      <td>1</td>\n",
       "      <td>1</td>\n",
       "    </tr>\n",
       "    <tr>\n",
       "      <th>3</th>\n",
       "      <td>Cool﻿</td>\n",
       "      <td>0</td>\n",
       "      <td>0</td>\n",
       "    </tr>\n",
       "    <tr>\n",
       "      <th>4</th>\n",
       "      <td>Hello I&amp;#39;am from Palastine﻿</td>\n",
       "      <td>1</td>\n",
       "      <td>1</td>\n",
       "    </tr>\n",
       "  </tbody>\n",
       "</table>\n",
       "</div>"
      ],
      "text/plain": [
       "                                             COMMENT  IS_SPAM  PREDICTED_CLASS\n",
       "0          +447935454150 lovely girl talk to me xxx﻿        1                0\n",
       "1    I always end up coming back to this song<br />﻿        0                0\n",
       "2  my sister just received over 6,500 new <a rel=...        1                1\n",
       "3                                              Cool﻿        0                0\n",
       "4                     Hello I&#39;am from Palastine﻿        1                1"
      ]
     },
     "execution_count": 3240,
     "metadata": {},
     "output_type": "execute_result"
    }
   ],
   "source": [
    "#Using Eminem as the test dataset\n",
    "#Adding new column with predicted result from NB model\n",
    "df_eminem.drop(['COMMENT_ID','AUTHOR', 'DATE' ], axis = 1, inplace=True)\n",
    "#renaming columns for easier manipulation\n",
    "\n",
    "df_eminem.rename(columns={\"CONTENT\":\"COMMENT\", \"CLASS\": \"IS_SPAM\"}, inplace=True)\n",
    "\n",
    "df_eminem['PREDICTED_CLASS']=df_eminem['COMMENT'].apply(predict_spam)\n",
    "\n",
    "df_eminem.head()\n"
   ]
  },
  {
   "cell_type": "code",
   "execution_count": 3241,
   "metadata": {},
   "outputs": [
    {
     "name": "stdout",
     "output_type": "stream",
     "text": [
      "Accuracy of the Naive Bayes model, using the test dataset: 0.7611607142857143\n"
     ]
    }
   ],
   "source": [
    "#Calculate accuracy:\n",
    "\n",
    "#Series variable with results of predicted vs real classification \n",
    "correct_preds = df_eminem['PREDICTED_CLASS'] == df_eminem['IS_SPAM']\n",
    "\n",
    "#Accuracy = mean()\n",
    "accuracy = correct_preds.mean()\n",
    "print(f'Accuracy of the Naive Bayes model, using the test dataset: {accuracy}')"
   ]
  },
  {
   "cell_type": "markdown",
   "metadata": {},
   "source": [
    "---"
   ]
  },
  {
   "cell_type": "markdown",
   "metadata": {
    "vscode": {
     "languageId": "plaintext"
    }
   },
   "source": [
    " ***3) Make sure to report the details of your training and the model.***"
   ]
  }
 ],
 "metadata": {
  "kernelspec": {
   "display_name": "Python 3 (ipykernel)",
   "language": "python",
   "name": "python3"
  }
 },
 "nbformat": 4,
 "nbformat_minor": 2
}
