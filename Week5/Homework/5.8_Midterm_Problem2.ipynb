{
 "cells": [
  {
   "cell_type": "code",
   "execution_count": 1,
   "metadata": {},
   "outputs": [],
   "source": [
    "import pandas as pd\n",
    "import seaborn as sns\n",
    "import statsmodels.api as sm\n",
    "import matplotlib.pyplot as plt\n",
    "import numpy as np"
   ]
  },
  {
   "cell_type": "code",
   "execution_count": 2,
   "metadata": {},
   "outputs": [],
   "source": [
    "from sklearn.model_selection import train_test_split \n",
    "from sklearn.cluster import KMeans\n",
    "from sklearn.metrics  import mean_squared_error, mean_absolute_error, r2_score\n",
    "\n"
   ]
  },
  {
   "cell_type": "markdown",
   "metadata": {
    "vscode": {
     "languageId": "plaintext"
    }
   },
   "source": [
    "**Problem 2**"
   ]
  },
  {
   "cell_type": "markdown",
   "metadata": {},
   "source": [
    "- a) How does income inequality relate to the number of hate crimes and hate incidents? \n",
    "- b) How can we predict the number of hate crimes and hate incidents from race/nature of the population? \n",
    "- c) How does the number of hate crimes vary across states? Is there any similarity in number of hate incidents (per 100,000 people) between some states than in others — both according to the SPLC after the election and the FBI before it? \n",
    "\n",
    "Note: For the first two questions:\n",
    "\n",
    "Choose the variables which you think are related to the predictors (income inequality, race and nature of the population) to build your model. Justify your selection.\n",
    "Refine your model iteratively."
   ]
  },
  {
   "cell_type": "code",
   "execution_count": 3,
   "metadata": {},
   "outputs": [
    {
     "data": {
      "text/html": [
       "<div>\n",
       "<style scoped>\n",
       "    .dataframe tbody tr th:only-of-type {\n",
       "        vertical-align: middle;\n",
       "    }\n",
       "\n",
       "    .dataframe tbody tr th {\n",
       "        vertical-align: top;\n",
       "    }\n",
       "\n",
       "    .dataframe thead th {\n",
       "        text-align: right;\n",
       "    }\n",
       "</style>\n",
       "<table border=\"1\" class=\"dataframe\">\n",
       "  <thead>\n",
       "    <tr style=\"text-align: right;\">\n",
       "      <th></th>\n",
       "      <th>state</th>\n",
       "      <th>median_household_income</th>\n",
       "      <th>share_unemployed_seasonal</th>\n",
       "      <th>share_population_in_metro_areas</th>\n",
       "      <th>share_population_with_high_school_degree</th>\n",
       "      <th>share_non_citizen</th>\n",
       "      <th>share_white_poverty</th>\n",
       "      <th>gini_index</th>\n",
       "      <th>share_non_white</th>\n",
       "      <th>share_voters_voted_trump</th>\n",
       "      <th>hate_crimes_per_100k_splc</th>\n",
       "      <th>avg_hatecrimes_per_100k_fbi</th>\n",
       "    </tr>\n",
       "  </thead>\n",
       "  <tbody>\n",
       "    <tr>\n",
       "      <th>0</th>\n",
       "      <td>Alabama</td>\n",
       "      <td>42278</td>\n",
       "      <td>0.060</td>\n",
       "      <td>0.64</td>\n",
       "      <td>0.821</td>\n",
       "      <td>0.02</td>\n",
       "      <td>0.12</td>\n",
       "      <td>0.472</td>\n",
       "      <td>0.35</td>\n",
       "      <td>0.63</td>\n",
       "      <td>0.125839</td>\n",
       "      <td>1.806410</td>\n",
       "    </tr>\n",
       "    <tr>\n",
       "      <th>1</th>\n",
       "      <td>Alaska</td>\n",
       "      <td>67629</td>\n",
       "      <td>0.064</td>\n",
       "      <td>0.63</td>\n",
       "      <td>0.914</td>\n",
       "      <td>0.04</td>\n",
       "      <td>0.06</td>\n",
       "      <td>0.422</td>\n",
       "      <td>0.42</td>\n",
       "      <td>0.53</td>\n",
       "      <td>0.143740</td>\n",
       "      <td>1.656700</td>\n",
       "    </tr>\n",
       "    <tr>\n",
       "      <th>2</th>\n",
       "      <td>Arizona</td>\n",
       "      <td>49254</td>\n",
       "      <td>0.063</td>\n",
       "      <td>0.90</td>\n",
       "      <td>0.842</td>\n",
       "      <td>0.10</td>\n",
       "      <td>0.09</td>\n",
       "      <td>0.455</td>\n",
       "      <td>0.49</td>\n",
       "      <td>0.50</td>\n",
       "      <td>0.225320</td>\n",
       "      <td>3.413928</td>\n",
       "    </tr>\n",
       "    <tr>\n",
       "      <th>3</th>\n",
       "      <td>Arkansas</td>\n",
       "      <td>44922</td>\n",
       "      <td>0.052</td>\n",
       "      <td>0.69</td>\n",
       "      <td>0.824</td>\n",
       "      <td>0.04</td>\n",
       "      <td>0.12</td>\n",
       "      <td>0.458</td>\n",
       "      <td>0.26</td>\n",
       "      <td>0.60</td>\n",
       "      <td>0.069061</td>\n",
       "      <td>0.869209</td>\n",
       "    </tr>\n",
       "    <tr>\n",
       "      <th>4</th>\n",
       "      <td>California</td>\n",
       "      <td>60487</td>\n",
       "      <td>0.059</td>\n",
       "      <td>0.97</td>\n",
       "      <td>0.806</td>\n",
       "      <td>0.13</td>\n",
       "      <td>0.09</td>\n",
       "      <td>0.471</td>\n",
       "      <td>0.61</td>\n",
       "      <td>0.33</td>\n",
       "      <td>0.255805</td>\n",
       "      <td>2.397986</td>\n",
       "    </tr>\n",
       "  </tbody>\n",
       "</table>\n",
       "</div>"
      ],
      "text/plain": [
       "        state  median_household_income  share_unemployed_seasonal  \\\n",
       "0     Alabama                    42278                      0.060   \n",
       "1      Alaska                    67629                      0.064   \n",
       "2     Arizona                    49254                      0.063   \n",
       "3    Arkansas                    44922                      0.052   \n",
       "4  California                    60487                      0.059   \n",
       "\n",
       "   share_population_in_metro_areas  share_population_with_high_school_degree  \\\n",
       "0                             0.64                                     0.821   \n",
       "1                             0.63                                     0.914   \n",
       "2                             0.90                                     0.842   \n",
       "3                             0.69                                     0.824   \n",
       "4                             0.97                                     0.806   \n",
       "\n",
       "   share_non_citizen  share_white_poverty  gini_index  share_non_white  \\\n",
       "0               0.02                 0.12       0.472             0.35   \n",
       "1               0.04                 0.06       0.422             0.42   \n",
       "2               0.10                 0.09       0.455             0.49   \n",
       "3               0.04                 0.12       0.458             0.26   \n",
       "4               0.13                 0.09       0.471             0.61   \n",
       "\n",
       "   share_voters_voted_trump  hate_crimes_per_100k_splc  \\\n",
       "0                      0.63                   0.125839   \n",
       "1                      0.53                   0.143740   \n",
       "2                      0.50                   0.225320   \n",
       "3                      0.60                   0.069061   \n",
       "4                      0.33                   0.255805   \n",
       "\n",
       "   avg_hatecrimes_per_100k_fbi  \n",
       "0                     1.806410  \n",
       "1                     1.656700  \n",
       "2                     3.413928  \n",
       "3                     0.869209  \n",
       "4                     2.397986  "
      ]
     },
     "execution_count": 3,
     "metadata": {},
     "output_type": "execute_result"
    }
   ],
   "source": [
    "#Reading dataset\n",
    "df_crime = pd.read_csv('~/UW/IMT_574/Week5/Homework/hatecrime.csv')\n",
    "df_crime.head()"
   ]
  },
  {
   "cell_type": "code",
   "execution_count": 4,
   "metadata": {},
   "outputs": [
    {
     "data": {
      "text/plain": [
       "state                                       False\n",
       "median_household_income                     False\n",
       "share_unemployed_seasonal                   False\n",
       "share_population_in_metro_areas             False\n",
       "share_population_with_high_school_degree    False\n",
       "share_non_citizen                            True\n",
       "share_white_poverty                         False\n",
       "gini_index                                  False\n",
       "share_non_white                             False\n",
       "share_voters_voted_trump                    False\n",
       "hate_crimes_per_100k_splc                    True\n",
       "avg_hatecrimes_per_100k_fbi                  True\n",
       "dtype: bool"
      ]
     },
     "execution_count": 4,
     "metadata": {},
     "output_type": "execute_result"
    }
   ],
   "source": [
    "#Checking for missing values to impute\n",
    "df_crime.isna().any()"
   ]
  },
  {
   "cell_type": "code",
   "execution_count": 5,
   "metadata": {},
   "outputs": [
    {
     "name": "stderr",
     "output_type": "stream",
     "text": [
      "/var/folders/86/5wwfmlzj2yv_nhxq3c_g6c380000gn/T/ipykernel_4196/1084989171.py:6: FutureWarning: A value is trying to be set on a copy of a DataFrame or Series through chained assignment using an inplace method.\n",
      "The behavior will change in pandas 3.0. This inplace method will never work because the intermediate object on which we are setting values always behaves as a copy.\n",
      "\n",
      "For example, when doing 'df[col].method(value, inplace=True)', try using 'df.method({col: value}, inplace=True)' or df[col] = df[col].method(value) instead, to perform the operation inplace on the original object.\n",
      "\n",
      "\n",
      "  df_crime['hate_crimes_per_100k_splc'].fillna(value=mean_value_splc, inplace=True)\n",
      "/var/folders/86/5wwfmlzj2yv_nhxq3c_g6c380000gn/T/ipykernel_4196/1084989171.py:7: FutureWarning: A value is trying to be set on a copy of a DataFrame or Series through chained assignment using an inplace method.\n",
      "The behavior will change in pandas 3.0. This inplace method will never work because the intermediate object on which we are setting values always behaves as a copy.\n",
      "\n",
      "For example, when doing 'df[col].method(value, inplace=True)', try using 'df.method({col: value}, inplace=True)' or df[col] = df[col].method(value) instead, to perform the operation inplace on the original object.\n",
      "\n",
      "\n",
      "  df_crime['avg_hatecrimes_per_100k_fbi'].fillna(value=mean_value_fbi, inplace=True)\n",
      "/var/folders/86/5wwfmlzj2yv_nhxq3c_g6c380000gn/T/ipykernel_4196/1084989171.py:8: FutureWarning: A value is trying to be set on a copy of a DataFrame or Series through chained assignment using an inplace method.\n",
      "The behavior will change in pandas 3.0. This inplace method will never work because the intermediate object on which we are setting values always behaves as a copy.\n",
      "\n",
      "For example, when doing 'df[col].method(value, inplace=True)', try using 'df.method({col: value}, inplace=True)' or df[col] = df[col].method(value) instead, to perform the operation inplace on the original object.\n",
      "\n",
      "\n",
      "  df_crime['share_non_citizen'].fillna(value=mean_value_non_citizen, inplace=True)\n"
     ]
    }
   ],
   "source": [
    "#Imputing NaN values with mean values\n",
    "mean_value_splc = df_crime['hate_crimes_per_100k_splc'].mean() \n",
    "mean_value_fbi = df_crime['avg_hatecrimes_per_100k_fbi'].mean() \n",
    "mean_value_non_citizen = df_crime['share_non_citizen'].mean() \n",
    "\n",
    "df_crime['hate_crimes_per_100k_splc'].fillna(value=mean_value_splc, inplace=True) \n",
    "df_crime['avg_hatecrimes_per_100k_fbi'].fillna(value=mean_value_fbi, inplace=True) \n",
    "df_crime['share_non_citizen'].fillna(value=mean_value_non_citizen, inplace=True) "
   ]
  },
  {
   "cell_type": "code",
   "execution_count": 6,
   "metadata": {},
   "outputs": [],
   "source": [
    "# df2.info()"
   ]
  },
  {
   "cell_type": "markdown",
   "metadata": {},
   "source": [
    "*Shared functions*"
   ]
  },
  {
   "cell_type": "code",
   "execution_count": 7,
   "metadata": {},
   "outputs": [],
   "source": [
    "def get_metrics(y_test, y_pred, legend):\n",
    "    mse = mean_squared_error(y_test, y_pred)\n",
    "    mae  = mean_absolute_error(y_test, y_pred)\n",
    "    r2 = r2_score(y_test, y_pred)\n",
    "\n",
    "    print(legend)\n",
    "    print(f\"Mean Squared Error (MSE): {mse}\")\n",
    "    print(f\"Mean Absolute Error (MAE): {mae}\")\n",
    "    print(f\"R-squared (R2): {r2}\")"
   ]
  },
  {
   "cell_type": "markdown",
   "metadata": {},
   "source": [
    "---"
   ]
  },
  {
   "cell_type": "markdown",
   "metadata": {},
   "source": [
    "**1) How does income inequality relate to the number of hate crimes and hate incidents?**\n",
    "\n"
   ]
  },
  {
   "cell_type": "markdown",
   "metadata": {},
   "source": [
    "Using Linear Regression- Ordinary Least Squares:"
   ]
  },
  {
   "cell_type": "markdown",
   "metadata": {},
   "source": [
    "Using Gini index as feature of income inequality:\n",
    "\n",
    "*\"The Gini index, also known as the Gini coefficient or Gini ratio, is a statistical measurement of inequality in income, wealth, or consumption within a group or country\"*"
   ]
  },
  {
   "cell_type": "markdown",
   "metadata": {},
   "source": [
    "- Checking the relation between gini_index and hate_crimes_per_100k_splc and avg_hatecrimes_per_100k_fbi"
   ]
  },
  {
   "cell_type": "code",
   "execution_count": 8,
   "metadata": {},
   "outputs": [],
   "source": [
    "#Adding numeric id column for the states\n",
    "df_crime['state_id'] = df_crime.index + 1\n",
    "\n",
    "#Droping alphanumeric variable State\n",
    "df_crime.drop(['state'],axis=1, inplace = True)"
   ]
  },
  {
   "cell_type": "code",
   "execution_count": 9,
   "metadata": {},
   "outputs": [
    {
     "data": {
      "text/plain": [
       "<Axes: title={'center': 'Hate crimes per 100,000 population, FBI = Blue, SLPS = Red'}, xlabel='gini_index', ylabel='avg_hatecrimes_per_100k_fbi'>"
      ]
     },
     "execution_count": 9,
     "metadata": {},
     "output_type": "execute_result"
    },
    {
     "data": {
      "image/png": "[encoded data removed]",
      "text/plain": [
       "<Figure size 640x480 with 1 Axes>"
      ]
     },
     "metadata": {},
     "output_type": "display_data"
    }
   ],
   "source": [
    "\n",
    "sns.regplot(x='gini_index', y='hate_crimes_per_100k_splc', data=df_crime,  \n",
    "    color = 'red').set_title('Hate crimes per 100,000 population, FBI = Blue, SLPS = Red')\n",
    "\n",
    "sns.regplot(x='gini_index', y='avg_hatecrimes_per_100k_fbi', data=df_crime,  \n",
    "    color = 'blue')"
   ]
  },
  {
   "cell_type": "code",
   "execution_count": 10,
   "metadata": {},
   "outputs": [
    {
     "data": {
      "text/plain": [
       "<Axes: >"
      ]
     },
     "execution_count": 10,
     "metadata": {},
     "output_type": "execute_result"
    },
    {
     "data": {
      "image/png": "[encoded data removed]",
      "text/plain": [
       "<Figure size 640x480 with 2 Axes>"
      ]
     },
     "metadata": {},
     "output_type": "display_data"
    }
   ],
   "source": [
    "#Checking correlations\n",
    "\n",
    "corrs = df_crime.corr()\n",
    "\n",
    "sns.heatmap(corrs)"
   ]
  },
  {
   "cell_type": "markdown",
   "metadata": {},
   "source": [
    "From the graphs we see that the distributions are not so similar...It appears that the FBI dataset has more dispersion. And from the heatmap, we see that the SPLC data has more correlation to hate crimes than the FBI data. \n",
    "Nevertheless,this appears to be because the FBI dataset spans more years than the SPLC dataset, which only takes a short period of time (over a week). Since the hate crimes happened during a brief, specific period of time (US Elections), the SPLC dataset doesn't seem to be representative enough. From here I'll take the FBI data as the variable to predict, or label, instead of the SPLC that is not representational enough."
   ]
  },
  {
   "cell_type": "code",
   "execution_count": 11,
   "metadata": {},
   "outputs": [],
   "source": [
    "#Outcome or label variable (Hate Crimes per FBI)\n",
    "y = df_crime.avg_hatecrimes_per_100k_fbi\n",
    "#Features or predictor variables\n",
    "X = df_crime['gini_index']\n",
    "X=sm.add_constant(X)"
   ]
  },
  {
   "cell_type": "code",
   "execution_count": 12,
   "metadata": {},
   "outputs": [],
   "source": [
    "#Splitting the dataset in training(70%) and testing (30%) data\n",
    "X_train, X_test, y_train, y_test = train_test_split(X, y, test_size=0.3, random_state=20)\n",
    "#Trainig the model\n",
    "lr_model = sm.OLS(y_train, X_train).fit()"
   ]
  },
  {
   "cell_type": "code",
   "execution_count": 13,
   "metadata": {},
   "outputs": [
    {
     "data": {
      "text/html": [
       "<table class=\"simpletable\">\n",
       "<caption>OLS Regression Results</caption>\n",
       "<tr>\n",
       "  <th>Dep. Variable:</th>    <td>avg_hatecrimes_per_100k_fbi</td> <th>  R-squared:         </th> <td>   0.005</td>\n",
       "</tr>\n",
       "<tr>\n",
       "  <th>Model:</th>                        <td>OLS</td>             <th>  Adj. R-squared:    </th> <td>  -0.025</td>\n",
       "</tr>\n",
       "<tr>\n",
       "  <th>Method:</th>                  <td>Least Squares</td>        <th>  F-statistic:       </th> <td>  0.1782</td>\n",
       "</tr>\n",
       "<tr>\n",
       "  <th>Date:</th>                  <td>Sun, 10 Nov 2024</td>       <th>  Prob (F-statistic):</th>  <td> 0.676</td> \n",
       "</tr>\n",
       "<tr>\n",
       "  <th>Time:</th>                      <td>19:58:17</td>           <th>  Log-Likelihood:    </th> <td> -55.132</td>\n",
       "</tr>\n",
       "<tr>\n",
       "  <th>No. Observations:</th>           <td>    35</td>            <th>  AIC:               </th> <td>   114.3</td>\n",
       "</tr>\n",
       "<tr>\n",
       "  <th>Df Residuals:</th>               <td>    33</td>            <th>  BIC:               </th> <td>   117.4</td>\n",
       "</tr>\n",
       "<tr>\n",
       "  <th>Df Model:</th>                   <td>     1</td>            <th>                     </th>     <td> </td>   \n",
       "</tr>\n",
       "<tr>\n",
       "  <th>Covariance Type:</th>           <td>nonrobust</td>          <th>                     </th>     <td> </td>   \n",
       "</tr>\n",
       "</table>\n",
       "<table class=\"simpletable\">\n",
       "<tr>\n",
       "       <td></td>         <th>coef</th>     <th>std err</th>      <th>t</th>      <th>P>|t|</th>  <th>[0.025</th>    <th>0.975]</th>  \n",
       "</tr>\n",
       "<tr>\n",
       "  <th>const</th>      <td>   -0.0477</td> <td>    5.361</td> <td>   -0.009</td> <td> 0.993</td> <td>  -10.954</td> <td>   10.859</td>\n",
       "</tr>\n",
       "<tr>\n",
       "  <th>gini_index</th> <td>    4.9795</td> <td>   11.797</td> <td>    0.422</td> <td> 0.676</td> <td>  -19.022</td> <td>   28.981</td>\n",
       "</tr>\n",
       "</table>\n",
       "<table class=\"simpletable\">\n",
       "<tr>\n",
       "  <th>Omnibus:</th>       <td> 1.637</td> <th>  Durbin-Watson:     </th> <td>   1.570</td>\n",
       "</tr>\n",
       "<tr>\n",
       "  <th>Prob(Omnibus):</th> <td> 0.441</td> <th>  Jarque-Bera (JB):  </th> <td>   1.549</td>\n",
       "</tr>\n",
       "<tr>\n",
       "  <th>Skew:</th>          <td> 0.443</td> <th>  Prob(JB):          </th> <td>   0.461</td>\n",
       "</tr>\n",
       "<tr>\n",
       "  <th>Kurtosis:</th>      <td> 2.472</td> <th>  Cond. No.          </th> <td>    69.9</td>\n",
       "</tr>\n",
       "</table><br/><br/>Notes:<br/>[1] Standard Errors assume that the covariance matrix of the errors is correctly specified."
      ],
      "text/latex": [
       "\\begin{center}\n",
       "\\begin{tabular}{lclc}\n",
       "\\toprule\n",
       "\\textbf{Dep. Variable:}    & avg\\_hatecrimes\\_per\\_100k\\_fbi & \\textbf{  R-squared:         } &     0.005   \\\\\n",
       "\\textbf{Model:}            &               OLS               & \\textbf{  Adj. R-squared:    } &    -0.025   \\\\\n",
       "\\textbf{Method:}           &          Least Squares          & \\textbf{  F-statistic:       } &    0.1782   \\\\\n",
       "\\textbf{Date:}             &         Sun, 10 Nov 2024        & \\textbf{  Prob (F-statistic):} &    0.676    \\\\\n",
       "\\textbf{Time:}             &             19:58:17            & \\textbf{  Log-Likelihood:    } &   -55.132   \\\\\n",
       "\\textbf{No. Observations:} &                  35             & \\textbf{  AIC:               } &     114.3   \\\\\n",
       "\\textbf{Df Residuals:}     &                  33             & \\textbf{  BIC:               } &     117.4   \\\\\n",
       "\\textbf{Df Model:}         &                   1             & \\textbf{                     } &             \\\\\n",
       "\\textbf{Covariance Type:}  &            nonrobust            & \\textbf{                     } &             \\\\\n",
       "\\bottomrule\n",
       "\\end{tabular}\n",
       "\\begin{tabular}{lcccccc}\n",
       "                     & \\textbf{coef} & \\textbf{std err} & \\textbf{t} & \\textbf{P$> |$t$|$} & \\textbf{[0.025} & \\textbf{0.975]}  \\\\\n",
       "\\midrule\n",
       "\\textbf{const}       &      -0.0477  &        5.361     &    -0.009  &         0.993        &      -10.954    &       10.859     \\\\\n",
       "\\textbf{gini\\_index} &       4.9795  &       11.797     &     0.422  &         0.676        &      -19.022    &       28.981     \\\\\n",
       "\\bottomrule\n",
       "\\end{tabular}\n",
       "\\begin{tabular}{lclc}\n",
       "\\textbf{Omnibus:}       &  1.637 & \\textbf{  Durbin-Watson:     } &    1.570  \\\\\n",
       "\\textbf{Prob(Omnibus):} &  0.441 & \\textbf{  Jarque-Bera (JB):  } &    1.549  \\\\\n",
       "\\textbf{Skew:}          &  0.443 & \\textbf{  Prob(JB):          } &    0.461  \\\\\n",
       "\\textbf{Kurtosis:}      &  2.472 & \\textbf{  Cond. No.          } &     69.9  \\\\\n",
       "\\bottomrule\n",
       "\\end{tabular}\n",
       "%\\caption{OLS Regression Results}\n",
       "\\end{center}\n",
       "\n",
       "Notes: \\newline\n",
       " [1] Standard Errors assume that the covariance matrix of the errors is correctly specified."
      ],
      "text/plain": [
       "<class 'statsmodels.iolib.summary.Summary'>\n",
       "\"\"\"\n",
       "                                 OLS Regression Results                                \n",
       "=======================================================================================\n",
       "Dep. Variable:     avg_hatecrimes_per_100k_fbi   R-squared:                       0.005\n",
       "Model:                                     OLS   Adj. R-squared:                 -0.025\n",
       "Method:                          Least Squares   F-statistic:                    0.1782\n",
       "Date:                         Sun, 10 Nov 2024   Prob (F-statistic):              0.676\n",
       "Time:                                 19:58:17   Log-Likelihood:                -55.132\n",
       "No. Observations:                           35   AIC:                             114.3\n",
       "Df Residuals:                               33   BIC:                             117.4\n",
       "Df Model:                                    1                                         \n",
       "Covariance Type:                     nonrobust                                         \n",
       "==============================================================================\n",
       "                 coef    std err          t      P>|t|      [0.025      0.975]\n",
       "------------------------------------------------------------------------------\n",
       "const         -0.0477      5.361     -0.009      0.993     -10.954      10.859\n",
       "gini_index     4.9795     11.797      0.422      0.676     -19.022      28.981\n",
       "==============================================================================\n",
       "Omnibus:                        1.637   Durbin-Watson:                   1.570\n",
       "Prob(Omnibus):                  0.441   Jarque-Bera (JB):                1.549\n",
       "Skew:                           0.443   Prob(JB):                        0.461\n",
       "Kurtosis:                       2.472   Cond. No.                         69.9\n",
       "==============================================================================\n",
       "\n",
       "Notes:\n",
       "[1] Standard Errors assume that the covariance matrix of the errors is correctly specified.\n",
       "\"\"\""
      ]
     },
     "execution_count": 13,
     "metadata": {},
     "output_type": "execute_result"
    }
   ],
   "source": [
    "lr_model.summary()"
   ]
  },
  {
   "cell_type": "code",
   "execution_count": 14,
   "metadata": {},
   "outputs": [
    {
     "name": "stdout",
     "output_type": "stream",
     "text": [
      "Scores for Linear Regression model to predict the avg_hatecrimes_per_100k_fbi label, using gini_index as feature:\n",
      "Mean Squared Error (MSE): 5.660594541880722\n",
      "Mean Absolute Error (MAE): 1.4225796672290296\n",
      "R-squared (R2): 0.028660307918847883\n"
     ]
    }
   ],
   "source": [
    "#Testing the model\n",
    "y_pred = lr_model.predict(X_test)\n",
    "get_metrics(y_test, y_pred,\"Scores for Linear Regression model to predict the avg_hatecrimes_per_100k_fbi label, using gini_index as feature:\")"
   ]
  },
  {
   "cell_type": "markdown",
   "metadata": {},
   "source": [
    "If we quickly do the same for the SPLC:"
   ]
  },
  {
   "cell_type": "code",
   "execution_count": 15,
   "metadata": {},
   "outputs": [
    {
     "name": "stdout",
     "output_type": "stream",
     "text": [
      "Scores for Linear Regression model to predict the hate_crimes_per_100k_splc label, using gini_index as feature:\n",
      "Mean Squared Error (MSE): 0.162902639428343\n",
      "Mean Absolute Error (MAE): 0.23404615676455084\n",
      "R-squared (R2): -0.2959086813752194\n"
     ]
    }
   ],
   "source": [
    "#Outcome or label variable (Hate Crimes per FBI)\n",
    "y = df_crime.hate_crimes_per_100k_splc\n",
    "\n",
    "#Features or predictor variables\n",
    "X = df_crime['gini_index']\n",
    "X=sm.add_constant(X)\n",
    "\n",
    "#Splitting the dataset in training(70%) and testing (30%) data\n",
    "X_train, X_test, y_train, y_test = train_test_split(X, y, test_size=0.3, random_state=20)\n",
    "\n",
    "#Trainig the model\n",
    "lr_model_SLPC = sm.OLS(y_train, X_train).fit()\n",
    "\n",
    "#Testing the model\n",
    "y_pred_SLPC = lr_model_SLPC.predict(X_test)\n",
    "get_metrics(y_test, y_pred_SLPC,\"Scores for Linear Regression model to predict the hate_crimes_per_100k_splc label, using gini_index as feature:\")"
   ]
  },
  {
   "cell_type": "markdown",
   "metadata": {},
   "source": []
  },
  {
   "cell_type": "markdown",
   "metadata": {},
   "source": [
    "***The FBI average appears to give a less accurate prediction than the SPLC model, but overall it will be less prone to overfitting***\n",
    "\n",
    "For the FBI model, the MSE and MAE is higher than the SLPC model, although the R-Squared decreased. All this tells us that since the SLPC has less representational data, it's accuracy is better, but prone to overfitting and to be less accurate if we test it with data outside that US Election period"
   ]
  },
  {
   "cell_type": "markdown",
   "metadata": {},
   "source": [
    "---"
   ]
  },
  {
   "cell_type": "markdown",
   "metadata": {},
   "source": [
    "**2) How can we predict the number of hate crimes and hate incidents from race/nature of the population?**"
   ]
  },
  {
   "cell_type": "markdown",
   "metadata": {},
   "source": [
    "Using Linear Regression- Ordinary Least Squares:"
   ]
  },
  {
   "cell_type": "markdown",
   "metadata": {},
   "source": [
    "Using the FBI data, since it is more representational for the aforementioned reasons:"
   ]
  },
  {
   "cell_type": "markdown",
   "metadata": {},
   "source": [
    "*Using the share_non_white, share_white_poverty, share_non_citizen, share_population_with_high_school_degree, share_population_in_metro_areas as predictors, what we will call by race/nature:*"
   ]
  },
  {
   "cell_type": "code",
   "execution_count": 16,
   "metadata": {},
   "outputs": [],
   "source": [
    "#Outcome or label variable\n",
    "y = df_crime.avg_hatecrimes_per_100k_fbi\n",
    "\n",
    "#Features or predictor variables\n",
    "X = df_crime[['share_non_white','share_white_poverty','share_population_with_high_school_degree', 'share_population_in_metro_areas' ]]\n",
    "X= sm.add_constant(X)"
   ]
  },
  {
   "cell_type": "code",
   "execution_count": 17,
   "metadata": {},
   "outputs": [],
   "source": [
    "#Splitting the dataset in training(70%) and testing (30%) data\n",
    "X_train, X_test, y_train, y_test = train_test_split(X, y, test_size=0.3, random_state=20)"
   ]
  },
  {
   "cell_type": "code",
   "execution_count": 18,
   "metadata": {},
   "outputs": [],
   "source": [
    "#Trainig the model\n",
    "lr_model_race = sm.OLS(y_train, X_train).fit()"
   ]
  },
  {
   "cell_type": "code",
   "execution_count": 19,
   "metadata": {},
   "outputs": [
    {
     "data": {
      "text/html": [
       "<table class=\"simpletable\">\n",
       "<caption>OLS Regression Results</caption>\n",
       "<tr>\n",
       "  <th>Dep. Variable:</th>    <td>avg_hatecrimes_per_100k_fbi</td> <th>  R-squared:         </th> <td>   0.159</td>\n",
       "</tr>\n",
       "<tr>\n",
       "  <th>Model:</th>                        <td>OLS</td>             <th>  Adj. R-squared:    </th> <td>   0.047</td>\n",
       "</tr>\n",
       "<tr>\n",
       "  <th>Method:</th>                  <td>Least Squares</td>        <th>  F-statistic:       </th> <td>   1.421</td>\n",
       "</tr>\n",
       "<tr>\n",
       "  <th>Date:</th>                  <td>Sun, 10 Nov 2024</td>       <th>  Prob (F-statistic):</th>  <td> 0.251</td> \n",
       "</tr>\n",
       "<tr>\n",
       "  <th>Time:</th>                      <td>19:58:17</td>           <th>  Log-Likelihood:    </th> <td> -52.191</td>\n",
       "</tr>\n",
       "<tr>\n",
       "  <th>No. Observations:</th>           <td>    35</td>            <th>  AIC:               </th> <td>   114.4</td>\n",
       "</tr>\n",
       "<tr>\n",
       "  <th>Df Residuals:</th>               <td>    30</td>            <th>  BIC:               </th> <td>   122.2</td>\n",
       "</tr>\n",
       "<tr>\n",
       "  <th>Df Model:</th>                   <td>     4</td>            <th>                     </th>     <td> </td>   \n",
       "</tr>\n",
       "<tr>\n",
       "  <th>Covariance Type:</th>           <td>nonrobust</td>          <th>                     </th>     <td> </td>   \n",
       "</tr>\n",
       "</table>\n",
       "<table class=\"simpletable\">\n",
       "<tr>\n",
       "                      <td></td>                        <th>coef</th>     <th>std err</th>      <th>t</th>      <th>P>|t|</th>  <th>[0.025</th>    <th>0.975]</th>  \n",
       "</tr>\n",
       "<tr>\n",
       "  <th>const</th>                                    <td>   -8.2677</td> <td>   10.666</td> <td>   -0.775</td> <td> 0.444</td> <td>  -30.050</td> <td>   13.514</td>\n",
       "</tr>\n",
       "<tr>\n",
       "  <th>share_non_white</th>                          <td>   -1.1259</td> <td>    1.627</td> <td>   -0.692</td> <td> 0.494</td> <td>   -4.449</td> <td>    2.198</td>\n",
       "</tr>\n",
       "<tr>\n",
       "  <th>share_white_poverty</th>                      <td>   -2.7535</td> <td>   15.763</td> <td>   -0.175</td> <td> 0.863</td> <td>  -34.946</td> <td>   29.439</td>\n",
       "</tr>\n",
       "<tr>\n",
       "  <th>share_population_with_high_school_degree</th> <td>   11.5634</td> <td>   10.117</td> <td>    1.143</td> <td> 0.262</td> <td>   -9.099</td> <td>   32.226</td>\n",
       "</tr>\n",
       "<tr>\n",
       "  <th>share_population_in_metro_areas</th>          <td>    1.3993</td> <td>    1.492</td> <td>    0.938</td> <td> 0.356</td> <td>   -1.647</td> <td>    4.446</td>\n",
       "</tr>\n",
       "</table>\n",
       "<table class=\"simpletable\">\n",
       "<tr>\n",
       "  <th>Omnibus:</th>       <td> 0.806</td> <th>  Durbin-Watson:     </th> <td>   1.691</td>\n",
       "</tr>\n",
       "<tr>\n",
       "  <th>Prob(Omnibus):</th> <td> 0.668</td> <th>  Jarque-Bera (JB):  </th> <td>   0.829</td>\n",
       "</tr>\n",
       "<tr>\n",
       "  <th>Skew:</th>          <td> 0.192</td> <th>  Prob(JB):          </th> <td>   0.661</td>\n",
       "</tr>\n",
       "<tr>\n",
       "  <th>Kurtosis:</th>      <td> 2.351</td> <th>  Cond. No.          </th> <td>    160.</td>\n",
       "</tr>\n",
       "</table><br/><br/>Notes:<br/>[1] Standard Errors assume that the covariance matrix of the errors is correctly specified."
      ],
      "text/latex": [
       "\\begin{center}\n",
       "\\begin{tabular}{lclc}\n",
       "\\toprule\n",
       "\\textbf{Dep. Variable:}                                & avg\\_hatecrimes\\_per\\_100k\\_fbi & \\textbf{  R-squared:         } &     0.159   \\\\\n",
       "\\textbf{Model:}                                        &               OLS               & \\textbf{  Adj. R-squared:    } &     0.047   \\\\\n",
       "\\textbf{Method:}                                       &          Least Squares          & \\textbf{  F-statistic:       } &     1.421   \\\\\n",
       "\\textbf{Date:}                                         &         Sun, 10 Nov 2024        & \\textbf{  Prob (F-statistic):} &    0.251    \\\\\n",
       "\\textbf{Time:}                                         &             19:58:17            & \\textbf{  Log-Likelihood:    } &   -52.191   \\\\\n",
       "\\textbf{No. Observations:}                             &                  35             & \\textbf{  AIC:               } &     114.4   \\\\\n",
       "\\textbf{Df Residuals:}                                 &                  30             & \\textbf{  BIC:               } &     122.2   \\\\\n",
       "\\textbf{Df Model:}                                     &                   4             & \\textbf{                     } &             \\\\\n",
       "\\textbf{Covariance Type:}                              &            nonrobust            & \\textbf{                     } &             \\\\\n",
       "\\bottomrule\n",
       "\\end{tabular}\n",
       "\\begin{tabular}{lcccccc}\n",
       "                                                       & \\textbf{coef} & \\textbf{std err} & \\textbf{t} & \\textbf{P$> |$t$|$} & \\textbf{[0.025} & \\textbf{0.975]}  \\\\\n",
       "\\midrule\n",
       "\\textbf{const}                                         &      -8.2677  &       10.666     &    -0.775  &         0.444        &      -30.050    &       13.514     \\\\\n",
       "\\textbf{share\\_non\\_white}                             &      -1.1259  &        1.627     &    -0.692  &         0.494        &       -4.449    &        2.198     \\\\\n",
       "\\textbf{share\\_white\\_poverty}                         &      -2.7535  &       15.763     &    -0.175  &         0.863        &      -34.946    &       29.439     \\\\\n",
       "\\textbf{share\\_population\\_with\\_high\\_school\\_degree} &      11.5634  &       10.117     &     1.143  &         0.262        &       -9.099    &       32.226     \\\\\n",
       "\\textbf{share\\_population\\_in\\_metro\\_areas}           &       1.3993  &        1.492     &     0.938  &         0.356        &       -1.647    &        4.446     \\\\\n",
       "\\bottomrule\n",
       "\\end{tabular}\n",
       "\\begin{tabular}{lclc}\n",
       "\\textbf{Omnibus:}       &  0.806 & \\textbf{  Durbin-Watson:     } &    1.691  \\\\\n",
       "\\textbf{Prob(Omnibus):} &  0.668 & \\textbf{  Jarque-Bera (JB):  } &    0.829  \\\\\n",
       "\\textbf{Skew:}          &  0.192 & \\textbf{  Prob(JB):          } &    0.661  \\\\\n",
       "\\textbf{Kurtosis:}      &  2.351 & \\textbf{  Cond. No.          } &     160.  \\\\\n",
       "\\bottomrule\n",
       "\\end{tabular}\n",
       "%\\caption{OLS Regression Results}\n",
       "\\end{center}\n",
       "\n",
       "Notes: \\newline\n",
       " [1] Standard Errors assume that the covariance matrix of the errors is correctly specified."
      ],
      "text/plain": [
       "<class 'statsmodels.iolib.summary.Summary'>\n",
       "\"\"\"\n",
       "                                 OLS Regression Results                                \n",
       "=======================================================================================\n",
       "Dep. Variable:     avg_hatecrimes_per_100k_fbi   R-squared:                       0.159\n",
       "Model:                                     OLS   Adj. R-squared:                  0.047\n",
       "Method:                          Least Squares   F-statistic:                     1.421\n",
       "Date:                         Sun, 10 Nov 2024   Prob (F-statistic):              0.251\n",
       "Time:                                 19:58:17   Log-Likelihood:                -52.191\n",
       "No. Observations:                           35   AIC:                             114.4\n",
       "Df Residuals:                               30   BIC:                             122.2\n",
       "Df Model:                                    4                                         \n",
       "Covariance Type:                     nonrobust                                         \n",
       "============================================================================================================\n",
       "                                               coef    std err          t      P>|t|      [0.025      0.975]\n",
       "------------------------------------------------------------------------------------------------------------\n",
       "const                                       -8.2677     10.666     -0.775      0.444     -30.050      13.514\n",
       "share_non_white                             -1.1259      1.627     -0.692      0.494      -4.449       2.198\n",
       "share_white_poverty                         -2.7535     15.763     -0.175      0.863     -34.946      29.439\n",
       "share_population_with_high_school_degree    11.5634     10.117      1.143      0.262      -9.099      32.226\n",
       "share_population_in_metro_areas              1.3993      1.492      0.938      0.356      -1.647       4.446\n",
       "==============================================================================\n",
       "Omnibus:                        0.806   Durbin-Watson:                   1.691\n",
       "Prob(Omnibus):                  0.668   Jarque-Bera (JB):                0.829\n",
       "Skew:                           0.192   Prob(JB):                        0.661\n",
       "Kurtosis:                       2.351   Cond. No.                         160.\n",
       "==============================================================================\n",
       "\n",
       "Notes:\n",
       "[1] Standard Errors assume that the covariance matrix of the errors is correctly specified.\n",
       "\"\"\""
      ]
     },
     "execution_count": 19,
     "metadata": {},
     "output_type": "execute_result"
    }
   ],
   "source": [
    "lr_model_race.summary()"
   ]
  },
  {
   "cell_type": "markdown",
   "metadata": {},
   "source": [
    "The p-value for *share_population_with_high_school_degree* is very low (p-value=0.005 < alpha=0.05), so we cannot reject the null hyphotesis and we can discard the feature since it's not statistically significant. The rest of the features appear to be statistically significant."
   ]
  },
  {
   "cell_type": "code",
   "execution_count": 20,
   "metadata": {},
   "outputs": [
    {
     "data": {
      "text/html": [
       "<table class=\"simpletable\">\n",
       "<caption>OLS Regression Results</caption>\n",
       "<tr>\n",
       "  <th>Dep. Variable:</th>    <td>avg_hatecrimes_per_100k_fbi</td> <th>  R-squared:         </th> <td>   0.123</td>\n",
       "</tr>\n",
       "<tr>\n",
       "  <th>Model:</th>                        <td>OLS</td>             <th>  Adj. R-squared:    </th> <td>   0.038</td>\n",
       "</tr>\n",
       "<tr>\n",
       "  <th>Method:</th>                  <td>Least Squares</td>        <th>  F-statistic:       </th> <td>   1.444</td>\n",
       "</tr>\n",
       "<tr>\n",
       "  <th>Date:</th>                  <td>Sun, 10 Nov 2024</td>       <th>  Prob (F-statistic):</th>  <td> 0.249</td> \n",
       "</tr>\n",
       "<tr>\n",
       "  <th>Time:</th>                      <td>19:58:17</td>           <th>  Log-Likelihood:    </th> <td> -52.937</td>\n",
       "</tr>\n",
       "<tr>\n",
       "  <th>No. Observations:</th>           <td>    35</td>            <th>  AIC:               </th> <td>   113.9</td>\n",
       "</tr>\n",
       "<tr>\n",
       "  <th>Df Residuals:</th>               <td>    31</td>            <th>  BIC:               </th> <td>   120.1</td>\n",
       "</tr>\n",
       "<tr>\n",
       "  <th>Df Model:</th>                   <td>     3</td>            <th>                     </th>     <td> </td>   \n",
       "</tr>\n",
       "<tr>\n",
       "  <th>Covariance Type:</th>           <td>nonrobust</td>          <th>                     </th>     <td> </td>   \n",
       "</tr>\n",
       "</table>\n",
       "<table class=\"simpletable\">\n",
       "<tr>\n",
       "                 <td></td>                    <th>coef</th>     <th>std err</th>      <th>t</th>      <th>P>|t|</th>  <th>[0.025</th>    <th>0.975]</th>  \n",
       "</tr>\n",
       "<tr>\n",
       "  <th>const</th>                           <td>    3.7638</td> <td>    1.721</td> <td>    2.187</td> <td> 0.036</td> <td>    0.253</td> <td>    7.274</td>\n",
       "</tr>\n",
       "<tr>\n",
       "  <th>share_non_white</th>                 <td>   -2.0640</td> <td>    1.412</td> <td>   -1.462</td> <td> 0.154</td> <td>   -4.944</td> <td>    0.816</td>\n",
       "</tr>\n",
       "<tr>\n",
       "  <th>share_white_poverty</th>             <td>  -15.2384</td> <td>   11.420</td> <td>   -1.334</td> <td> 0.192</td> <td>  -38.530</td> <td>    8.053</td>\n",
       "</tr>\n",
       "<tr>\n",
       "  <th>share_population_in_metro_areas</th> <td>    0.7024</td> <td>    1.368</td> <td>    0.513</td> <td> 0.611</td> <td>   -2.088</td> <td>    3.493</td>\n",
       "</tr>\n",
       "</table>\n",
       "<table class=\"simpletable\">\n",
       "<tr>\n",
       "  <th>Omnibus:</th>       <td> 1.693</td> <th>  Durbin-Watson:     </th> <td>   1.734</td>\n",
       "</tr>\n",
       "<tr>\n",
       "  <th>Prob(Omnibus):</th> <td> 0.429</td> <th>  Jarque-Bera (JB):  </th> <td>   1.304</td>\n",
       "</tr>\n",
       "<tr>\n",
       "  <th>Skew:</th>          <td> 0.263</td> <th>  Prob(JB):          </th> <td>   0.521</td>\n",
       "</tr>\n",
       "<tr>\n",
       "  <th>Kurtosis:</th>      <td> 2.214</td> <th>  Cond. No.          </th> <td>    76.1</td>\n",
       "</tr>\n",
       "</table><br/><br/>Notes:<br/>[1] Standard Errors assume that the covariance matrix of the errors is correctly specified."
      ],
      "text/latex": [
       "\\begin{center}\n",
       "\\begin{tabular}{lclc}\n",
       "\\toprule\n",
       "\\textbf{Dep. Variable:}                      & avg\\_hatecrimes\\_per\\_100k\\_fbi & \\textbf{  R-squared:         } &     0.123   \\\\\n",
       "\\textbf{Model:}                              &               OLS               & \\textbf{  Adj. R-squared:    } &     0.038   \\\\\n",
       "\\textbf{Method:}                             &          Least Squares          & \\textbf{  F-statistic:       } &     1.444   \\\\\n",
       "\\textbf{Date:}                               &         Sun, 10 Nov 2024        & \\textbf{  Prob (F-statistic):} &    0.249    \\\\\n",
       "\\textbf{Time:}                               &             19:58:17            & \\textbf{  Log-Likelihood:    } &   -52.937   \\\\\n",
       "\\textbf{No. Observations:}                   &                  35             & \\textbf{  AIC:               } &     113.9   \\\\\n",
       "\\textbf{Df Residuals:}                       &                  31             & \\textbf{  BIC:               } &     120.1   \\\\\n",
       "\\textbf{Df Model:}                           &                   3             & \\textbf{                     } &             \\\\\n",
       "\\textbf{Covariance Type:}                    &            nonrobust            & \\textbf{                     } &             \\\\\n",
       "\\bottomrule\n",
       "\\end{tabular}\n",
       "\\begin{tabular}{lcccccc}\n",
       "                                             & \\textbf{coef} & \\textbf{std err} & \\textbf{t} & \\textbf{P$> |$t$|$} & \\textbf{[0.025} & \\textbf{0.975]}  \\\\\n",
       "\\midrule\n",
       "\\textbf{const}                               &       3.7638  &        1.721     &     2.187  &         0.036        &        0.253    &        7.274     \\\\\n",
       "\\textbf{share\\_non\\_white}                   &      -2.0640  &        1.412     &    -1.462  &         0.154        &       -4.944    &        0.816     \\\\\n",
       "\\textbf{share\\_white\\_poverty}               &     -15.2384  &       11.420     &    -1.334  &         0.192        &      -38.530    &        8.053     \\\\\n",
       "\\textbf{share\\_population\\_in\\_metro\\_areas} &       0.7024  &        1.368     &     0.513  &         0.611        &       -2.088    &        3.493     \\\\\n",
       "\\bottomrule\n",
       "\\end{tabular}\n",
       "\\begin{tabular}{lclc}\n",
       "\\textbf{Omnibus:}       &  1.693 & \\textbf{  Durbin-Watson:     } &    1.734  \\\\\n",
       "\\textbf{Prob(Omnibus):} &  0.429 & \\textbf{  Jarque-Bera (JB):  } &    1.304  \\\\\n",
       "\\textbf{Skew:}          &  0.263 & \\textbf{  Prob(JB):          } &    0.521  \\\\\n",
       "\\textbf{Kurtosis:}      &  2.214 & \\textbf{  Cond. No.          } &     76.1  \\\\\n",
       "\\bottomrule\n",
       "\\end{tabular}\n",
       "%\\caption{OLS Regression Results}\n",
       "\\end{center}\n",
       "\n",
       "Notes: \\newline\n",
       " [1] Standard Errors assume that the covariance matrix of the errors is correctly specified."
      ],
      "text/plain": [
       "<class 'statsmodels.iolib.summary.Summary'>\n",
       "\"\"\"\n",
       "                                 OLS Regression Results                                \n",
       "=======================================================================================\n",
       "Dep. Variable:     avg_hatecrimes_per_100k_fbi   R-squared:                       0.123\n",
       "Model:                                     OLS   Adj. R-squared:                  0.038\n",
       "Method:                          Least Squares   F-statistic:                     1.444\n",
       "Date:                         Sun, 10 Nov 2024   Prob (F-statistic):              0.249\n",
       "Time:                                 19:58:17   Log-Likelihood:                -52.937\n",
       "No. Observations:                           35   AIC:                             113.9\n",
       "Df Residuals:                               31   BIC:                             120.1\n",
       "Df Model:                                    3                                         \n",
       "Covariance Type:                     nonrobust                                         \n",
       "===================================================================================================\n",
       "                                      coef    std err          t      P>|t|      [0.025      0.975]\n",
       "---------------------------------------------------------------------------------------------------\n",
       "const                               3.7638      1.721      2.187      0.036       0.253       7.274\n",
       "share_non_white                    -2.0640      1.412     -1.462      0.154      -4.944       0.816\n",
       "share_white_poverty               -15.2384     11.420     -1.334      0.192     -38.530       8.053\n",
       "share_population_in_metro_areas     0.7024      1.368      0.513      0.611      -2.088       3.493\n",
       "==============================================================================\n",
       "Omnibus:                        1.693   Durbin-Watson:                   1.734\n",
       "Prob(Omnibus):                  0.429   Jarque-Bera (JB):                1.304\n",
       "Skew:                           0.263   Prob(JB):                        0.521\n",
       "Kurtosis:                       2.214   Cond. No.                         76.1\n",
       "==============================================================================\n",
       "\n",
       "Notes:\n",
       "[1] Standard Errors assume that the covariance matrix of the errors is correctly specified.\n",
       "\"\"\""
      ]
     },
     "execution_count": 20,
     "metadata": {},
     "output_type": "execute_result"
    }
   ],
   "source": [
    "#Resplitting dataset, discarding high school degree data\n",
    "y = df_crime.avg_hatecrimes_per_100k_fbi\n",
    "X = df_crime[['share_non_white','share_white_poverty', 'share_population_in_metro_areas' ]]\n",
    "X= sm.add_constant(X)\n",
    "#Splitting the dataset in training(70%) and testing (30%) data\n",
    "X_train, X_test, y_train, y_test, = train_test_split(X, y, test_size=0.3, random_state=20)\n",
    "#Trainig the model\n",
    "lr_model_race = sm.OLS(y_train, X_train,).fit()\n",
    "lr_model_race.summary()"
   ]
  },
  {
   "cell_type": "code",
   "execution_count": 21,
   "metadata": {},
   "outputs": [
    {
     "name": "stdout",
     "output_type": "stream",
     "text": [
      "Scores for Linear Regression model to predict the avg_hatecrimes_per_100k_fbi label, using gini_index as feature:\n",
      "Mean Squared Error (MSE): 5.978632375113639\n",
      "Mean Absolute Error (MAE): 1.4826772451664332\n",
      "R-squared (R2): -0.02591395432816679\n"
     ]
    }
   ],
   "source": [
    "y_pred_race= lr_model_race.predict(X_test)\n",
    "get_metrics(y_test, y_pred_race,\"Scores for Linear Regression model to predict the avg_hatecrimes_per_100k_fbi label, using gini_index as feature:\")"
   ]
  },
  {
   "cell_type": "markdown",
   "metadata": {},
   "source": [
    "All the  race/nature features taken into consideration (share_non_white,share_white_poverty, share_population_in_metro_areas) appear to be statistically significant to predict the average annual hate crimes per 100,000 population, FBI, 2010-2015. This can also be seeing in the previous heatmap."
   ]
  },
  {
   "cell_type": "markdown",
   "metadata": {},
   "source": [
    "---"
   ]
  },
  {
   "cell_type": "markdown",
   "metadata": {},
   "source": [
    "**3) How does the number of hate crimes vary across states? Is there any similarity in number of hate incidents (per 100,000 people) between some states than in others — both according to the SPLC after the election and the FBI before it?**"
   ]
  },
  {
   "cell_type": "markdown",
   "metadata": {},
   "source": [
    "*For FBI data:*"
   ]
  },
  {
   "cell_type": "code",
   "execution_count": 22,
   "metadata": {},
   "outputs": [
    {
     "data": {
      "image/png": "[encoded data removed]",
      "text/plain": [
       "<Figure size 640x480 with 1 Axes>"
      ]
     },
     "metadata": {},
     "output_type": "display_data"
    }
   ],
   "source": [
    "plt.scatter(df_crime.state_id, df_crime.avg_hatecrimes_per_100k_fbi, color = 'b')\n",
    "\n",
    "plt.scatter(df_crime.state_id, df_crime.hate_crimes_per_100k_splc, color = 'r')\n",
    "\n",
    "plt.title('Number of Hate Crimes by States, from FBI and SLPC data')\n",
    "plt.xlabel(\"State Id\")\n",
    "plt.ylabel(\"Hate Crimes Per FBI (Blue) and SLPC (Red)\")\n",
    "\n",
    "plt.grid(color = 'k', linestyle = '--', linewidth = 0.2)\n",
    "plt.show()"
   ]
  },
  {
   "cell_type": "markdown",
   "metadata": {},
   "source": [
    "From the scatterplot, we see that the distribution of the SLPC data remains flat accross states, while the FBI data appears to be more dispersed accross states. From this graph it appears that the state with more crimes is state_id =9 (District of Columbia)...It appears that there are some states where hate crime is not so rampant, such as Iowa, Pennsylvania, Wyoming and Texas, although there is no visible pattern of why (these states are not geographically neighbors)."
   ]
  },
  {
   "cell_type": "markdown",
   "metadata": {},
   "source": [
    "*Using K-Means clustering*"
   ]
  },
  {
   "cell_type": "code",
   "execution_count": 23,
   "metadata": {},
   "outputs": [
    {
     "data": {
      "text/html": [
       "<style>#sk-container-id-1 {\n",
       "  /* Definition of color scheme common for light and dark mode */\n",
       "  --sklearn-color-text: black;\n",
       "  --sklearn-color-line: gray;\n",
       "  /* Definition of color scheme for unfitted estimators */\n",
       "  --sklearn-color-unfitted-level-0: #fff5e6;\n",
       "  --sklearn-color-unfitted-level-1: #f6e4d2;\n",
       "  --sklearn-color-unfitted-level-2: #ffe0b3;\n",
       "  --sklearn-color-unfitted-level-3: chocolate;\n",
       "  /* Definition of color scheme for fitted estimators */\n",
       "  --sklearn-color-fitted-level-0: #f0f8ff;\n",
       "  --sklearn-color-fitted-level-1: #d4ebff;\n",
       "  --sklearn-color-fitted-level-2: #b3dbfd;\n",
       "  --sklearn-color-fitted-level-3: cornflowerblue;\n",
       "\n",
       "  /* Specific color for light theme */\n",
       "  --sklearn-color-text-on-default-background: var(--sg-text-color, var(--theme-code-foreground, var(--jp-content-font-color1, black)));\n",
       "  --sklearn-color-background: var(--sg-background-color, var(--theme-background, var(--jp-layout-color0, white)));\n",
       "  --sklearn-color-border-box: var(--sg-text-color, var(--theme-code-foreground, var(--jp-content-font-color1, black)));\n",
       "  --sklearn-color-icon: #696969;\n",
       "\n",
       "  @media (prefers-color-scheme: dark) {\n",
       "    /* Redefinition of color scheme for dark theme */\n",
       "    --sklearn-color-text-on-default-background: var(--sg-text-color, var(--theme-code-foreground, var(--jp-content-font-color1, white)));\n",
       "    --sklearn-color-background: var(--sg-background-color, var(--theme-background, var(--jp-layout-color0, #111)));\n",
       "    --sklearn-color-border-box: var(--sg-text-color, var(--theme-code-foreground, var(--jp-content-font-color1, white)));\n",
       "    --sklearn-color-icon: #878787;\n",
       "  }\n",
       "}\n",
       "\n",
       "#sk-container-id-1 {\n",
       "  color: var(--sklearn-color-text);\n",
       "}\n",
       "\n",
       "#sk-container-id-1 pre {\n",
       "  padding: 0;\n",
       "}\n",
       "\n",
       "#sk-container-id-1 input.sk-hidden--visually {\n",
       "  border: 0;\n",
       "  clip: rect(1px 1px 1px 1px);\n",
       "  clip: rect(1px, 1px, 1px, 1px);\n",
       "  height: 1px;\n",
       "  margin: -1px;\n",
       "  overflow: hidden;\n",
       "  padding: 0;\n",
       "  position: absolute;\n",
       "  width: 1px;\n",
       "}\n",
       "\n",
       "#sk-container-id-1 div.sk-dashed-wrapped {\n",
       "  border: 1px dashed var(--sklearn-color-line);\n",
       "  margin: 0 0.4em 0.5em 0.4em;\n",
       "  box-sizing: border-box;\n",
       "  padding-bottom: 0.4em;\n",
       "  background-color: var(--sklearn-color-background);\n",
       "}\n",
       "\n",
       "#sk-container-id-1 div.sk-container {\n",
       "  /* jupyter's `normalize.less` sets `[hidden] { display: none; }`\n",
       "     but bootstrap.min.css set `[hidden] { display: none !important; }`\n",
       "     so we also need the `!important` here to be able to override the\n",
       "     default hidden behavior on the sphinx rendered scikit-learn.org.\n",
       "     See: https://github.com/scikit-learn/scikit-learn/issues/21755 */\n",
       "  display: inline-block !important;\n",
       "  position: relative;\n",
       "}\n",
       "\n",
       "#sk-container-id-1 div.sk-text-repr-fallback {\n",
       "  display: none;\n",
       "}\n",
       "\n",
       "div.sk-parallel-item,\n",
       "div.sk-serial,\n",
       "div.sk-item {\n",
       "  /* draw centered vertical line to link estimators */\n",
       "  background-image: linear-gradient(var(--sklearn-color-text-on-default-background), var(--sklearn-color-text-on-default-background));\n",
       "  background-size: 2px 100%;\n",
       "  background-repeat: no-repeat;\n",
       "  background-position: center center;\n",
       "}\n",
       "\n",
       "/* Parallel-specific style estimator block */\n",
       "\n",
       "#sk-container-id-1 div.sk-parallel-item::after {\n",
       "  content: \"\";\n",
       "  width: 100%;\n",
       "  border-bottom: 2px solid var(--sklearn-color-text-on-default-background);\n",
       "  flex-grow: 1;\n",
       "}\n",
       "\n",
       "#sk-container-id-1 div.sk-parallel {\n",
       "  display: flex;\n",
       "  align-items: stretch;\n",
       "  justify-content: center;\n",
       "  background-color: var(--sklearn-color-background);\n",
       "  position: relative;\n",
       "}\n",
       "\n",
       "#sk-container-id-1 div.sk-parallel-item {\n",
       "  display: flex;\n",
       "  flex-direction: column;\n",
       "}\n",
       "\n",
       "#sk-container-id-1 div.sk-parallel-item:first-child::after {\n",
       "  align-self: flex-end;\n",
       "  width: 50%;\n",
       "}\n",
       "\n",
       "#sk-container-id-1 div.sk-parallel-item:last-child::after {\n",
       "  align-self: flex-start;\n",
       "  width: 50%;\n",
       "}\n",
       "\n",
       "#sk-container-id-1 div.sk-parallel-item:only-child::after {\n",
       "  width: 0;\n",
       "}\n",
       "\n",
       "/* Serial-specific style estimator block */\n",
       "\n",
       "#sk-container-id-1 div.sk-serial {\n",
       "  display: flex;\n",
       "  flex-direction: column;\n",
       "  align-items: center;\n",
       "  background-color: var(--sklearn-color-background);\n",
       "  padding-right: 1em;\n",
       "  padding-left: 1em;\n",
       "}\n",
       "\n",
       "\n",
       "/* Toggleable style: style used for estimator/Pipeline/ColumnTransformer box that is\n",
       "clickable and can be expanded/collapsed.\n",
       "- Pipeline and ColumnTransformer use this feature and define the default style\n",
       "- Estimators will overwrite some part of the style using the `sk-estimator` class\n",
       "*/\n",
       "\n",
       "/* Pipeline and ColumnTransformer style (default) */\n",
       "\n",
       "#sk-container-id-1 div.sk-toggleable {\n",
       "  /* Default theme specific background. It is overwritten whether we have a\n",
       "  specific estimator or a Pipeline/ColumnTransformer */\n",
       "  background-color: var(--sklearn-color-background);\n",
       "}\n",
       "\n",
       "/* Toggleable label */\n",
       "#sk-container-id-1 label.sk-toggleable__label {\n",
       "  cursor: pointer;\n",
       "  display: block;\n",
       "  width: 100%;\n",
       "  margin-bottom: 0;\n",
       "  padding: 0.5em;\n",
       "  box-sizing: border-box;\n",
       "  text-align: center;\n",
       "}\n",
       "\n",
       "#sk-container-id-1 label.sk-toggleable__label-arrow:before {\n",
       "  /* Arrow on the left of the label */\n",
       "  content: \"▸\";\n",
       "  float: left;\n",
       "  margin-right: 0.25em;\n",
       "  color: var(--sklearn-color-icon);\n",
       "}\n",
       "\n",
       "#sk-container-id-1 label.sk-toggleable__label-arrow:hover:before {\n",
       "  color: var(--sklearn-color-text);\n",
       "}\n",
       "\n",
       "/* Toggleable content - dropdown */\n",
       "\n",
       "#sk-container-id-1 div.sk-toggleable__content {\n",
       "  max-height: 0;\n",
       "  max-width: 0;\n",
       "  overflow: hidden;\n",
       "  text-align: left;\n",
       "  /* unfitted */\n",
       "  background-color: var(--sklearn-color-unfitted-level-0);\n",
       "}\n",
       "\n",
       "#sk-container-id-1 div.sk-toggleable__content.fitted {\n",
       "  /* fitted */\n",
       "  background-color: var(--sklearn-color-fitted-level-0);\n",
       "}\n",
       "\n",
       "#sk-container-id-1 div.sk-toggleable__content pre {\n",
       "  margin: 0.2em;\n",
       "  border-radius: 0.25em;\n",
       "  color: var(--sklearn-color-text);\n",
       "  /* unfitted */\n",
       "  background-color: var(--sklearn-color-unfitted-level-0);\n",
       "}\n",
       "\n",
       "#sk-container-id-1 div.sk-toggleable__content.fitted pre {\n",
       "  /* unfitted */\n",
       "  background-color: var(--sklearn-color-fitted-level-0);\n",
       "}\n",
       "\n",
       "#sk-container-id-1 input.sk-toggleable__control:checked~div.sk-toggleable__content {\n",
       "  /* Expand drop-down */\n",
       "  max-height: 200px;\n",
       "  max-width: 100%;\n",
       "  overflow: auto;\n",
       "}\n",
       "\n",
       "#sk-container-id-1 input.sk-toggleable__control:checked~label.sk-toggleable__label-arrow:before {\n",
       "  content: \"▾\";\n",
       "}\n",
       "\n",
       "/* Pipeline/ColumnTransformer-specific style */\n",
       "\n",
       "#sk-container-id-1 div.sk-label input.sk-toggleable__control:checked~label.sk-toggleable__label {\n",
       "  color: var(--sklearn-color-text);\n",
       "  background-color: var(--sklearn-color-unfitted-level-2);\n",
       "}\n",
       "\n",
       "#sk-container-id-1 div.sk-label.fitted input.sk-toggleable__control:checked~label.sk-toggleable__label {\n",
       "  background-color: var(--sklearn-color-fitted-level-2);\n",
       "}\n",
       "\n",
       "/* Estimator-specific style */\n",
       "\n",
       "/* Colorize estimator box */\n",
       "#sk-container-id-1 div.sk-estimator input.sk-toggleable__control:checked~label.sk-toggleable__label {\n",
       "  /* unfitted */\n",
       "  background-color: var(--sklearn-color-unfitted-level-2);\n",
       "}\n",
       "\n",
       "#sk-container-id-1 div.sk-estimator.fitted input.sk-toggleable__control:checked~label.sk-toggleable__label {\n",
       "  /* fitted */\n",
       "  background-color: var(--sklearn-color-fitted-level-2);\n",
       "}\n",
       "\n",
       "#sk-container-id-1 div.sk-label label.sk-toggleable__label,\n",
       "#sk-container-id-1 div.sk-label label {\n",
       "  /* The background is the default theme color */\n",
       "  color: var(--sklearn-color-text-on-default-background);\n",
       "}\n",
       "\n",
       "/* On hover, darken the color of the background */\n",
       "#sk-container-id-1 div.sk-label:hover label.sk-toggleable__label {\n",
       "  color: var(--sklearn-color-text);\n",
       "  background-color: var(--sklearn-color-unfitted-level-2);\n",
       "}\n",
       "\n",
       "/* Label box, darken color on hover, fitted */\n",
       "#sk-container-id-1 div.sk-label.fitted:hover label.sk-toggleable__label.fitted {\n",
       "  color: var(--sklearn-color-text);\n",
       "  background-color: var(--sklearn-color-fitted-level-2);\n",
       "}\n",
       "\n",
       "/* Estimator label */\n",
       "\n",
       "#sk-container-id-1 div.sk-label label {\n",
       "  font-family: monospace;\n",
       "  font-weight: bold;\n",
       "  display: inline-block;\n",
       "  line-height: 1.2em;\n",
       "}\n",
       "\n",
       "#sk-container-id-1 div.sk-label-container {\n",
       "  text-align: center;\n",
       "}\n",
       "\n",
       "/* Estimator-specific */\n",
       "#sk-container-id-1 div.sk-estimator {\n",
       "  font-family: monospace;\n",
       "  border: 1px dotted var(--sklearn-color-border-box);\n",
       "  border-radius: 0.25em;\n",
       "  box-sizing: border-box;\n",
       "  margin-bottom: 0.5em;\n",
       "  /* unfitted */\n",
       "  background-color: var(--sklearn-color-unfitted-level-0);\n",
       "}\n",
       "\n",
       "#sk-container-id-1 div.sk-estimator.fitted {\n",
       "  /* fitted */\n",
       "  background-color: var(--sklearn-color-fitted-level-0);\n",
       "}\n",
       "\n",
       "/* on hover */\n",
       "#sk-container-id-1 div.sk-estimator:hover {\n",
       "  /* unfitted */\n",
       "  background-color: var(--sklearn-color-unfitted-level-2);\n",
       "}\n",
       "\n",
       "#sk-container-id-1 div.sk-estimator.fitted:hover {\n",
       "  /* fitted */\n",
       "  background-color: var(--sklearn-color-fitted-level-2);\n",
       "}\n",
       "\n",
       "/* Specification for estimator info (e.g. \"i\" and \"?\") */\n",
       "\n",
       "/* Common style for \"i\" and \"?\" */\n",
       "\n",
       ".sk-estimator-doc-link,\n",
       "a:link.sk-estimator-doc-link,\n",
       "a:visited.sk-estimator-doc-link {\n",
       "  float: right;\n",
       "  font-size: smaller;\n",
       "  line-height: 1em;\n",
       "  font-family: monospace;\n",
       "  background-color: var(--sklearn-color-background);\n",
       "  border-radius: 1em;\n",
       "  height: 1em;\n",
       "  width: 1em;\n",
       "  text-decoration: none !important;\n",
       "  margin-left: 1ex;\n",
       "  /* unfitted */\n",
       "  border: var(--sklearn-color-unfitted-level-1) 1pt solid;\n",
       "  color: var(--sklearn-color-unfitted-level-1);\n",
       "}\n",
       "\n",
       ".sk-estimator-doc-link.fitted,\n",
       "a:link.sk-estimator-doc-link.fitted,\n",
       "a:visited.sk-estimator-doc-link.fitted {\n",
       "  /* fitted */\n",
       "  border: var(--sklearn-color-fitted-level-1) 1pt solid;\n",
       "  color: var(--sklearn-color-fitted-level-1);\n",
       "}\n",
       "\n",
       "/* On hover */\n",
       "div.sk-estimator:hover .sk-estimator-doc-link:hover,\n",
       ".sk-estimator-doc-link:hover,\n",
       "div.sk-label-container:hover .sk-estimator-doc-link:hover,\n",
       ".sk-estimator-doc-link:hover {\n",
       "  /* unfitted */\n",
       "  background-color: var(--sklearn-color-unfitted-level-3);\n",
       "  color: var(--sklearn-color-background);\n",
       "  text-decoration: none;\n",
       "}\n",
       "\n",
       "div.sk-estimator.fitted:hover .sk-estimator-doc-link.fitted:hover,\n",
       ".sk-estimator-doc-link.fitted:hover,\n",
       "div.sk-label-container:hover .sk-estimator-doc-link.fitted:hover,\n",
       ".sk-estimator-doc-link.fitted:hover {\n",
       "  /* fitted */\n",
       "  background-color: var(--sklearn-color-fitted-level-3);\n",
       "  color: var(--sklearn-color-background);\n",
       "  text-decoration: none;\n",
       "}\n",
       "\n",
       "/* Span, style for the box shown on hovering the info icon */\n",
       ".sk-estimator-doc-link span {\n",
       "  display: none;\n",
       "  z-index: 9999;\n",
       "  position: relative;\n",
       "  font-weight: normal;\n",
       "  right: .2ex;\n",
       "  padding: .5ex;\n",
       "  margin: .5ex;\n",
       "  width: min-content;\n",
       "  min-width: 20ex;\n",
       "  max-width: 50ex;\n",
       "  color: var(--sklearn-color-text);\n",
       "  box-shadow: 2pt 2pt 4pt #999;\n",
       "  /* unfitted */\n",
       "  background: var(--sklearn-color-unfitted-level-0);\n",
       "  border: .5pt solid var(--sklearn-color-unfitted-level-3);\n",
       "}\n",
       "\n",
       ".sk-estimator-doc-link.fitted span {\n",
       "  /* fitted */\n",
       "  background: var(--sklearn-color-fitted-level-0);\n",
       "  border: var(--sklearn-color-fitted-level-3);\n",
       "}\n",
       "\n",
       ".sk-estimator-doc-link:hover span {\n",
       "  display: block;\n",
       "}\n",
       "\n",
       "/* \"?\"-specific style due to the `<a>` HTML tag */\n",
       "\n",
       "#sk-container-id-1 a.estimator_doc_link {\n",
       "  float: right;\n",
       "  font-size: 1rem;\n",
       "  line-height: 1em;\n",
       "  font-family: monospace;\n",
       "  background-color: var(--sklearn-color-background);\n",
       "  border-radius: 1rem;\n",
       "  height: 1rem;\n",
       "  width: 1rem;\n",
       "  text-decoration: none;\n",
       "  /* unfitted */\n",
       "  color: var(--sklearn-color-unfitted-level-1);\n",
       "  border: var(--sklearn-color-unfitted-level-1) 1pt solid;\n",
       "}\n",
       "\n",
       "#sk-container-id-1 a.estimator_doc_link.fitted {\n",
       "  /* fitted */\n",
       "  border: var(--sklearn-color-fitted-level-1) 1pt solid;\n",
       "  color: var(--sklearn-color-fitted-level-1);\n",
       "}\n",
       "\n",
       "/* On hover */\n",
       "#sk-container-id-1 a.estimator_doc_link:hover {\n",
       "  /* unfitted */\n",
       "  background-color: var(--sklearn-color-unfitted-level-3);\n",
       "  color: var(--sklearn-color-background);\n",
       "  text-decoration: none;\n",
       "}\n",
       "\n",
       "#sk-container-id-1 a.estimator_doc_link.fitted:hover {\n",
       "  /* fitted */\n",
       "  background-color: var(--sklearn-color-fitted-level-3);\n",
       "}\n",
       "</style><div id=\"sk-container-id-1\" class=\"sk-top-container\"><div class=\"sk-text-repr-fallback\"><pre>KMeans(n_clusters=4, random_state=30)</pre><b>In a Jupyter environment, please rerun this cell to show the HTML representation or trust the notebook. <br />On GitHub, the HTML representation is unable to render, please try loading this page with nbviewer.org.</b></div><div class=\"sk-container\" hidden><div class=\"sk-item\"><div class=\"sk-estimator fitted sk-toggleable\"><input class=\"sk-toggleable__control sk-hidden--visually\" id=\"sk-estimator-id-1\" type=\"checkbox\" checked><label for=\"sk-estimator-id-1\" class=\"sk-toggleable__label fitted sk-toggleable__label-arrow fitted\">&nbsp;&nbsp;KMeans<a class=\"sk-estimator-doc-link fitted\" rel=\"noreferrer\" target=\"_blank\" href=\"https://scikit-learn.org/1.5/modules/generated/sklearn.cluster.KMeans.html\">?<span>Documentation for KMeans</span></a><span class=\"sk-estimator-doc-link fitted\">i<span>Fitted</span></span></label><div class=\"sk-toggleable__content fitted\"><pre>KMeans(n_clusters=4, random_state=30)</pre></div> </div></div></div></div>"
      ],
      "text/plain": [
       "KMeans(n_clusters=4, random_state=30)"
      ]
     },
     "execution_count": 23,
     "metadata": {},
     "output_type": "execute_result"
    }
   ],
   "source": [
    "# Cluster algorithm using K=4\n",
    "num_clusters = 4\n",
    "clusters_k4=KMeans(num_clusters,random_state=30).fit(df_crime)\n",
    "clusters_k4"
   ]
  },
  {
   "cell_type": "code",
   "execution_count": 24,
   "metadata": {},
   "outputs": [
    {
     "data": {
      "text/plain": [
       "array([2, 1, 3, 2, 0, 0, 1, 0, 1, 3, 3, 1, 0, 0, 3, 0, 0, 2, 2, 3, 1, 1,\n",
       "       3, 1, 2, 0, 3, 0, 3, 1, 1, 3, 0, 3, 0, 3, 3, 0, 0, 0, 2, 0, 2, 0,\n",
       "       1, 0, 1, 0, 2, 0, 0], dtype=int32)"
      ]
     },
     "execution_count": 24,
     "metadata": {},
     "output_type": "execute_result"
    }
   ],
   "source": [
    "clusters_k4.labels_"
   ]
  },
  {
   "cell_type": "code",
   "execution_count": 25,
   "metadata": {},
   "outputs": [
    {
     "name": "stderr",
     "output_type": "stream",
     "text": [
      "/var/folders/86/5wwfmlzj2yv_nhxq3c_g6c380000gn/T/ipykernel_4196/2059141769.py:3: SettingWithCopyWarning: \n",
      "A value is trying to be set on a copy of a slice from a DataFrame.\n",
      "Try using .loc[row_indexer,col_indexer] = value instead\n",
      "\n",
      "See the caveats in the documentation: https://pandas.pydata.org/pandas-docs/stable/user_guide/indexing.html#returning-a-view-versus-a-copy\n",
      "  df_crime_clustered['cluster_id']=clusters_k4.labels_\n"
     ]
    }
   ],
   "source": [
    "#Adding column to datatset with ClusterIds and dropping unnecessary columns\n",
    "df_crime_clustered=df_crime[['state_id', 'hate_crimes_per_100k_splc', 'avg_hatecrimes_per_100k_fbi']]\n",
    "df_crime_clustered['cluster_id']=clusters_k4.labels_"
   ]
  },
  {
   "cell_type": "code",
   "execution_count": 26,
   "metadata": {},
   "outputs": [
    {
     "name": "stdout",
     "output_type": "stream",
     "text": [
      "Centroids for clusters when K=4:\n"
     ]
    },
    {
     "data": {
      "text/plain": [
       "array([[5.70126000e+04, 4.51500000e-02, 7.35500000e-01, 8.79200000e-01,\n",
       "        5.52291667e-02, 8.75000000e-02, 4.49150000e-01, 2.72500000e-01,\n",
       "        4.89000000e-01, 3.05494904e-01, 2.05122092e+00, 2.99500000e+01],\n",
       "       [6.83661818e+04, 4.73636364e-02, 8.50909091e-01, 8.93363636e-01,\n",
       "        6.81818182e-02, 6.36363636e-02, 4.54363636e-01, 3.82727273e-01,\n",
       "        3.84545455e-01, 4.23991609e-01, 3.55615053e+00, 2.27272727e+01],\n",
       "       [4.20137500e+04, 5.87500000e-02, 6.63750000e-01, 8.22875000e-01,\n",
       "        3.05729167e-02, 1.28750000e-01, 4.64875000e-01, 2.90000000e-01,\n",
       "        6.08750000e-01, 1.79373349e-01, 1.99470152e+00, 2.50000000e+01],\n",
       "       [4.90011667e+04, 5.28333333e-02, 7.40000000e-01, 8.60916667e-01,\n",
       "        5.70486111e-02, 1.00000000e-01, 4.53500000e-01, 3.43333333e-01,\n",
       "        5.09166667e-01, 2.74995740e-01, 2.05404808e+00, 2.30833333e+01]])"
      ]
     },
     "execution_count": 26,
     "metadata": {},
     "output_type": "execute_result"
    }
   ],
   "source": [
    "# Compute the centroids for K=4 clusters with 11 variables\n",
    "print('Centroids for clusters when K=4:')\n",
    "clusters_k4.cluster_centers_"
   ]
  },
  {
   "cell_type": "code",
   "execution_count": 27,
   "metadata": {},
   "outputs": [
    {
     "data": {
      "text/plain": [
       "array([3, 3, 3, 3, 3, 3, 3, 3, 3, 3, 3, 1, 1, 1, 1, 1, 1, 1, 1, 1, 1, 1,\n",
       "       1, 1, 0, 0, 0, 0, 0, 0, 0, 0, 0, 0, 0, 0, 0, 0, 2, 2, 2, 2, 2, 2,\n",
       "       2, 2, 2, 2, 2, 2, 2], dtype=int32)"
      ]
     },
     "execution_count": 27,
     "metadata": {},
     "output_type": "execute_result"
    }
   ],
   "source": [
    "y_pred_k_means= clusters_k4.fit_predict(df_crime_clustered)\n",
    "y_pred_k_means"
   ]
  },
  {
   "cell_type": "code",
   "execution_count": 28,
   "metadata": {},
   "outputs": [
    {
     "data": {
      "image/png": "[encoded data removed]",
      "text/plain": [
       "<Figure size 640x480 with 1 Axes>"
      ]
     },
     "metadata": {},
     "output_type": "display_data"
    }
   ],
   "source": [
    "fig, ax = plt.subplots()\n",
    "plt.xticks(np.arange(0,54,2))\n",
    "plt.axis([0, 51, 0, 12])\n",
    "scatter = ax.scatter(df_crime['state_id'], df_crime_clustered['avg_hatecrimes_per_100k_fbi'],c = y_pred_k_means, cmap='rainbow', s=100,\n",
    "               alpha=0.3)\n",
    "\n",
    "legend1 = ax.legend(*scatter.legend_elements(),\n",
    "                    loc=\"upper right\", title=\"Cluster Id\")\n",
    "\n",
    "ax.add_artist(legend1)\n",
    "\n",
    "ax.set_title('Clusters of Number of Hate Crimes by States,FBI, using K Means')\n",
    "ax.set_xlabel('State Id' )\n",
    "ax.set_ylabel('AVG annual hate crimes per 100K population, FBI, 2010-2015')\n",
    "\n",
    "\n",
    "plt.show()"
   ]
  },
  {
   "cell_type": "markdown",
   "metadata": {},
   "source": [
    "From this grasph, we see that the distribution of heate crimes accross states is diverse. In some states the hate crimes per 100K are higher than other states, and it shoots up through the roof in one case (State Id=9, District of Columbia). "
   ]
  }
 ],
 "metadata": {
  "kernelspec": {
   "display_name": "Python 3 (ipykernel)",
   "language": "python",
   "name": "python3"
  }
 },
 "nbformat": 4,
 "nbformat_minor": 2
}
