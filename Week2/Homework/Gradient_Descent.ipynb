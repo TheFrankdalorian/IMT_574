{
 "cells": [
  {
   "cell_type": "code",
   "execution_count": 71,
   "metadata": {},
   "outputs": [],
   "source": [
    "import numpy as np\n",
    "import pandas as pd\n",
    "import matplotlib.pyplot as plt\n",
    "import statsmodels.api as sm"
   ]
  },
  {
   "cell_type": "code",
   "execution_count": 72,
   "metadata": {},
   "outputs": [],
   "source": [
    "#Loading the dataset\n",
    "# X = nasal length of the Kangaroos in mm \n",
    "# Y = nasal width of the Kangaroos in mm\n",
    "\n",
    "df_kangaroo = pd.read_csv('~/IMT_574/Week2/Homework/kangaroos_nasal_dimension_data.csv')\n",
    "data_for_model_kangaroo = df_kangaroo.copy()"
   ]
  },
  {
   "cell_type": "code",
   "execution_count": 73,
   "metadata": {},
   "outputs": [
    {
     "data": {
      "text/html": [
       "<div>\n",
       "<style scoped>\n",
       "    .dataframe tbody tr th:only-of-type {\n",
       "        vertical-align: middle;\n",
       "    }\n",
       "\n",
       "    .dataframe tbody tr th {\n",
       "        vertical-align: top;\n",
       "    }\n",
       "\n",
       "    .dataframe thead th {\n",
       "        text-align: right;\n",
       "    }\n",
       "</style>\n",
       "<table border=\"1\" class=\"dataframe\">\n",
       "  <thead>\n",
       "    <tr style=\"text-align: right;\">\n",
       "      <th></th>\n",
       "      <th>nasal_length</th>\n",
       "      <th>nasal_width</th>\n",
       "    </tr>\n",
       "  </thead>\n",
       "  <tbody>\n",
       "    <tr>\n",
       "      <th>0</th>\n",
       "      <td>609</td>\n",
       "      <td>241</td>\n",
       "    </tr>\n",
       "    <tr>\n",
       "      <th>1</th>\n",
       "      <td>629</td>\n",
       "      <td>222</td>\n",
       "    </tr>\n",
       "    <tr>\n",
       "      <th>2</th>\n",
       "      <td>620</td>\n",
       "      <td>233</td>\n",
       "    </tr>\n",
       "    <tr>\n",
       "      <th>3</th>\n",
       "      <td>564</td>\n",
       "      <td>207</td>\n",
       "    </tr>\n",
       "    <tr>\n",
       "      <th>4</th>\n",
       "      <td>645</td>\n",
       "      <td>247</td>\n",
       "    </tr>\n",
       "  </tbody>\n",
       "</table>\n",
       "</div>"
      ],
      "text/plain": [
       "   nasal_length  nasal_width\n",
       "0           609          241\n",
       "1           629          222\n",
       "2           620          233\n",
       "3           564          207\n",
       "4           645          247"
      ]
     },
     "execution_count": 73,
     "metadata": {},
     "output_type": "execute_result"
    }
   ],
   "source": [
    "data_for_model_kangaroo = data_for_model_kangaroo.rename(columns={'X': 'nasal_length', 'Y': 'nasal_width'})\n",
    "data_for_model_kangaroo.head()"
   ]
  },
  {
   "cell_type": "code",
   "execution_count": 74,
   "metadata": {},
   "outputs": [],
   "source": [
    "#Setting regressor and outcome vars\n",
    "X = data_for_model_kangaroo.nasal_length\n",
    "Y = data_for_model_kangaroo.nasal_width\n",
    "X = sm.add_constant(1)"
   ]
  },
  {
   "cell_type": "code",
   "execution_count": 75,
   "metadata": {},
   "outputs": [],
   "source": [
    "\n",
    "import numpy as np\n",
    "import matplotlib.pyplot as plt\n",
    " \n",
    "def mse(y_true, y_predicted):\n",
    "     \n",
    "    # Calculating the loss or cost\n",
    "    cost = np.sum((y_true-y_predicted)**2) / len(y_true)\n",
    "    return cost\n",
    " \n",
    "# Gradient Descent Function\n",
    "# Here iterations, learning_rate, stopping_threshold\n",
    "# are hyperparameters that can be tuned\n",
    "def gradient_descent(x, y, iterations = 1000, learning_rate = 0.01, \n",
    "                     stopping_threshold = 1e-6):\n",
    "     \n",
    "    # Initializing weight, bias, learning rate and iterations\n",
    "    current_weight = 0.1\n",
    "    current_bias = 0.01\n",
    "    iterations = iterations\n",
    "    learning_rate = learning_rate\n",
    "    n = float(len(x))\n",
    "     \n",
    "    costs = []\n",
    "    weights = []\n",
    "    previous_cost = None\n",
    "     \n",
    "    for i in range(iterations):\n",
    "         \n",
    "        y_predicted = (current_weight * x) + current_bias\n",
    "         \n",
    "        current_cost = mse(y, y_predicted)\n",
    " \n",
    "        if previous_cost and abs(previous_cost-current_cost)<=stopping_threshold:\n",
    "            break\n",
    "         \n",
    "        previous_cost = current_cost\n",
    " \n",
    "        costs.append(current_cost)\n",
    "        weights.append(current_weight)\n",
    "         \n",
    "        weight_derivative = -(2/n) * sum(x * (y-y_predicted))\n",
    "        bias_derivative = -(2/n) * sum(y-y_predicted)\n",
    "         \n",
    "        current_weight = current_weight - (learning_rate * weight_derivative)\n",
    "        current_bias = current_bias - (learning_rate * bias_derivative)\n",
    "                 \n",
    "        print(f\"Iteration {i+1}: Cost {current_cost}, Weight \\\n",
    "        {current_weight}, Bias {current_bias}\")\n",
    "     \n",
    "     \n",
    "    # Visualizing the weights and cost at for all iterations\n",
    "    plt.figure(figsize = (8,6))\n",
    "    plt.plot(weights, costs)\n",
    "    plt.scatter(weights, costs, marker='o', color='red')\n",
    "    plt.title(\"Cost vs Weights\")\n",
    "    plt.ylabel(\"Cost\")\n",
    "    plt.xlabel(\"Weight\")\n",
    "    plt.show()\n",
    "     \n",
    "    return current_weight, current_bias\n",
    "     "
   ]
  },
  {
   "cell_type": "code",
   "execution_count": 76,
   "metadata": {},
   "outputs": [
    {
     "name": "stdout",
     "output_type": "stream",
     "text": [
      "Iteration 1: Cost 31261.68134444445, Weight         2443.0534977777784, Bias 3.5181111111111107\n",
      "Iteration 2: Cost 2869483505844.1826, Weight         -23491872.236402553, Bias -33578.7686274489\n",
      "Iteration 3: Cost 2.653987721965396e+20, Weight         225925485957.03415, Bias 322933357.19591856\n",
      "Iteration 4: Cost 2.4546754893621006e+28, Weight         -2172765283331650.0, Bias -3105707106242.37\n",
      "Iteration 5: Cost 2.270331436805957e+36, Weight         2.0895867309792903e+19, Bias 2.986813352227941e+16\n",
      "Iteration 6: Cost 2.0998314666387483e+44, Weight         -2.0095924487478263e+23, Bias -2.8724711300418096e+20\n",
      "Iteration 7: Cost 1.9421358999853782e+52, Weight         1.9326605353067344e+27, Bias 2.7625061963677676e+24\n",
      "Iteration 8: Cost 1.7962831369746903e+60, Weight         -1.8586737559944039e+31, Bias -2.6567509783324542e+28\n",
      "Iteration 9: Cost 1.6613837930723216e+68, Weight         1.787519364167102e+35, Bias 2.5550443181452297e+32\n",
      "Iteration 10: Cost 1.5366152757700056e+76, Weight         -1.7190889293871213e+39, Bias -2.457231227513754e+36\n",
      "Iteration 11: Cost 1.4212167685609195e+84, Weight         1.6532781721882893e+43, Bias 2.363162651461118e+40\n",
      "Iteration 12: Cost 1.3144845916142426e+92, Weight         -1.5899868051670367e+47, Bias -2.2726952411846167e+44\n",
      "Iteration 13: Cost 1.2157679108591233e+100, Weight         1.529118380156878e+51, Bias 2.1856911356100063e+48\n",
      "Iteration 14: Cost 1.1244647693128132e+108, Weight         -1.4705801412534072e+55, Bias -2.1020177513083859e+52\n",
      "Iteration 15: Cost 1.0400184164527047e+116, Weight         1.4142828834658445e+59, Bias 2.021547580455556e+56\n",
      "Iteration 16: Cost 9.619139132494173e+123, Weight         -1.3601408167797328e+63, Bias -1.9441579965259584e+60\n",
      "Iteration 17: Cost 8.896749921590311e+131, Weight         1.3080714354236307e+67, Bias 1.869731067425117e+64\n",
      "Iteration 18: Cost 8.228611529272434e+139, Weight         -1.2579953921405862e+71, Bias -1.7981533757757998e+68\n",
      "Iteration 19: Cost 7.6106497649618e+147, Weight         1.2098363772727929e+75, Bias 1.729315846084052e+72\n",
      "Iteration 20: Cost 7.039096406345298e+155, Weight         -1.163521002475167e+79, Bias -1.6631135785217192e+76\n",
      "Iteration 21: Cost 6.510466221417566e+163, Weight         1.1189786888806437e+83, Bias 1.5994456890721647e+80\n",
      "Iteration 22: Cost 6.021535716148261e+171, Weight         -1.0761415595467674e+87, Bias -1.5382151557955795e+84\n",
      "Iteration 23: Cost 5.569323478181609e+179, Weight         1.0349443360196791e+91, Bias 1.4793286709796277e+88\n",
      "Iteration 24: Cost 5.151071996707427e+187, Weight         -9.953242388578763e+94, Bias -1.4226964989500988e+92\n",
      "Iteration 25: Cost 4.764230847644472e+195, Weight         9.572208919641584e+98, Bias 1.3682323393249108e+96\n",
      "Iteration 26: Cost 4.406441141602312e+203, Weight         -9.205762305799674e+102, Bias -1.3158531955030712e+100\n",
      "Iteration 27: Cost 4.0755211397880687e+211, Weight         8.853344128019233e+106, Bias 1.2654792481881798e+104\n",
      "Iteration 28: Cost 3.769452950146431e+219, Weight         -8.51441734485712e+110, Bias -1.217033733753762e+108\n",
      "Iteration 29: Cost 3.486370222608267e+227, Weight         8.18846547407654e+114, Bias 1.1704428272650492e+112\n",
      "Iteration 30: Cost 3.2245467684156784e+235, Weight         -7.874991805592392e+118, Bias -1.125635529978971e+116\n",
      "Iteration 31: Cost 2.982386034126099e+243, Weight         7.573518644546905e+122, Bias 1.0825435611509042e+120\n",
      "Iteration 32: Cost 2.7584113661097877e+251, Weight         -7.28358658336215e+126, Bias -1.0411012539833159e+124\n",
      "Iteration 33: Cost 2.551257006175333e+259, Weight         7.004753801660038e+130, Bias 1.0012454555577384e+128\n",
      "Iteration 34: Cost 2.3596597634160328e+267, Weight         -6.73659539298307e+134, Bias -9.629154305975771e+131\n",
      "Iteration 35: Cost 2.182451311493608e+275, Weight         6.478702717289766e+138, Bias 9.260527689151141e+135\n",
      "Iteration 36: Cost 2.018551064389355e+283, Weight         -6.230682778238111e+142, Bias -8.906012964016432e+139\n",
      "Iteration 37: Cost 1.866959587180386e+291, Weight         5.992157624308023e+146, Bias 8.565069894251282e+143\n",
      "Iteration 38: Cost 1.726752501660982e+299, Weight         -5.76276377285029e+150, Bias -8.237178925049032e+147\n",
      "Iteration 39: Cost inf, Weight         5.542151656184236e+154, Bias 7.921840391379923e+151\n",
      "Iteration 40: Cost inf, Weight         -5.32998508890009e+158, Bias -7.618573756563733e+155\n",
      "Iteration 41: Cost inf, Weight         5.1259407555542565e+162, Bias 7.326916879991698e+159\n",
      "Iteration 42: Cost inf, Weight         -4.9297077179768196e+166, Bias -7.046425312881754e+163\n",
      "Iteration 43: Cost inf, Weight         4.740986941440469e+170, Bias 6.776671620993869e+167\n",
      "Iteration 44: Cost inf, Weight         -4.559490838968792e+174, Bias -6.517244733273498e+171\n",
      "Iteration 45: Cost inf, Weight         4.384942833089509e+178, Bias 6.267749315430436e+175\n",
      "Iteration 46: Cost inf, Weight         -4.217076934364833e+182, Bias -6.027805167498547e+179\n",
      "Iteration 47: Cost inf, Weight         4.055637336056665e+186, Bias 5.7970466444583565e+183\n",
      "Iteration 48: Cost inf, Weight         -3.9003780243089604e+190, Bias -5.575122099039549e+187\n",
      "Iteration 49: Cost inf, Weight         3.751062403253238e+194, Bias 5.361693345854254e+191\n",
      "Iteration 50: Cost inf, Weight         -3.6074629344659115e+198, Bias -5.156435146044658e+195\n",
      "Iteration 51: Cost inf, Weight         3.469360790228056e+202, Bias 4.9590347116594234e+199\n",
      "Iteration 52: Cost inf, Weight         -3.336545520059197e+206, Bias -4.769191229003789e+203\n",
      "Iteration 53: Cost inf, Weight         3.208814730016968e+210, Bias 4.5866154002369413e+207\n",
      "Iteration 54: Cost inf, Weight         -3.085973774273934e+214, Bias -4.411029002518104e+211\n",
      "Iteration 55: Cost inf, Weight         2.967835458501574e+218, Bias 4.2421644640295565e+215\n",
      "Iteration 56: Cost inf, Weight         -2.854219754609418e+222, Bias -4.0797644562304884e+219\n",
      "Iteration 57: Cost inf, Weight         2.744953526404647e+226, Bias 3.9235815017203163e+223\n",
      "Iteration 58: Cost inf, Weight         -2.639870265754078e+230, Bias -3.773377597113941e+227\n",
      "Iteration 59: Cost inf, Weight         2.5388098388464984e+234, Bias 3.628923850354191e+231\n",
      "Iteration 60: Cost inf, Weight         -2.4416182421686597e+238, Bias -3.4900001319088316e+235\n",
      "Iteration 61: Cost inf, Weight         2.3481473678230925e+242, Bias 3.356394739320547e+239\n",
      "Iteration 62: Cost inf, Weight         -2.2582547778301037e+246, Bias -3.2279040745987344e+243\n",
      "Iteration 63: Cost inf, Weight         2.1718034870700244e+250, Bias 3.1043323339615166e+247\n",
      "Iteration 64: Cost inf, Weight         -2.088661754534932e+254, Bias -2.9854912094551414e+251\n",
      "Iteration 65: Cost inf, Weight         2.0087028825717535e+258, Bias 2.8711996019960997e+255\n",
      "Iteration 66: Cost inf, Weight         -1.9318050238108038e+262, Bias -2.761283345398651e+259\n",
      "Iteration 67: Cost inf, Weight         1.8578509954855673e+266, Bias 2.655574940967245e+263\n",
      "Iteration 68: Cost inf, Weight         -1.78672810086074e+270, Bias -2.553913302249344e+267\n",
      "Iteration 69: Cost inf, Weight         1.7183279574964307e+274, Bias 2.456143509559725e+271\n",
      "Iteration 70: Cost inf, Weight         -1.652546332086814e+278, Bias -2.362116573902156e+275\n",
      "Iteration 71: Cost inf, Weight         1.589282981621543e+282, Bias 2.271689209928709e+279\n",
      "Iteration 72: Cost inf, Weight         -1.528441500627875e+286, Bias -2.184723617590724e+283\n",
      "Iteration 73: Cost inf, Weight         1.4699291742607331e+290, Bias 2.101087272148679e+287\n",
      "Iteration 74: Cost inf, Weight         -1.4136568370168184e+294, Bias -2.020652722220985e+291\n",
      "Iteration 75: Cost inf, Weight         1.3595387368574797e+298, Bias 1.9432973955639446e+295\n",
      "Iteration 76: Cost inf, Weight         -1.3074924045332805e+302, Bias -1.8689034122868984e+299\n",
      "Iteration 77: Cost inf, Weight         inf, Bias 1.7973574052179496e+303\n",
      "Iteration 78: Cost inf, Weight         nan, Bias -inf\n",
      "Iteration 79: Cost 0.0, Weight         nan, Bias nan\n",
      "Iteration 80: Cost 0.0, Weight         nan, Bias nan\n",
      "Iteration 81: Cost 0.0, Weight         nan, Bias nan\n",
      "Iteration 82: Cost 0.0, Weight         nan, Bias nan\n",
      "Iteration 83: Cost 0.0, Weight         nan, Bias nan\n",
      "Iteration 84: Cost 0.0, Weight         nan, Bias nan\n",
      "Iteration 85: Cost 0.0, Weight         nan, Bias nan\n",
      "Iteration 86: Cost 0.0, Weight         nan, Bias nan\n",
      "Iteration 87: Cost 0.0, Weight         nan, Bias nan\n",
      "Iteration 88: Cost 0.0, Weight         nan, Bias nan\n",
      "Iteration 89: Cost 0.0, Weight         nan, Bias nan\n",
      "Iteration 90: Cost 0.0, Weight         nan, Bias nan\n",
      "Iteration 91: Cost 0.0, Weight         nan, Bias nan\n",
      "Iteration 92: Cost 0.0, Weight         nan, Bias nan\n",
      "Iteration 93: Cost 0.0, Weight         nan, Bias nan\n",
      "Iteration 94: Cost 0.0, Weight         nan, Bias nan\n",
      "Iteration 95: Cost 0.0, Weight         nan, Bias nan\n",
      "Iteration 96: Cost 0.0, Weight         nan, Bias nan\n",
      "Iteration 97: Cost 0.0, Weight         nan, Bias nan\n",
      "Iteration 98: Cost 0.0, Weight         nan, Bias nan\n",
      "Iteration 99: Cost 0.0, Weight         nan, Bias nan\n",
      "Iteration 100: Cost 0.0, Weight         nan, Bias nan\n"
     ]
    },
    {
     "name": "stderr",
     "output_type": "stream",
     "text": [
      "/opt/anaconda3/lib/python3.11/site-packages/numpy/core/_methods.py:49: RuntimeWarning: overflow encountered in reduce\n",
      "  return umr_sum(a, axis, dtype, out, keepdims, initial, where)\n",
      "/var/folders/cq/0jb064816rn07k67cjcpfx700000gn/T/ipykernel_1086/857849829.py:39: RuntimeWarning: invalid value encountered in scalar subtract\n",
      "  if previous_cost and abs(previous_cost-current_cost)<=stopping_threshold:\n"
     ]
    },
    {
     "data": {
      "image/png": "[encoded data removed]",
      "text/plain": [
       "<Figure size 800x600 with 1 Axes>"
      ]
     },
     "metadata": {},
     "output_type": "display_data"
    },
    {
     "name": "stdout",
     "output_type": "stream",
     "text": [
      "Estimated Weight: nan\n",
      "Estimated Bias: nan\n"
     ]
    },
    {
     "data": {
      "image/png": "[encoded data removed]",
      "text/plain": [
       "<Figure size 800x600 with 1 Axes>"
      ]
     },
     "metadata": {},
     "output_type": "display_data"
    }
   ],
   "source": [
    "#Setting regressor and outcome vars\n",
    "X = data_for_model_kangaroo.nasal_length\n",
    "y = data_for_model_kangaroo.nasal_width\n",
    "     \n",
    " \n",
    "# Estimating weight and bias using gradient descent\n",
    "estimated_weight, estimated_bias = gradient_descent(X, Y, iterations=100)\n",
    "print(f\"Estimated Weight: {estimated_weight}\\nEstimated Bias: {estimated_bias}\")\n",
    " \n",
    "# Making predictions using estimated parameters\n",
    "Y_pred = estimated_weight*X + estimated_bias\n",
    "\n",
    " \n",
    "# Plotting the regression line\n",
    "plt.figure(figsize = (8,6))\n",
    "plt.scatter(X, y, marker='o', color='red')\n",
    "plt.plot([min(X), max(X)], [min(Y_pred), max(Y_pred)], color='blue',markerfacecolor='red',\n",
    "             markersize=10,linestyle='dashed')\n",
    "plt.xlabel(\"X\")\n",
    "plt.ylabel(\"y\")\n",
    "plt.show()"
   ]
  },
  {
   "cell_type": "markdown",
   "metadata": {},
   "source": [
    "--------------------\n"
   ]
  },
  {
   "cell_type": "code",
   "execution_count": 77,
   "metadata": {},
   "outputs": [],
   "source": [
    "#Setting regressor and outcome vars\n",
    "X = data_for_model_kangaroo.nasal_length\n",
    "y = data_for_model_kangaroo.nasal_width\n",
    "X = sm.add_constant(X)\n",
    "     "
   ]
  },
  {
   "cell_type": "code",
   "execution_count": 78,
   "metadata": {},
   "outputs": [],
   "source": [
    "from sklearn.model_selection import train_test_split\n",
    "X_train, X_test, Y_train, Y_test = train_test_split(X, y, test_size = 0.33, random_state = 5)"
   ]
  },
  {
   "cell_type": "code",
   "execution_count": 79,
   "metadata": {},
   "outputs": [
    {
     "data": {
      "text/html": [
       "<style>#sk-container-id-5 {color: black;background-color: white;}#sk-container-id-5 pre{padding: 0;}#sk-container-id-5 div.sk-toggleable {background-color: white;}#sk-container-id-5 label.sk-toggleable__label {cursor: pointer;display: block;width: 100%;margin-bottom: 0;padding: 0.3em;box-sizing: border-box;text-align: center;}#sk-container-id-5 label.sk-toggleable__label-arrow:before {content: \"▸\";float: left;margin-right: 0.25em;color: #696969;}#sk-container-id-5 label.sk-toggleable__label-arrow:hover:before {color: black;}#sk-container-id-5 div.sk-estimator:hover label.sk-toggleable__label-arrow:before {color: black;}#sk-container-id-5 div.sk-toggleable__content {max-height: 0;max-width: 0;overflow: hidden;text-align: left;background-color: #f0f8ff;}#sk-container-id-5 div.sk-toggleable__content pre {margin: 0.2em;color: black;border-radius: 0.25em;background-color: #f0f8ff;}#sk-container-id-5 input.sk-toggleable__control:checked~div.sk-toggleable__content {max-height: 200px;max-width: 100%;overflow: auto;}#sk-container-id-5 input.sk-toggleable__control:checked~label.sk-toggleable__label-arrow:before {content: \"▾\";}#sk-container-id-5 div.sk-estimator input.sk-toggleable__control:checked~label.sk-toggleable__label {background-color: #d4ebff;}#sk-container-id-5 div.sk-label input.sk-toggleable__control:checked~label.sk-toggleable__label {background-color: #d4ebff;}#sk-container-id-5 input.sk-hidden--visually {border: 0;clip: rect(1px 1px 1px 1px);clip: rect(1px, 1px, 1px, 1px);height: 1px;margin: -1px;overflow: hidden;padding: 0;position: absolute;width: 1px;}#sk-container-id-5 div.sk-estimator {font-family: monospace;background-color: #f0f8ff;border: 1px dotted black;border-radius: 0.25em;box-sizing: border-box;margin-bottom: 0.5em;}#sk-container-id-5 div.sk-estimator:hover {background-color: #d4ebff;}#sk-container-id-5 div.sk-parallel-item::after {content: \"\";width: 100%;border-bottom: 1px solid gray;flex-grow: 1;}#sk-container-id-5 div.sk-label:hover label.sk-toggleable__label {background-color: #d4ebff;}#sk-container-id-5 div.sk-serial::before {content: \"\";position: absolute;border-left: 1px solid gray;box-sizing: border-box;top: 0;bottom: 0;left: 50%;z-index: 0;}#sk-container-id-5 div.sk-serial {display: flex;flex-direction: column;align-items: center;background-color: white;padding-right: 0.2em;padding-left: 0.2em;position: relative;}#sk-container-id-5 div.sk-item {position: relative;z-index: 1;}#sk-container-id-5 div.sk-parallel {display: flex;align-items: stretch;justify-content: center;background-color: white;position: relative;}#sk-container-id-5 div.sk-item::before, #sk-container-id-5 div.sk-parallel-item::before {content: \"\";position: absolute;border-left: 1px solid gray;box-sizing: border-box;top: 0;bottom: 0;left: 50%;z-index: -1;}#sk-container-id-5 div.sk-parallel-item {display: flex;flex-direction: column;z-index: 1;position: relative;background-color: white;}#sk-container-id-5 div.sk-parallel-item:first-child::after {align-self: flex-end;width: 50%;}#sk-container-id-5 div.sk-parallel-item:last-child::after {align-self: flex-start;width: 50%;}#sk-container-id-5 div.sk-parallel-item:only-child::after {width: 0;}#sk-container-id-5 div.sk-dashed-wrapped {border: 1px dashed gray;margin: 0 0.4em 0.5em 0.4em;box-sizing: border-box;padding-bottom: 0.4em;background-color: white;}#sk-container-id-5 div.sk-label label {font-family: monospace;font-weight: bold;display: inline-block;line-height: 1.2em;}#sk-container-id-5 div.sk-label-container {text-align: center;}#sk-container-id-5 div.sk-container {/* jupyter's `normalize.less` sets `[hidden] { display: none; }` but bootstrap.min.css set `[hidden] { display: none !important; }` so we also need the `!important` here to be able to override the default hidden behavior on the sphinx rendered scikit-learn.org. See: https://github.com/scikit-learn/scikit-learn/issues/21755 */display: inline-block !important;position: relative;}#sk-container-id-5 div.sk-text-repr-fallback {display: none;}</style><div id=\"sk-container-id-5\" class=\"sk-top-container\"><div class=\"sk-text-repr-fallback\"><pre>Pipeline(steps=[(&#x27;standardscaler&#x27;, StandardScaler()),\n",
       "                (&#x27;sgdregressor&#x27;, SGDRegressor())])</pre><b>In a Jupyter environment, please rerun this cell to show the HTML representation or trust the notebook. <br />On GitHub, the HTML representation is unable to render, please try loading this page with nbviewer.org.</b></div><div class=\"sk-container\" hidden><div class=\"sk-item sk-dashed-wrapped\"><div class=\"sk-label-container\"><div class=\"sk-label sk-toggleable\"><input class=\"sk-toggleable__control sk-hidden--visually\" id=\"sk-estimator-id-13\" type=\"checkbox\" ><label for=\"sk-estimator-id-13\" class=\"sk-toggleable__label sk-toggleable__label-arrow\">Pipeline</label><div class=\"sk-toggleable__content\"><pre>Pipeline(steps=[(&#x27;standardscaler&#x27;, StandardScaler()),\n",
       "                (&#x27;sgdregressor&#x27;, SGDRegressor())])</pre></div></div></div><div class=\"sk-serial\"><div class=\"sk-item\"><div class=\"sk-estimator sk-toggleable\"><input class=\"sk-toggleable__control sk-hidden--visually\" id=\"sk-estimator-id-14\" type=\"checkbox\" ><label for=\"sk-estimator-id-14\" class=\"sk-toggleable__label sk-toggleable__label-arrow\">StandardScaler</label><div class=\"sk-toggleable__content\"><pre>StandardScaler()</pre></div></div></div><div class=\"sk-item\"><div class=\"sk-estimator sk-toggleable\"><input class=\"sk-toggleable__control sk-hidden--visually\" id=\"sk-estimator-id-15\" type=\"checkbox\" ><label for=\"sk-estimator-id-15\" class=\"sk-toggleable__label sk-toggleable__label-arrow\">SGDRegressor</label><div class=\"sk-toggleable__content\"><pre>SGDRegressor()</pre></div></div></div></div></div></div></div>"
      ],
      "text/plain": [
       "Pipeline(steps=[('standardscaler', StandardScaler()),\n",
       "                ('sgdregressor', SGDRegressor())])"
      ]
     },
     "execution_count": 79,
     "metadata": {},
     "output_type": "execute_result"
    }
   ],
   "source": [
    "import numpy as np\n",
    "from sklearn.linear_model import SGDRegressor\n",
    "from sklearn.pipeline import make_pipeline\n",
    "from sklearn.preprocessing import StandardScaler\n",
    "n_samples, n_features = 10, 5\n",
    "rng = np.random.RandomState(0)\n",
    "sgd = make_pipeline(StandardScaler(),SGDRegressor(max_iter=1000, tol=1e-3)) # Always scale the input. The most convenient way is to use a pipeline.\n",
    "#sgd = SGDRegressor(max_iter=1000,learning_rate='constant',eta0=0.01)\n",
    "sgd.fit(X_train, Y_train)"
   ]
  },
  {
   "cell_type": "code",
   "execution_count": 90,
   "metadata": {},
   "outputs": [
    {
     "name": "stdout",
     "output_type": "stream",
     "text": [
      "Pipeline(steps=[('standardscaler', StandardScaler()),\n",
      "                ('sgdregressor', SGDRegressor())])\n"
     ]
    }
   ],
   "source": [
    "print(sgd)"
   ]
  },
  {
   "cell_type": "code",
   "execution_count": 81,
   "metadata": {},
   "outputs": [],
   "source": [
    "#Get predictions from SGD on training and on test data\n",
    "y_pred_train_sgd = sgd.predict(X_train)\n",
    "y_pred_test_sgd  = sgd.predict(X_test)"
   ]
  },
  {
   "cell_type": "code",
   "execution_count": 82,
   "metadata": {},
   "outputs": [
    {
     "data": {
      "text/plain": [
       "array([250.17341598, 254.12547475, 203.96472883, 203.6607243 ,\n",
       "       284.52592683, 203.05271526, 216.42891418, 228.28509049,\n",
       "       213.38886897, 225.24504528, 182.07640333, 217.34092774,\n",
       "       213.69287349, 220.68497747, 294.86208053])"
      ]
     },
     "execution_count": 82,
     "metadata": {},
     "output_type": "execute_result"
    }
   ],
   "source": [
    "y_pred_test_sgd"
   ]
  },
  {
   "cell_type": "code",
   "execution_count": 83,
   "metadata": {},
   "outputs": [
    {
     "name": "stdout",
     "output_type": "stream",
     "text": [
      "R-square, Training, SGD:  0.7203123823988404\n",
      "R-square, Training, SGD:  0.8128544264506912\n"
     ]
    }
   ],
   "source": [
    "from sklearn.metrics import mean_squared_error, mean_absolute_error, r2_score\n",
    "# print('R-square, Training, Linear Regression: ', r2_score(Y_train,Y_pred_train)) #R-Squared from linear regression, on the training data\n",
    "# print('R-square, Testing, Linear Regression: ', r2_score(Y_test,Y_pred_test)) #R-Squared from linear regression, on the training data\n",
    "print('R-square, Training, SGD: ', r2_score(Y_train,y_pred_train_sgd)) #R-Squared from SGD, Training\n",
    "print('R-square, Training, SGD: ', r2_score(Y_test,y_pred_test_sgd)) #R-Squared from SGD, Testing"
   ]
  },
  {
   "cell_type": "code",
   "execution_count": 84,
   "metadata": {},
   "outputs": [
    {
     "data": {
      "image/png": "[encoded data removed]",
      "text/plain": [
       "<Figure size 640x480 with 1 Axes>"
      ]
     },
     "metadata": {},
     "output_type": "display_data"
    }
   ],
   "source": [
    "#Plot results from linear model and SGD\n",
    "# plt.scatter(Y_test, y_pred_test, label='LR')\n",
    "plt.scatter(Y_test, y_pred_test_sgd, label='SGD')\n",
    "plt.xlabel(\"Prediction: $\\hat{Y}_i$\")\n",
    "plt.ylabel(\"Actual: $Y_i$\")\n",
    "plt.title(\"Actual vs Predicted\")\n",
    "plt.legend(bbox_to_anchor=(1.05, 1), loc='upper left', borderaxespad=0.) # Place a legend to the right of this smaller subplot.\n",
    "plt.show()"
   ]
  },
  {
   "cell_type": "markdown",
   "metadata": {},
   "source": [
    "--------------------------------"
   ]
  },
  {
   "cell_type": "code",
   "execution_count": 85,
   "metadata": {},
   "outputs": [],
   "source": [
    "def  cal_cost(theta,X,y):\n",
    "    '''\n",
    "    \n",
    "    Calculates the cost for given X and Y. The following shows and example of a single dimensional X\n",
    "    theta = Vector of thetas \n",
    "    X     = Row of X's np.zeros((2,j))\n",
    "    y     = Actual y's np.zeros((2,1))\n",
    "    \n",
    "    where:\n",
    "        j is the no of features\n",
    "    '''\n",
    "    \n",
    "    m = len(y)\n",
    "    \n",
    "    predictions = X.dot(theta)\n",
    "    cost = (1/2*m) * np.sum(np.square(predictions-y))\n",
    "    return cost\n",
    "\n"
   ]
  },
  {
   "cell_type": "code",
   "execution_count": 86,
   "metadata": {},
   "outputs": [],
   "source": [
    "def gradient_descent(X,y,theta,learning_rate=0.01,iterations=100):\n",
    "    '''\n",
    "    X    = Matrix of X with added bias units\n",
    "    y    = Vector of Y\n",
    "    theta=Vector of thetas np.random.randn(j,1)\n",
    "    learning_rate \n",
    "    iterations = no of iterations\n",
    "    \n",
    "    Returns the final theta vector and array of cost history over no of iterations\n",
    "    '''\n",
    "    m = len(y)\n",
    "    cost_history = np.zeros(iterations)\n",
    "    theta_history = np.zeros((iterations,2))\n",
    "    for it in range(iterations):\n",
    "        \n",
    "        prediction = np.dot(X,theta)\n",
    "        \n",
    "        theta = theta -(1/m)*learning_rate*( X.T.dot((prediction - y)))\n",
    "        theta_history[it,:] =theta.T\n",
    "        cost_history[it]  = cal_cost(theta,X,y)\n",
    "        \n",
    "    return theta, cost_history, theta_history"
   ]
  },
  {
   "cell_type": "code",
   "execution_count": 87,
   "metadata": {},
   "outputs": [
    {
     "ename": "ValueError",
     "evalue": "Data must be 1-dimensional, got ndarray of shape (45, 45) instead",
     "output_type": "error",
     "traceback": [
      "\u001b[0;31m---------------------------------------------------------------------------\u001b[0m",
      "\u001b[0;31mValueError\u001b[0m                                Traceback (most recent call last)",
      "Cell \u001b[0;32mIn[87], line 13\u001b[0m\n\u001b[1;32m      9\u001b[0m \u001b[38;5;66;03m#X = sm.add_constant(X)\u001b[39;00m\n\u001b[1;32m     12\u001b[0m X_b \u001b[38;5;241m=\u001b[39m np\u001b[38;5;241m.\u001b[39mc_[np\u001b[38;5;241m.\u001b[39mones((\u001b[38;5;28mlen\u001b[39m(X),\u001b[38;5;241m1\u001b[39m)),X]\n\u001b[0;32m---> 13\u001b[0m theta,cost_history,theta_history \u001b[38;5;241m=\u001b[39m gradient_descent(X_b,y,theta,lr,n_iter)\n\u001b[1;32m     16\u001b[0m \u001b[38;5;28mprint\u001b[39m(\u001b[38;5;124m'\u001b[39m\u001b[38;5;124mTheta0:          \u001b[39m\u001b[38;5;132;01m{:0.3f}\u001b[39;00m\u001b[38;5;124m,\u001b[39m\u001b[38;5;130;01m\\n\u001b[39;00m\u001b[38;5;124mTheta1:          \u001b[39m\u001b[38;5;132;01m{:0.3f}\u001b[39;00m\u001b[38;5;124m'\u001b[39m\u001b[38;5;241m.\u001b[39mformat(theta[\u001b[38;5;241m0\u001b[39m][\u001b[38;5;241m0\u001b[39m],theta[\u001b[38;5;241m1\u001b[39m][\u001b[38;5;241m0\u001b[39m]))\n\u001b[1;32m     17\u001b[0m \u001b[38;5;28mprint\u001b[39m(\u001b[38;5;124m'\u001b[39m\u001b[38;5;124mFinal cost/MSE:  \u001b[39m\u001b[38;5;132;01m{:0.3f}\u001b[39;00m\u001b[38;5;124m'\u001b[39m\u001b[38;5;241m.\u001b[39mformat(cost_history[\u001b[38;5;241m-\u001b[39m\u001b[38;5;241m1\u001b[39m]))\n",
      "Cell \u001b[0;32mIn[86], line 18\u001b[0m, in \u001b[0;36mgradient_descent\u001b[0;34m(X, y, theta, learning_rate, iterations)\u001b[0m\n\u001b[1;32m     14\u001b[0m \u001b[38;5;28;01mfor\u001b[39;00m it \u001b[38;5;129;01min\u001b[39;00m \u001b[38;5;28mrange\u001b[39m(iterations):\n\u001b[1;32m     16\u001b[0m     prediction \u001b[38;5;241m=\u001b[39m np\u001b[38;5;241m.\u001b[39mdot(X,theta)\n\u001b[0;32m---> 18\u001b[0m     theta \u001b[38;5;241m=\u001b[39m theta \u001b[38;5;241m-\u001b[39m(\u001b[38;5;241m1\u001b[39m\u001b[38;5;241m/\u001b[39mm)\u001b[38;5;241m*\u001b[39mlearning_rate\u001b[38;5;241m*\u001b[39m( X\u001b[38;5;241m.\u001b[39mT\u001b[38;5;241m.\u001b[39mdot((prediction \u001b[38;5;241m-\u001b[39m y)))\n\u001b[1;32m     19\u001b[0m     theta_history[it,:] \u001b[38;5;241m=\u001b[39mtheta\u001b[38;5;241m.\u001b[39mT\n\u001b[1;32m     20\u001b[0m     cost_history[it]  \u001b[38;5;241m=\u001b[39m cal_cost(theta,X,y)\n",
      "File \u001b[0;32m/opt/anaconda3/lib/python3.11/site-packages/pandas/core/generic.py:2102\u001b[0m, in \u001b[0;36mNDFrame.__array_ufunc__\u001b[0;34m(self, ufunc, method, *inputs, **kwargs)\u001b[0m\n\u001b[1;32m   2098\u001b[0m \u001b[38;5;129m@final\u001b[39m\n\u001b[1;32m   2099\u001b[0m \u001b[38;5;28;01mdef\u001b[39;00m \u001b[38;5;21m__array_ufunc__\u001b[39m(\n\u001b[1;32m   2100\u001b[0m     \u001b[38;5;28mself\u001b[39m, ufunc: np\u001b[38;5;241m.\u001b[39mufunc, method: \u001b[38;5;28mstr\u001b[39m, \u001b[38;5;241m*\u001b[39minputs: Any, \u001b[38;5;241m*\u001b[39m\u001b[38;5;241m*\u001b[39mkwargs: Any\n\u001b[1;32m   2101\u001b[0m ):\n\u001b[0;32m-> 2102\u001b[0m     \u001b[38;5;28;01mreturn\u001b[39;00m arraylike\u001b[38;5;241m.\u001b[39marray_ufunc(\u001b[38;5;28mself\u001b[39m, ufunc, method, \u001b[38;5;241m*\u001b[39minputs, \u001b[38;5;241m*\u001b[39m\u001b[38;5;241m*\u001b[39mkwargs)\n",
      "File \u001b[0;32m/opt/anaconda3/lib/python3.11/site-packages/pandas/core/arraylike.py:273\u001b[0m, in \u001b[0;36marray_ufunc\u001b[0;34m(self, ufunc, method, *inputs, **kwargs)\u001b[0m\n\u001b[1;32m    270\u001b[0m kwargs \u001b[38;5;241m=\u001b[39m _standardize_out_kwarg(\u001b[38;5;241m*\u001b[39m\u001b[38;5;241m*\u001b[39mkwargs)\n\u001b[1;32m    272\u001b[0m \u001b[38;5;66;03m# for binary ops, use our custom dunder methods\u001b[39;00m\n\u001b[0;32m--> 273\u001b[0m result \u001b[38;5;241m=\u001b[39m maybe_dispatch_ufunc_to_dunder_op(\u001b[38;5;28mself\u001b[39m, ufunc, method, \u001b[38;5;241m*\u001b[39minputs, \u001b[38;5;241m*\u001b[39m\u001b[38;5;241m*\u001b[39mkwargs)\n\u001b[1;32m    274\u001b[0m \u001b[38;5;28;01mif\u001b[39;00m result \u001b[38;5;129;01mis\u001b[39;00m \u001b[38;5;129;01mnot\u001b[39;00m \u001b[38;5;28mNotImplemented\u001b[39m:\n\u001b[1;32m    275\u001b[0m     \u001b[38;5;28;01mreturn\u001b[39;00m result\n",
      "File \u001b[0;32mops_dispatch.pyx:113\u001b[0m, in \u001b[0;36mpandas._libs.ops_dispatch.maybe_dispatch_ufunc_to_dunder_op\u001b[0;34m()\u001b[0m\n",
      "File \u001b[0;32m/opt/anaconda3/lib/python3.11/site-packages/pandas/core/ops/common.py:76\u001b[0m, in \u001b[0;36m_unpack_zerodim_and_defer.<locals>.new_method\u001b[0;34m(self, other)\u001b[0m\n\u001b[1;32m     72\u001b[0m             \u001b[38;5;28;01mreturn\u001b[39;00m \u001b[38;5;28mNotImplemented\u001b[39m\n\u001b[1;32m     74\u001b[0m other \u001b[38;5;241m=\u001b[39m item_from_zerodim(other)\n\u001b[0;32m---> 76\u001b[0m \u001b[38;5;28;01mreturn\u001b[39;00m method(\u001b[38;5;28mself\u001b[39m, other)\n",
      "File \u001b[0;32m/opt/anaconda3/lib/python3.11/site-packages/pandas/core/arraylike.py:198\u001b[0m, in \u001b[0;36mOpsMixin.__rsub__\u001b[0;34m(self, other)\u001b[0m\n\u001b[1;32m    196\u001b[0m \u001b[38;5;129m@unpack_zerodim_and_defer\u001b[39m(\u001b[38;5;124m\"\u001b[39m\u001b[38;5;124m__rsub__\u001b[39m\u001b[38;5;124m\"\u001b[39m)\n\u001b[1;32m    197\u001b[0m \u001b[38;5;28;01mdef\u001b[39;00m \u001b[38;5;21m__rsub__\u001b[39m(\u001b[38;5;28mself\u001b[39m, other):\n\u001b[0;32m--> 198\u001b[0m     \u001b[38;5;28;01mreturn\u001b[39;00m \u001b[38;5;28mself\u001b[39m\u001b[38;5;241m.\u001b[39m_arith_method(other, roperator\u001b[38;5;241m.\u001b[39mrsub)\n",
      "File \u001b[0;32m/opt/anaconda3/lib/python3.11/site-packages/pandas/core/series.py:5819\u001b[0m, in \u001b[0;36mSeries._arith_method\u001b[0;34m(self, other, op)\u001b[0m\n\u001b[1;32m   5817\u001b[0m \u001b[38;5;28;01mdef\u001b[39;00m \u001b[38;5;21m_arith_method\u001b[39m(\u001b[38;5;28mself\u001b[39m, other, op):\n\u001b[1;32m   5818\u001b[0m     \u001b[38;5;28mself\u001b[39m, other \u001b[38;5;241m=\u001b[39m \u001b[38;5;28mself\u001b[39m\u001b[38;5;241m.\u001b[39m_align_for_op(other)\n\u001b[0;32m-> 5819\u001b[0m     \u001b[38;5;28;01mreturn\u001b[39;00m base\u001b[38;5;241m.\u001b[39mIndexOpsMixin\u001b[38;5;241m.\u001b[39m_arith_method(\u001b[38;5;28mself\u001b[39m, other, op)\n",
      "File \u001b[0;32m/opt/anaconda3/lib/python3.11/site-packages/pandas/core/base.py:1383\u001b[0m, in \u001b[0;36mIndexOpsMixin._arith_method\u001b[0;34m(self, other, op)\u001b[0m\n\u001b[1;32m   1380\u001b[0m \u001b[38;5;28;01mwith\u001b[39;00m np\u001b[38;5;241m.\u001b[39merrstate(\u001b[38;5;28mall\u001b[39m\u001b[38;5;241m=\u001b[39m\u001b[38;5;124m\"\u001b[39m\u001b[38;5;124mignore\u001b[39m\u001b[38;5;124m\"\u001b[39m):\n\u001b[1;32m   1381\u001b[0m     result \u001b[38;5;241m=\u001b[39m ops\u001b[38;5;241m.\u001b[39marithmetic_op(lvalues, rvalues, op)\n\u001b[0;32m-> 1383\u001b[0m \u001b[38;5;28;01mreturn\u001b[39;00m \u001b[38;5;28mself\u001b[39m\u001b[38;5;241m.\u001b[39m_construct_result(result, name\u001b[38;5;241m=\u001b[39mres_name)\n",
      "File \u001b[0;32m/opt/anaconda3/lib/python3.11/site-packages/pandas/core/series.py:5915\u001b[0m, in \u001b[0;36mSeries._construct_result\u001b[0;34m(self, result, name)\u001b[0m\n\u001b[1;32m   5912\u001b[0m \u001b[38;5;66;03m# TODO: result should always be ArrayLike, but this fails for some\u001b[39;00m\n\u001b[1;32m   5913\u001b[0m \u001b[38;5;66;03m#  JSONArray tests\u001b[39;00m\n\u001b[1;32m   5914\u001b[0m dtype \u001b[38;5;241m=\u001b[39m \u001b[38;5;28mgetattr\u001b[39m(result, \u001b[38;5;124m\"\u001b[39m\u001b[38;5;124mdtype\u001b[39m\u001b[38;5;124m\"\u001b[39m, \u001b[38;5;28;01mNone\u001b[39;00m)\n\u001b[0;32m-> 5915\u001b[0m out \u001b[38;5;241m=\u001b[39m \u001b[38;5;28mself\u001b[39m\u001b[38;5;241m.\u001b[39m_constructor(result, index\u001b[38;5;241m=\u001b[39m\u001b[38;5;28mself\u001b[39m\u001b[38;5;241m.\u001b[39mindex, dtype\u001b[38;5;241m=\u001b[39mdtype, copy\u001b[38;5;241m=\u001b[39m\u001b[38;5;28;01mFalse\u001b[39;00m)\n\u001b[1;32m   5916\u001b[0m out \u001b[38;5;241m=\u001b[39m out\u001b[38;5;241m.\u001b[39m__finalize__(\u001b[38;5;28mself\u001b[39m)\n\u001b[1;32m   5918\u001b[0m \u001b[38;5;66;03m# Set the result's name after __finalize__ is called because __finalize__\u001b[39;00m\n\u001b[1;32m   5919\u001b[0m \u001b[38;5;66;03m#  would set it back to self.name\u001b[39;00m\n",
      "File \u001b[0;32m/opt/anaconda3/lib/python3.11/site-packages/pandas/core/series.py:512\u001b[0m, in \u001b[0;36mSeries.__init__\u001b[0;34m(self, data, index, dtype, name, copy, fastpath)\u001b[0m\n\u001b[1;32m    510\u001b[0m         data \u001b[38;5;241m=\u001b[39m data\u001b[38;5;241m.\u001b[39mcopy()\n\u001b[1;32m    511\u001b[0m \u001b[38;5;28;01melse\u001b[39;00m:\n\u001b[0;32m--> 512\u001b[0m     data \u001b[38;5;241m=\u001b[39m sanitize_array(data, index, dtype, copy)\n\u001b[1;32m    514\u001b[0m     manager \u001b[38;5;241m=\u001b[39m get_option(\u001b[38;5;124m\"\u001b[39m\u001b[38;5;124mmode.data_manager\u001b[39m\u001b[38;5;124m\"\u001b[39m)\n\u001b[1;32m    515\u001b[0m     \u001b[38;5;28;01mif\u001b[39;00m manager \u001b[38;5;241m==\u001b[39m \u001b[38;5;124m\"\u001b[39m\u001b[38;5;124mblock\u001b[39m\u001b[38;5;124m\"\u001b[39m:\n",
      "File \u001b[0;32m/opt/anaconda3/lib/python3.11/site-packages/pandas/core/construction.py:658\u001b[0m, in \u001b[0;36msanitize_array\u001b[0;34m(data, index, dtype, copy, allow_2d)\u001b[0m\n\u001b[1;32m    655\u001b[0m             subarr \u001b[38;5;241m=\u001b[39m cast(np\u001b[38;5;241m.\u001b[39mndarray, subarr)\n\u001b[1;32m    656\u001b[0m             subarr \u001b[38;5;241m=\u001b[39m maybe_infer_to_datetimelike(subarr)\n\u001b[0;32m--> 658\u001b[0m subarr \u001b[38;5;241m=\u001b[39m _sanitize_ndim(subarr, data, dtype, index, allow_2d\u001b[38;5;241m=\u001b[39mallow_2d)\n\u001b[1;32m    660\u001b[0m \u001b[38;5;28;01mif\u001b[39;00m \u001b[38;5;28misinstance\u001b[39m(subarr, np\u001b[38;5;241m.\u001b[39mndarray):\n\u001b[1;32m    661\u001b[0m     \u001b[38;5;66;03m# at this point we should have dtype be None or subarr.dtype == dtype\u001b[39;00m\n\u001b[1;32m    662\u001b[0m     dtype \u001b[38;5;241m=\u001b[39m cast(np\u001b[38;5;241m.\u001b[39mdtype, dtype)\n",
      "File \u001b[0;32m/opt/anaconda3/lib/python3.11/site-packages/pandas/core/construction.py:717\u001b[0m, in \u001b[0;36m_sanitize_ndim\u001b[0;34m(result, data, dtype, index, allow_2d)\u001b[0m\n\u001b[1;32m    715\u001b[0m     \u001b[38;5;28;01mif\u001b[39;00m allow_2d:\n\u001b[1;32m    716\u001b[0m         \u001b[38;5;28;01mreturn\u001b[39;00m result\n\u001b[0;32m--> 717\u001b[0m     \u001b[38;5;28;01mraise\u001b[39;00m \u001b[38;5;167;01mValueError\u001b[39;00m(\n\u001b[1;32m    718\u001b[0m         \u001b[38;5;124mf\u001b[39m\u001b[38;5;124m\"\u001b[39m\u001b[38;5;124mData must be 1-dimensional, got ndarray of shape \u001b[39m\u001b[38;5;132;01m{\u001b[39;00mdata\u001b[38;5;241m.\u001b[39mshape\u001b[38;5;132;01m}\u001b[39;00m\u001b[38;5;124m instead\u001b[39m\u001b[38;5;124m\"\u001b[39m\n\u001b[1;32m    719\u001b[0m     )\n\u001b[1;32m    720\u001b[0m \u001b[38;5;28;01mif\u001b[39;00m is_object_dtype(dtype) \u001b[38;5;129;01mand\u001b[39;00m \u001b[38;5;28misinstance\u001b[39m(dtype, ExtensionDtype):\n\u001b[1;32m    721\u001b[0m     \u001b[38;5;66;03m# i.e. NumpyEADtype(\"O\")\u001b[39;00m\n\u001b[1;32m    723\u001b[0m     result \u001b[38;5;241m=\u001b[39m com\u001b[38;5;241m.\u001b[39masarray_tuplesafe(data, dtype\u001b[38;5;241m=\u001b[39mnp\u001b[38;5;241m.\u001b[39mdtype(\u001b[38;5;124m\"\u001b[39m\u001b[38;5;124mobject\u001b[39m\u001b[38;5;124m\"\u001b[39m))\n",
      "\u001b[0;31mValueError\u001b[0m: Data must be 1-dimensional, got ndarray of shape (45, 45) instead"
     ]
    }
   ],
   "source": [
    "lr =0.01\n",
    "n_iter = 1000\n",
    "\n",
    "theta = np.random.randn(2,1)\n",
    "\n",
    "#Setting regressor and outcome vars\n",
    "X = data_for_model_kangaroo.nasal_length\n",
    "y = data_for_model_kangaroo.nasal_width\n",
    "#X = sm.add_constant(X)\n",
    "     \n",
    "\n",
    "X_b = np.c_[np.ones((len(X),1)),X]\n",
    "theta,cost_history,theta_history = gradient_descent(X_b,y,theta,lr,n_iter)\n",
    "\n",
    "\n",
    "print('Theta0:          {:0.3f},\\nTheta1:          {:0.3f}'.format(theta[0][0],theta[1][0]))\n",
    "print('Final cost/MSE:  {:0.3f}'.format(cost_history[-1]))"
   ]
  }
 ],
 "metadata": {
  "kernelspec": {
   "display_name": "Python 3 (ipykernel)",
   "language": "python",
   "name": "python3"
  }
 },
 "nbformat": 4,
 "nbformat_minor": 2
}
