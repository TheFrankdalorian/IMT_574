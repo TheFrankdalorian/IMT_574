{
 "cells": [
  {
   "cell_type": "code",
   "execution_count": 89,
   "metadata": {},
   "outputs": [],
   "source": [
    "import pandas as pd\n",
    "import numpy as np\n",
    "import matplotlib.pyplot as plt\n",
    "import statsmodels.api as sm\n",
    "from sklearn.neighbors import KNeighborsClassifier\n",
    "from sklearn.model_selection import train_test_split\n",
    "from sklearn.metrics import accuracy_score"
   ]
  },
  {
   "cell_type": "code",
   "execution_count": 90,
   "metadata": {},
   "outputs": [],
   "source": [
    "relative_path = '~/UW/IMT_574/Week3/Homework/'"
   ]
  },
  {
   "cell_type": "markdown",
   "metadata": {},
   "source": [
    "---------------\n",
    "\n",
    "***Problem 1***"
   ]
  },
  {
   "cell_type": "markdown",
   "metadata": {},
   "source": [
    "***Dataset columns***\n"
   ]
  },
  {
   "cell_type": "markdown",
   "metadata": {},
   "source": [
    "| Types of qualities| Description | \n",
    "| --- | --- | \n",
    "|  i. num_words | number of words in the post | \n",
    "| ii. num_characters | number of characters in the post |\n",
    "| iii. num_misspelled | number of misspelled words |\n",
    "| iv. bin_end_qmark | if the post ends with a question mark |\n",
    "| v. num_interrogative | number of interrogative words in the post |\n",
    "| vi. bin_start_small | if the answer starts with a lowercase letter (\"1\" means yes, otherwise no) |\n",
    "| vii. num_sentences | number of sentences per post |\n",
    "| viii. num_punctuations | number of punctuation symbols in the post |\n",
    "| ix. label: the label of the post | (\"G\" for good and \"B\" for bad) as determined by the tool |"
   ]
  },
  {
   "cell_type": "code",
   "execution_count": 91,
   "metadata": {},
   "outputs": [
    {
     "data": {
      "text/html": [
       "<div>\n",
       "<style scoped>\n",
       "    .dataframe tbody tr th:only-of-type {\n",
       "        vertical-align: middle;\n",
       "    }\n",
       "\n",
       "    .dataframe tbody tr th {\n",
       "        vertical-align: top;\n",
       "    }\n",
       "\n",
       "    .dataframe thead th {\n",
       "        text-align: right;\n",
       "    }\n",
       "</style>\n",
       "<table border=\"1\" class=\"dataframe\">\n",
       "  <thead>\n",
       "    <tr style=\"text-align: right;\">\n",
       "      <th></th>\n",
       "      <th>S.No.</th>\n",
       "      <th>num_words</th>\n",
       "      <th>num_characters</th>\n",
       "      <th>num_misspelled</th>\n",
       "      <th>bin_end_qmark</th>\n",
       "      <th>num_interrogative</th>\n",
       "      <th>bin_start_small</th>\n",
       "      <th>num_sentences</th>\n",
       "      <th>num_punctuations</th>\n",
       "      <th>label</th>\n",
       "    </tr>\n",
       "  </thead>\n",
       "  <tbody>\n",
       "    <tr>\n",
       "      <th>0</th>\n",
       "      <td>1</td>\n",
       "      <td>10</td>\n",
       "      <td>48</td>\n",
       "      <td>2</td>\n",
       "      <td>0</td>\n",
       "      <td>0</td>\n",
       "      <td>0</td>\n",
       "      <td>2</td>\n",
       "      <td>4</td>\n",
       "      <td>B</td>\n",
       "    </tr>\n",
       "    <tr>\n",
       "      <th>1</th>\n",
       "      <td>2</td>\n",
       "      <td>8</td>\n",
       "      <td>25</td>\n",
       "      <td>0</td>\n",
       "      <td>0</td>\n",
       "      <td>0</td>\n",
       "      <td>1</td>\n",
       "      <td>1</td>\n",
       "      <td>0</td>\n",
       "      <td>B</td>\n",
       "    </tr>\n",
       "    <tr>\n",
       "      <th>2</th>\n",
       "      <td>3</td>\n",
       "      <td>20</td>\n",
       "      <td>81</td>\n",
       "      <td>0</td>\n",
       "      <td>1</td>\n",
       "      <td>19</td>\n",
       "      <td>0</td>\n",
       "      <td>1</td>\n",
       "      <td>1</td>\n",
       "      <td>B</td>\n",
       "    </tr>\n",
       "    <tr>\n",
       "      <th>3</th>\n",
       "      <td>4</td>\n",
       "      <td>9</td>\n",
       "      <td>34</td>\n",
       "      <td>1</td>\n",
       "      <td>0</td>\n",
       "      <td>1</td>\n",
       "      <td>0</td>\n",
       "      <td>1</td>\n",
       "      <td>2</td>\n",
       "      <td>B</td>\n",
       "    </tr>\n",
       "    <tr>\n",
       "      <th>4</th>\n",
       "      <td>5</td>\n",
       "      <td>18</td>\n",
       "      <td>69</td>\n",
       "      <td>3</td>\n",
       "      <td>0</td>\n",
       "      <td>1</td>\n",
       "      <td>0</td>\n",
       "      <td>1</td>\n",
       "      <td>0</td>\n",
       "      <td>B</td>\n",
       "    </tr>\n",
       "  </tbody>\n",
       "</table>\n",
       "</div>"
      ],
      "text/plain": [
       "   S.No.  num_words  num_characters  num_misspelled  bin_end_qmark  \\\n",
       "0      1         10              48               2              0   \n",
       "1      2          8              25               0              0   \n",
       "2      3         20              81               0              1   \n",
       "3      4          9              34               1              0   \n",
       "4      5         18              69               3              0   \n",
       "\n",
       "   num_interrogative  bin_start_small  num_sentences  num_punctuations label  \n",
       "0                  0                0              2                 4     B  \n",
       "1                  0                1              1                 0     B  \n",
       "2                 19                0              1                 1     B  \n",
       "3                  1                0              1                 2     B  \n",
       "4                  1                0              1                 0     B  "
      ]
     },
     "execution_count": 91,
     "metadata": {},
     "output_type": "execute_result"
    }
   ],
   "source": [
    "df = pd.read_csv(relative_path + 'Problem 1—quality.csv')\n",
    "df.head()"
   ]
  },
  {
   "cell_type": "markdown",
   "metadata": {},
   "source": [
    "***1) Create a logistics regression model to predict the class label from the first eight attributes of the question set.***"
   ]
  },
  {
   "cell_type": "code",
   "execution_count": 92,
   "metadata": {},
   "outputs": [],
   "source": [
    "def calculate_accuracy(prediction, y_test):\n",
    "    '''Accuracy using statsmodels accuracy score'''\n",
    "    pred = prediction >= 0.5\n",
    "    acc = accuracy_score(y_test, pred)*100\n",
    "    return acc"
   ]
  },
  {
   "cell_type": "code",
   "execution_count": 93,
   "metadata": {},
   "outputs": [],
   "source": [
    "def manually_calculate_accuracy(prediction, data_for_model, predictor):\n",
    "    '''Accuracy calculated manually'''\n",
    "    acc = 1-(np.sum(np.abs(prediction - predictor))) / len(data_for_model)\n",
    "    return acc"
   ]
  },
  {
   "cell_type": "code",
   "execution_count": 94,
   "metadata": {},
   "outputs": [],
   "source": [
    "def train_model(X, y, size):\n",
    "    #Dividing data in 30% test and 70% training\n",
    "    X_train, X_test, y_train, y_test = train_test_split(X, y, test_size=size, random_state=11) \n",
    "    logreg_model = sm.Logit(y_train, X_train)\n",
    "    model= logreg_model.fit() \n",
    "    return model, X_test, y_test "
   ]
  },
  {
   "cell_type": "code",
   "execution_count": 95,
   "metadata": {},
   "outputs": [],
   "source": [
    "#Adding binary outcome variable\n",
    "df['binary_label'] = df.label == 'G'"
   ]
  },
  {
   "cell_type": "code",
   "execution_count": 96,
   "metadata": {},
   "outputs": [],
   "source": [
    "#Adding constant\n",
    "df['constant'] = 1"
   ]
  },
  {
   "cell_type": "code",
   "execution_count": 97,
   "metadata": {},
   "outputs": [
    {
     "data": {
      "text/html": [
       "<div>\n",
       "<style scoped>\n",
       "    .dataframe tbody tr th:only-of-type {\n",
       "        vertical-align: middle;\n",
       "    }\n",
       "\n",
       "    .dataframe tbody tr th {\n",
       "        vertical-align: top;\n",
       "    }\n",
       "\n",
       "    .dataframe thead th {\n",
       "        text-align: right;\n",
       "    }\n",
       "</style>\n",
       "<table border=\"1\" class=\"dataframe\">\n",
       "  <thead>\n",
       "    <tr style=\"text-align: right;\">\n",
       "      <th></th>\n",
       "      <th>num_words</th>\n",
       "      <th>num_characters</th>\n",
       "      <th>num_misspelled</th>\n",
       "      <th>bin_end_qmark</th>\n",
       "      <th>num_interrogative</th>\n",
       "      <th>bin_start_small</th>\n",
       "      <th>num_sentences</th>\n",
       "      <th>num_punctuations</th>\n",
       "      <th>label</th>\n",
       "      <th>binary_label</th>\n",
       "      <th>constant</th>\n",
       "    </tr>\n",
       "  </thead>\n",
       "  <tbody>\n",
       "    <tr>\n",
       "      <th>0</th>\n",
       "      <td>10</td>\n",
       "      <td>48</td>\n",
       "      <td>2</td>\n",
       "      <td>0</td>\n",
       "      <td>0</td>\n",
       "      <td>0</td>\n",
       "      <td>2</td>\n",
       "      <td>4</td>\n",
       "      <td>B</td>\n",
       "      <td>False</td>\n",
       "      <td>1</td>\n",
       "    </tr>\n",
       "    <tr>\n",
       "      <th>1</th>\n",
       "      <td>8</td>\n",
       "      <td>25</td>\n",
       "      <td>0</td>\n",
       "      <td>0</td>\n",
       "      <td>0</td>\n",
       "      <td>1</td>\n",
       "      <td>1</td>\n",
       "      <td>0</td>\n",
       "      <td>B</td>\n",
       "      <td>False</td>\n",
       "      <td>1</td>\n",
       "    </tr>\n",
       "    <tr>\n",
       "      <th>2</th>\n",
       "      <td>20</td>\n",
       "      <td>81</td>\n",
       "      <td>0</td>\n",
       "      <td>1</td>\n",
       "      <td>19</td>\n",
       "      <td>0</td>\n",
       "      <td>1</td>\n",
       "      <td>1</td>\n",
       "      <td>B</td>\n",
       "      <td>False</td>\n",
       "      <td>1</td>\n",
       "    </tr>\n",
       "    <tr>\n",
       "      <th>3</th>\n",
       "      <td>9</td>\n",
       "      <td>34</td>\n",
       "      <td>1</td>\n",
       "      <td>0</td>\n",
       "      <td>1</td>\n",
       "      <td>0</td>\n",
       "      <td>1</td>\n",
       "      <td>2</td>\n",
       "      <td>B</td>\n",
       "      <td>False</td>\n",
       "      <td>1</td>\n",
       "    </tr>\n",
       "    <tr>\n",
       "      <th>4</th>\n",
       "      <td>18</td>\n",
       "      <td>69</td>\n",
       "      <td>3</td>\n",
       "      <td>0</td>\n",
       "      <td>1</td>\n",
       "      <td>0</td>\n",
       "      <td>1</td>\n",
       "      <td>0</td>\n",
       "      <td>B</td>\n",
       "      <td>False</td>\n",
       "      <td>1</td>\n",
       "    </tr>\n",
       "  </tbody>\n",
       "</table>\n",
       "</div>"
      ],
      "text/plain": [
       "   num_words  num_characters  num_misspelled  bin_end_qmark  \\\n",
       "0         10              48               2              0   \n",
       "1          8              25               0              0   \n",
       "2         20              81               0              1   \n",
       "3          9              34               1              0   \n",
       "4         18              69               3              0   \n",
       "\n",
       "   num_interrogative  bin_start_small  num_sentences  num_punctuations label  \\\n",
       "0                  0                0              2                 4     B   \n",
       "1                  0                1              1                 0     B   \n",
       "2                 19                0              1                 1     B   \n",
       "3                  1                0              1                 2     B   \n",
       "4                  1                0              1                 0     B   \n",
       "\n",
       "   binary_label  constant  \n",
       "0         False         1  \n",
       "1         False         1  \n",
       "2         False         1  \n",
       "3         False         1  \n",
       "4         False         1  "
      ]
     },
     "execution_count": 97,
     "metadata": {},
     "output_type": "execute_result"
    }
   ],
   "source": [
    "#Dropping unnecessary columns\n",
    "data_for_logreg_model = df.drop(columns =['S.No.']).copy()\n",
    "data_for_logreg_model.head()"
   ]
  },
  {
   "cell_type": "code",
   "execution_count": 98,
   "metadata": {},
   "outputs": [
    {
     "data": {
      "text/plain": [
       "num_words            False\n",
       "num_characters       False\n",
       "num_misspelled       False\n",
       "bin_end_qmark        False\n",
       "num_interrogative    False\n",
       "bin_start_small      False\n",
       "num_sentences        False\n",
       "num_punctuations     False\n",
       "label                False\n",
       "binary_label         False\n",
       "constant             False\n",
       "dtype: bool"
      ]
     },
     "execution_count": 98,
     "metadata": {},
     "output_type": "execute_result"
    }
   ],
   "source": [
    "data_for_logreg_model.isna().any()"
   ]
  },
  {
   "cell_type": "code",
   "execution_count": 99,
   "metadata": {},
   "outputs": [
    {
     "data": {
      "text/html": [
       "<div>\n",
       "<style scoped>\n",
       "    .dataframe tbody tr th:only-of-type {\n",
       "        vertical-align: middle;\n",
       "    }\n",
       "\n",
       "    .dataframe tbody tr th {\n",
       "        vertical-align: top;\n",
       "    }\n",
       "\n",
       "    .dataframe thead th {\n",
       "        text-align: right;\n",
       "    }\n",
       "</style>\n",
       "<table border=\"1\" class=\"dataframe\">\n",
       "  <thead>\n",
       "    <tr style=\"text-align: right;\">\n",
       "      <th></th>\n",
       "      <th>num_words</th>\n",
       "      <th>num_characters</th>\n",
       "      <th>num_misspelled</th>\n",
       "      <th>bin_end_qmark</th>\n",
       "      <th>num_interrogative</th>\n",
       "      <th>bin_start_small</th>\n",
       "      <th>num_sentences</th>\n",
       "      <th>num_punctuations</th>\n",
       "      <th>label</th>\n",
       "      <th>binary_label</th>\n",
       "      <th>constant</th>\n",
       "    </tr>\n",
       "  </thead>\n",
       "  <tbody>\n",
       "    <tr>\n",
       "      <th>0</th>\n",
       "      <td>10</td>\n",
       "      <td>48</td>\n",
       "      <td>2</td>\n",
       "      <td>0</td>\n",
       "      <td>0</td>\n",
       "      <td>0</td>\n",
       "      <td>2</td>\n",
       "      <td>4</td>\n",
       "      <td>B</td>\n",
       "      <td>False</td>\n",
       "      <td>1</td>\n",
       "    </tr>\n",
       "    <tr>\n",
       "      <th>1</th>\n",
       "      <td>8</td>\n",
       "      <td>25</td>\n",
       "      <td>0</td>\n",
       "      <td>0</td>\n",
       "      <td>0</td>\n",
       "      <td>1</td>\n",
       "      <td>1</td>\n",
       "      <td>0</td>\n",
       "      <td>B</td>\n",
       "      <td>False</td>\n",
       "      <td>1</td>\n",
       "    </tr>\n",
       "    <tr>\n",
       "      <th>2</th>\n",
       "      <td>20</td>\n",
       "      <td>81</td>\n",
       "      <td>0</td>\n",
       "      <td>1</td>\n",
       "      <td>19</td>\n",
       "      <td>0</td>\n",
       "      <td>1</td>\n",
       "      <td>1</td>\n",
       "      <td>B</td>\n",
       "      <td>False</td>\n",
       "      <td>1</td>\n",
       "    </tr>\n",
       "    <tr>\n",
       "      <th>3</th>\n",
       "      <td>9</td>\n",
       "      <td>34</td>\n",
       "      <td>1</td>\n",
       "      <td>0</td>\n",
       "      <td>1</td>\n",
       "      <td>0</td>\n",
       "      <td>1</td>\n",
       "      <td>2</td>\n",
       "      <td>B</td>\n",
       "      <td>False</td>\n",
       "      <td>1</td>\n",
       "    </tr>\n",
       "    <tr>\n",
       "      <th>4</th>\n",
       "      <td>18</td>\n",
       "      <td>69</td>\n",
       "      <td>3</td>\n",
       "      <td>0</td>\n",
       "      <td>1</td>\n",
       "      <td>0</td>\n",
       "      <td>1</td>\n",
       "      <td>0</td>\n",
       "      <td>B</td>\n",
       "      <td>False</td>\n",
       "      <td>1</td>\n",
       "    </tr>\n",
       "  </tbody>\n",
       "</table>\n",
       "</div>"
      ],
      "text/plain": [
       "   num_words  num_characters  num_misspelled  bin_end_qmark  \\\n",
       "0         10              48               2              0   \n",
       "1          8              25               0              0   \n",
       "2         20              81               0              1   \n",
       "3          9              34               1              0   \n",
       "4         18              69               3              0   \n",
       "\n",
       "   num_interrogative  bin_start_small  num_sentences  num_punctuations label  \\\n",
       "0                  0                0              2                 4     B   \n",
       "1                  0                1              1                 0     B   \n",
       "2                 19                0              1                 1     B   \n",
       "3                  1                0              1                 2     B   \n",
       "4                  1                0              1                 0     B   \n",
       "\n",
       "   binary_label  constant  \n",
       "0         False         1  \n",
       "1         False         1  \n",
       "2         False         1  \n",
       "3         False         1  \n",
       "4         False         1  "
      ]
     },
     "execution_count": 99,
     "metadata": {},
     "output_type": "execute_result"
    }
   ],
   "source": [
    "data_for_logreg_model.head()"
   ]
  },
  {
   "cell_type": "code",
   "execution_count": 100,
   "metadata": {},
   "outputs": [],
   "source": [
    "#Using statsmodel logreg libraries\n",
    "#Logit(Y, X)\n",
    "X = data_for_logreg_model.drop(['binary_label', 'label'], axis = 1)\n",
    "y = data_for_logreg_model.binary_label\n"
   ]
  },
  {
   "cell_type": "code",
   "execution_count": 101,
   "metadata": {},
   "outputs": [
    {
     "name": "stdout",
     "output_type": "stream",
     "text": [
      "Optimization terminated successfully.\n",
      "         Current function value: 0.322765\n",
      "         Iterations 9\n"
     ]
    }
   ],
   "source": [
    "model_a, X_test_a, y_test_a = train_model(X, y, 0.3)"
   ]
  },
  {
   "cell_type": "code",
   "execution_count": 102,
   "metadata": {},
   "outputs": [],
   "source": [
    "# #Dividing data in 30% test and 70% training\n",
    "# X_train, X_test, y_train, y_test = train_test_split(X, y, test_size=0.3, random_state=11)"
   ]
  },
  {
   "cell_type": "code",
   "execution_count": 103,
   "metadata": {},
   "outputs": [],
   "source": [
    "# logreg_model = sm.Logit(y_train, X_train)\n",
    "# model_1 = logreg_model.fit()"
   ]
  },
  {
   "cell_type": "code",
   "execution_count": 104,
   "metadata": {},
   "outputs": [],
   "source": [
    "pred = model_a.predict(X_test_a)"
   ]
  },
  {
   "cell_type": "code",
   "execution_count": 105,
   "metadata": {},
   "outputs": [
    {
     "data": {
      "text/html": [
       "<table class=\"simpletable\">\n",
       "<caption>Logit Regression Results</caption>\n",
       "<tr>\n",
       "  <th>Dep. Variable:</th>     <td>binary_label</td>   <th>  No. Observations:  </th>  <td>    19</td> \n",
       "</tr>\n",
       "<tr>\n",
       "  <th>Model:</th>                 <td>Logit</td>      <th>  Df Residuals:      </th>  <td>    10</td> \n",
       "</tr>\n",
       "<tr>\n",
       "  <th>Method:</th>                 <td>MLE</td>       <th>  Df Model:          </th>  <td>     8</td> \n",
       "</tr>\n",
       "<tr>\n",
       "  <th>Date:</th>            <td>Fri, 11 Oct 2024</td> <th>  Pseudo R-squ.:     </th>  <td>0.5258</td> \n",
       "</tr>\n",
       "<tr>\n",
       "  <th>Time:</th>                <td>15:29:34</td>     <th>  Log-Likelihood:    </th> <td> -6.1325</td>\n",
       "</tr>\n",
       "<tr>\n",
       "  <th>converged:</th>             <td>True</td>       <th>  LL-Null:           </th> <td> -12.932</td>\n",
       "</tr>\n",
       "<tr>\n",
       "  <th>Covariance Type:</th>     <td>nonrobust</td>    <th>  LLR p-value:       </th>  <td>0.09284</td>\n",
       "</tr>\n",
       "</table>\n",
       "<table class=\"simpletable\">\n",
       "<tr>\n",
       "          <td></td>             <th>coef</th>     <th>std err</th>      <th>z</th>      <th>P>|z|</th>  <th>[0.025</th>    <th>0.975]</th>  \n",
       "</tr>\n",
       "<tr>\n",
       "  <th>num_words</th>         <td>    0.0670</td> <td>    0.307</td> <td>    0.218</td> <td> 0.827</td> <td>   -0.534</td> <td>    0.668</td>\n",
       "</tr>\n",
       "<tr>\n",
       "  <th>num_characters</th>    <td>    0.0235</td> <td>    0.074</td> <td>    0.316</td> <td> 0.752</td> <td>   -0.122</td> <td>    0.169</td>\n",
       "</tr>\n",
       "<tr>\n",
       "  <th>num_misspelled</th>    <td>   -1.3940</td> <td>    0.723</td> <td>   -1.927</td> <td> 0.054</td> <td>   -2.812</td> <td>    0.024</td>\n",
       "</tr>\n",
       "<tr>\n",
       "  <th>bin_end_qmark</th>     <td>   -4.5200</td> <td>    3.779</td> <td>   -1.196</td> <td> 0.232</td> <td>  -11.927</td> <td>    2.887</td>\n",
       "</tr>\n",
       "<tr>\n",
       "  <th>num_interrogative</th> <td>   -0.0675</td> <td>    0.290</td> <td>   -0.233</td> <td> 0.816</td> <td>   -0.635</td> <td>    0.500</td>\n",
       "</tr>\n",
       "<tr>\n",
       "  <th>bin_start_small</th>   <td>    0.0120</td> <td>    2.179</td> <td>    0.005</td> <td> 0.996</td> <td>   -4.259</td> <td>    4.283</td>\n",
       "</tr>\n",
       "<tr>\n",
       "  <th>num_sentences</th>     <td>    2.7017</td> <td>    2.506</td> <td>    1.078</td> <td> 0.281</td> <td>   -2.209</td> <td>    7.612</td>\n",
       "</tr>\n",
       "<tr>\n",
       "  <th>num_punctuations</th>  <td>   -0.7377</td> <td>    0.608</td> <td>   -1.214</td> <td> 0.225</td> <td>   -1.929</td> <td>    0.454</td>\n",
       "</tr>\n",
       "<tr>\n",
       "  <th>constant</th>          <td>   -2.1814</td> <td>    2.221</td> <td>   -0.982</td> <td> 0.326</td> <td>   -6.534</td> <td>    2.171</td>\n",
       "</tr>\n",
       "</table><br/><br/>Possibly complete quasi-separation: A fraction 0.11 of observations can be<br/>perfectly predicted. This might indicate that there is complete<br/>quasi-separation. In this case some parameters will not be identified."
      ],
      "text/latex": [
       "\\begin{center}\n",
       "\\begin{tabular}{lclc}\n",
       "\\toprule\n",
       "\\textbf{Dep. Variable:}     &  binary\\_label   & \\textbf{  No. Observations:  } &       19    \\\\\n",
       "\\textbf{Model:}             &      Logit       & \\textbf{  Df Residuals:      } &       10    \\\\\n",
       "\\textbf{Method:}            &       MLE        & \\textbf{  Df Model:          } &        8    \\\\\n",
       "\\textbf{Date:}              & Fri, 11 Oct 2024 & \\textbf{  Pseudo R-squ.:     } &   0.5258    \\\\\n",
       "\\textbf{Time:}              &     15:29:34     & \\textbf{  Log-Likelihood:    } &   -6.1325   \\\\\n",
       "\\textbf{converged:}         &       True       & \\textbf{  LL-Null:           } &   -12.932   \\\\\n",
       "\\textbf{Covariance Type:}   &    nonrobust     & \\textbf{  LLR p-value:       } &  0.09284    \\\\\n",
       "\\bottomrule\n",
       "\\end{tabular}\n",
       "\\begin{tabular}{lcccccc}\n",
       "                            & \\textbf{coef} & \\textbf{std err} & \\textbf{z} & \\textbf{P$> |$z$|$} & \\textbf{[0.025} & \\textbf{0.975]}  \\\\\n",
       "\\midrule\n",
       "\\textbf{num\\_words}         &       0.0670  &        0.307     &     0.218  &         0.827        &       -0.534    &        0.668     \\\\\n",
       "\\textbf{num\\_characters}    &       0.0235  &        0.074     &     0.316  &         0.752        &       -0.122    &        0.169     \\\\\n",
       "\\textbf{num\\_misspelled}    &      -1.3940  &        0.723     &    -1.927  &         0.054        &       -2.812    &        0.024     \\\\\n",
       "\\textbf{bin\\_end\\_qmark}    &      -4.5200  &        3.779     &    -1.196  &         0.232        &      -11.927    &        2.887     \\\\\n",
       "\\textbf{num\\_interrogative} &      -0.0675  &        0.290     &    -0.233  &         0.816        &       -0.635    &        0.500     \\\\\n",
       "\\textbf{bin\\_start\\_small}  &       0.0120  &        2.179     &     0.005  &         0.996        &       -4.259    &        4.283     \\\\\n",
       "\\textbf{num\\_sentences}     &       2.7017  &        2.506     &     1.078  &         0.281        &       -2.209    &        7.612     \\\\\n",
       "\\textbf{num\\_punctuations}  &      -0.7377  &        0.608     &    -1.214  &         0.225        &       -1.929    &        0.454     \\\\\n",
       "\\textbf{constant}           &      -2.1814  &        2.221     &    -0.982  &         0.326        &       -6.534    &        2.171     \\\\\n",
       "\\bottomrule\n",
       "\\end{tabular}\n",
       "%\\caption{Logit Regression Results}\n",
       "\\end{center}\n",
       "\n",
       "Possibly complete quasi-separation: A fraction 0.11 of observations can be \\newline\n",
       " perfectly predicted. This might indicate that there is complete \\newline\n",
       " quasi-separation. In this case some parameters will not be identified."
      ],
      "text/plain": [
       "<class 'statsmodels.iolib.summary.Summary'>\n",
       "\"\"\"\n",
       "                           Logit Regression Results                           \n",
       "==============================================================================\n",
       "Dep. Variable:           binary_label   No. Observations:                   19\n",
       "Model:                          Logit   Df Residuals:                       10\n",
       "Method:                           MLE   Df Model:                            8\n",
       "Date:                Fri, 11 Oct 2024   Pseudo R-squ.:                  0.5258\n",
       "Time:                        15:29:34   Log-Likelihood:                -6.1325\n",
       "converged:                       True   LL-Null:                       -12.932\n",
       "Covariance Type:            nonrobust   LLR p-value:                   0.09284\n",
       "=====================================================================================\n",
       "                        coef    std err          z      P>|z|      [0.025      0.975]\n",
       "-------------------------------------------------------------------------------------\n",
       "num_words             0.0670      0.307      0.218      0.827      -0.534       0.668\n",
       "num_characters        0.0235      0.074      0.316      0.752      -0.122       0.169\n",
       "num_misspelled       -1.3940      0.723     -1.927      0.054      -2.812       0.024\n",
       "bin_end_qmark        -4.5200      3.779     -1.196      0.232     -11.927       2.887\n",
       "num_interrogative    -0.0675      0.290     -0.233      0.816      -0.635       0.500\n",
       "bin_start_small       0.0120      2.179      0.005      0.996      -4.259       4.283\n",
       "num_sentences         2.7017      2.506      1.078      0.281      -2.209       7.612\n",
       "num_punctuations     -0.7377      0.608     -1.214      0.225      -1.929       0.454\n",
       "constant             -2.1814      2.221     -0.982      0.326      -6.534       2.171\n",
       "=====================================================================================\n",
       "\n",
       "Possibly complete quasi-separation: A fraction 0.11 of observations can be\n",
       "perfectly predicted. This might indicate that there is complete\n",
       "quasi-separation. In this case some parameters will not be identified.\n",
       "\"\"\""
      ]
     },
     "execution_count": 105,
     "metadata": {},
     "output_type": "execute_result"
    }
   ],
   "source": [
    "model_a.summary()"
   ]
  },
  {
   "cell_type": "code",
   "execution_count": 106,
   "metadata": {},
   "outputs": [
    {
     "name": "stdout",
     "output_type": "stream",
     "text": [
      "Accuracy: 0.9478700479829015\n"
     ]
    }
   ],
   "source": [
    "acc_1 = manually_calculate_accuracy(pred, data_for_logreg_model, data_for_logreg_model.binary_label)\n",
    "print('Accuracy:', acc_1)"
   ]
  },
  {
   "cell_type": "markdown",
   "metadata": {},
   "source": [
    "***2) Try doing the same using two different subsets (your choice) of those eight attributes.***"
   ]
  },
  {
   "cell_type": "markdown",
   "metadata": {},
   "source": [
    "- a)"
   ]
  },
  {
   "cell_type": "code",
   "execution_count": 107,
   "metadata": {},
   "outputs": [
    {
     "data": {
      "text/html": [
       "<div>\n",
       "<style scoped>\n",
       "    .dataframe tbody tr th:only-of-type {\n",
       "        vertical-align: middle;\n",
       "    }\n",
       "\n",
       "    .dataframe tbody tr th {\n",
       "        vertical-align: top;\n",
       "    }\n",
       "\n",
       "    .dataframe thead th {\n",
       "        text-align: right;\n",
       "    }\n",
       "</style>\n",
       "<table border=\"1\" class=\"dataframe\">\n",
       "  <thead>\n",
       "    <tr style=\"text-align: right;\">\n",
       "      <th></th>\n",
       "      <th>binary_label</th>\n",
       "      <th>num_misspelled</th>\n",
       "      <th>constant</th>\n",
       "    </tr>\n",
       "  </thead>\n",
       "  <tbody>\n",
       "    <tr>\n",
       "      <th>0</th>\n",
       "      <td>False</td>\n",
       "      <td>2</td>\n",
       "      <td>1</td>\n",
       "    </tr>\n",
       "    <tr>\n",
       "      <th>1</th>\n",
       "      <td>False</td>\n",
       "      <td>0</td>\n",
       "      <td>1</td>\n",
       "    </tr>\n",
       "    <tr>\n",
       "      <th>2</th>\n",
       "      <td>False</td>\n",
       "      <td>0</td>\n",
       "      <td>1</td>\n",
       "    </tr>\n",
       "    <tr>\n",
       "      <th>3</th>\n",
       "      <td>False</td>\n",
       "      <td>1</td>\n",
       "      <td>1</td>\n",
       "    </tr>\n",
       "    <tr>\n",
       "      <th>4</th>\n",
       "      <td>False</td>\n",
       "      <td>3</td>\n",
       "      <td>1</td>\n",
       "    </tr>\n",
       "  </tbody>\n",
       "</table>\n",
       "</div>"
      ],
      "text/plain": [
       "   binary_label  num_misspelled  constant\n",
       "0         False               2         1\n",
       "1         False               0         1\n",
       "2         False               0         1\n",
       "3         False               1         1\n",
       "4         False               3         1"
      ]
     },
     "execution_count": 107,
     "metadata": {},
     "output_type": "execute_result"
    }
   ],
   "source": [
    "#Using only num_misspelled as predictor\n",
    "data_for_logreg_model_b = df.loc[:, ['binary_label', 'num_misspelled', 'constant']].copy()\n",
    "data_for_logreg_model_b.head()"
   ]
  },
  {
   "cell_type": "code",
   "execution_count": 108,
   "metadata": {},
   "outputs": [],
   "source": [
    "#Logit(Y, X)\n",
    "X_b = data_for_logreg_model_b.drop(['binary_label'], axis = 1)\n",
    "y_b = data_for_logreg_model_b.binary_label"
   ]
  },
  {
   "cell_type": "code",
   "execution_count": 109,
   "metadata": {},
   "outputs": [
    {
     "name": "stdout",
     "output_type": "stream",
     "text": [
      "Optimization terminated successfully.\n",
      "         Current function value: 0.678109\n",
      "         Iterations 4\n"
     ]
    }
   ],
   "source": [
    "model_b, X_test_b, y_test_b = train_model(X_b, y_b, 0.3)"
   ]
  },
  {
   "cell_type": "code",
   "execution_count": 110,
   "metadata": {},
   "outputs": [],
   "source": [
    "pred_b = model_b.predict(X_test_b)"
   ]
  },
  {
   "cell_type": "code",
   "execution_count": 111,
   "metadata": {},
   "outputs": [
    {
     "name": "stdout",
     "output_type": "stream",
     "text": [
      "Accuracy: 0.8263564804868696\n"
     ]
    }
   ],
   "source": [
    "acc_2 = manually_calculate_accuracy(pred_b, data_for_logreg_model_b, data_for_logreg_model_b.binary_label)\n",
    "print('Accuracy:', acc_2)"
   ]
  },
  {
   "cell_type": "code",
   "execution_count": 112,
   "metadata": {},
   "outputs": [
    {
     "data": {
      "text/html": [
       "<table class=\"simpletable\">\n",
       "<caption>Logit Regression Results</caption>\n",
       "<tr>\n",
       "  <th>Dep. Variable:</th>     <td>binary_label</td>   <th>  No. Observations:  </th>  <td>    19</td> \n",
       "</tr>\n",
       "<tr>\n",
       "  <th>Model:</th>                 <td>Logit</td>      <th>  Df Residuals:      </th>  <td>    17</td> \n",
       "</tr>\n",
       "<tr>\n",
       "  <th>Method:</th>                 <td>MLE</td>       <th>  Df Model:          </th>  <td>     1</td> \n",
       "</tr>\n",
       "<tr>\n",
       "  <th>Date:</th>            <td>Fri, 11 Oct 2024</td> <th>  Pseudo R-squ.:     </th> <td>0.003703</td>\n",
       "</tr>\n",
       "<tr>\n",
       "  <th>Time:</th>                <td>15:29:34</td>     <th>  Log-Likelihood:    </th> <td> -12.884</td>\n",
       "</tr>\n",
       "<tr>\n",
       "  <th>converged:</th>             <td>True</td>       <th>  LL-Null:           </th> <td> -12.932</td>\n",
       "</tr>\n",
       "<tr>\n",
       "  <th>Covariance Type:</th>     <td>nonrobust</td>    <th>  LLR p-value:       </th>  <td>0.7570</td> \n",
       "</tr>\n",
       "</table>\n",
       "<table class=\"simpletable\">\n",
       "<tr>\n",
       "         <td></td>           <th>coef</th>     <th>std err</th>      <th>z</th>      <th>P>|z|</th>  <th>[0.025</th>    <th>0.975]</th>  \n",
       "</tr>\n",
       "<tr>\n",
       "  <th>num_misspelled</th> <td>    0.0387</td> <td>    0.128</td> <td>    0.302</td> <td> 0.763</td> <td>   -0.213</td> <td>    0.290</td>\n",
       "</tr>\n",
       "<tr>\n",
       "  <th>constant</th>       <td>    0.2312</td> <td>    0.543</td> <td>    0.426</td> <td> 0.670</td> <td>   -0.833</td> <td>    1.296</td>\n",
       "</tr>\n",
       "</table>"
      ],
      "text/latex": [
       "\\begin{center}\n",
       "\\begin{tabular}{lclc}\n",
       "\\toprule\n",
       "\\textbf{Dep. Variable:}   &  binary\\_label   & \\textbf{  No. Observations:  } &       19    \\\\\n",
       "\\textbf{Model:}           &      Logit       & \\textbf{  Df Residuals:      } &       17    \\\\\n",
       "\\textbf{Method:}          &       MLE        & \\textbf{  Df Model:          } &        1    \\\\\n",
       "\\textbf{Date:}            & Fri, 11 Oct 2024 & \\textbf{  Pseudo R-squ.:     } &  0.003703   \\\\\n",
       "\\textbf{Time:}            &     15:29:34     & \\textbf{  Log-Likelihood:    } &   -12.884   \\\\\n",
       "\\textbf{converged:}       &       True       & \\textbf{  LL-Null:           } &   -12.932   \\\\\n",
       "\\textbf{Covariance Type:} &    nonrobust     & \\textbf{  LLR p-value:       } &   0.7570    \\\\\n",
       "\\bottomrule\n",
       "\\end{tabular}\n",
       "\\begin{tabular}{lcccccc}\n",
       "                         & \\textbf{coef} & \\textbf{std err} & \\textbf{z} & \\textbf{P$> |$z$|$} & \\textbf{[0.025} & \\textbf{0.975]}  \\\\\n",
       "\\midrule\n",
       "\\textbf{num\\_misspelled} &       0.0387  &        0.128     &     0.302  &         0.763        &       -0.213    &        0.290     \\\\\n",
       "\\textbf{constant}        &       0.2312  &        0.543     &     0.426  &         0.670        &       -0.833    &        1.296     \\\\\n",
       "\\bottomrule\n",
       "\\end{tabular}\n",
       "%\\caption{Logit Regression Results}\n",
       "\\end{center}"
      ],
      "text/plain": [
       "<class 'statsmodels.iolib.summary.Summary'>\n",
       "\"\"\"\n",
       "                           Logit Regression Results                           \n",
       "==============================================================================\n",
       "Dep. Variable:           binary_label   No. Observations:                   19\n",
       "Model:                          Logit   Df Residuals:                       17\n",
       "Method:                           MLE   Df Model:                            1\n",
       "Date:                Fri, 11 Oct 2024   Pseudo R-squ.:                0.003703\n",
       "Time:                        15:29:34   Log-Likelihood:                -12.884\n",
       "converged:                       True   LL-Null:                       -12.932\n",
       "Covariance Type:            nonrobust   LLR p-value:                    0.7570\n",
       "==================================================================================\n",
       "                     coef    std err          z      P>|z|      [0.025      0.975]\n",
       "----------------------------------------------------------------------------------\n",
       "num_misspelled     0.0387      0.128      0.302      0.763      -0.213       0.290\n",
       "constant           0.2312      0.543      0.426      0.670      -0.833       1.296\n",
       "==================================================================================\n",
       "\"\"\""
      ]
     },
     "execution_count": 112,
     "metadata": {},
     "output_type": "execute_result"
    }
   ],
   "source": [
    "model_b.summary()"
   ]
  },
  {
   "cell_type": "markdown",
   "metadata": {},
   "source": [
    "- b)"
   ]
  },
  {
   "cell_type": "code",
   "execution_count": 113,
   "metadata": {},
   "outputs": [
    {
     "data": {
      "text/html": [
       "<div>\n",
       "<style scoped>\n",
       "    .dataframe tbody tr th:only-of-type {\n",
       "        vertical-align: middle;\n",
       "    }\n",
       "\n",
       "    .dataframe tbody tr th {\n",
       "        vertical-align: top;\n",
       "    }\n",
       "\n",
       "    .dataframe thead th {\n",
       "        text-align: right;\n",
       "    }\n",
       "</style>\n",
       "<table border=\"1\" class=\"dataframe\">\n",
       "  <thead>\n",
       "    <tr style=\"text-align: right;\">\n",
       "      <th></th>\n",
       "      <th>binary_label</th>\n",
       "      <th>bin_end_qmark</th>\n",
       "      <th>num_interrogative</th>\n",
       "      <th>constant</th>\n",
       "    </tr>\n",
       "  </thead>\n",
       "  <tbody>\n",
       "    <tr>\n",
       "      <th>0</th>\n",
       "      <td>False</td>\n",
       "      <td>0</td>\n",
       "      <td>0</td>\n",
       "      <td>1</td>\n",
       "    </tr>\n",
       "    <tr>\n",
       "      <th>1</th>\n",
       "      <td>False</td>\n",
       "      <td>0</td>\n",
       "      <td>0</td>\n",
       "      <td>1</td>\n",
       "    </tr>\n",
       "    <tr>\n",
       "      <th>2</th>\n",
       "      <td>False</td>\n",
       "      <td>1</td>\n",
       "      <td>19</td>\n",
       "      <td>1</td>\n",
       "    </tr>\n",
       "    <tr>\n",
       "      <th>3</th>\n",
       "      <td>False</td>\n",
       "      <td>0</td>\n",
       "      <td>1</td>\n",
       "      <td>1</td>\n",
       "    </tr>\n",
       "    <tr>\n",
       "      <th>4</th>\n",
       "      <td>False</td>\n",
       "      <td>0</td>\n",
       "      <td>1</td>\n",
       "      <td>1</td>\n",
       "    </tr>\n",
       "  </tbody>\n",
       "</table>\n",
       "</div>"
      ],
      "text/plain": [
       "   binary_label  bin_end_qmark  num_interrogative  constant\n",
       "0         False              0                  0         1\n",
       "1         False              0                  0         1\n",
       "2         False              1                 19         1\n",
       "3         False              0                  1         1\n",
       "4         False              0                  1         1"
      ]
     },
     "execution_count": 113,
     "metadata": {},
     "output_type": "execute_result"
    }
   ],
   "source": [
    "#Using only bin_end_qmark, num_interrogative  as predictors\n",
    "data_for_logreg_model_c = df.loc[:, ['binary_label', 'bin_end_qmark', 'num_interrogative', 'constant']].copy()\n",
    "data_for_logreg_model_c.head()"
   ]
  },
  {
   "cell_type": "code",
   "execution_count": 114,
   "metadata": {},
   "outputs": [],
   "source": [
    "#Logit(Y, X)\n",
    "X_c = data_for_logreg_model_c.drop(['binary_label'], axis = 1)\n",
    "y_c = data_for_logreg_model_c.binary_label"
   ]
  },
  {
   "cell_type": "code",
   "execution_count": 115,
   "metadata": {},
   "outputs": [
    {
     "name": "stdout",
     "output_type": "stream",
     "text": [
      "Optimization terminated successfully.\n",
      "         Current function value: 0.654249\n",
      "         Iterations 5\n"
     ]
    }
   ],
   "source": [
    "model_c, X_test_c, y_test_c = train_model(X_c, y_c, 0.3)"
   ]
  },
  {
   "cell_type": "code",
   "execution_count": 116,
   "metadata": {},
   "outputs": [],
   "source": [
    "pred_c= model_c.predict(X_test_c)"
   ]
  },
  {
   "cell_type": "code",
   "execution_count": 117,
   "metadata": {},
   "outputs": [
    {
     "name": "stdout",
     "output_type": "stream",
     "text": [
      "Accuracy: 0.8340368110638363\n"
     ]
    }
   ],
   "source": [
    "acc_3 = manually_calculate_accuracy(pred_c, data_for_logreg_model_c, data_for_logreg_model_c.binary_label)\n",
    "print('Accuracy:', acc_3)"
   ]
  },
  {
   "cell_type": "code",
   "execution_count": 118,
   "metadata": {},
   "outputs": [
    {
     "data": {
      "text/html": [
       "<table class=\"simpletable\">\n",
       "<caption>Logit Regression Results</caption>\n",
       "<tr>\n",
       "  <th>Dep. Variable:</th>     <td>binary_label</td>   <th>  No. Observations:  </th>  <td>    19</td> \n",
       "</tr>\n",
       "<tr>\n",
       "  <th>Model:</th>                 <td>Logit</td>      <th>  Df Residuals:      </th>  <td>    16</td> \n",
       "</tr>\n",
       "<tr>\n",
       "  <th>Method:</th>                 <td>MLE</td>       <th>  Df Model:          </th>  <td>     2</td> \n",
       "</tr>\n",
       "<tr>\n",
       "  <th>Date:</th>            <td>Fri, 11 Oct 2024</td> <th>  Pseudo R-squ.:     </th>  <td>0.03876</td>\n",
       "</tr>\n",
       "<tr>\n",
       "  <th>Time:</th>                <td>15:29:35</td>     <th>  Log-Likelihood:    </th> <td> -12.431</td>\n",
       "</tr>\n",
       "<tr>\n",
       "  <th>converged:</th>             <td>True</td>       <th>  LL-Null:           </th> <td> -12.932</td>\n",
       "</tr>\n",
       "<tr>\n",
       "  <th>Covariance Type:</th>     <td>nonrobust</td>    <th>  LLR p-value:       </th>  <td>0.6058</td> \n",
       "</tr>\n",
       "</table>\n",
       "<table class=\"simpletable\">\n",
       "<tr>\n",
       "          <td></td>             <th>coef</th>     <th>std err</th>      <th>z</th>      <th>P>|z|</th>  <th>[0.025</th>    <th>0.975]</th>  \n",
       "</tr>\n",
       "<tr>\n",
       "  <th>bin_end_qmark</th>     <td>   -0.9315</td> <td>    1.511</td> <td>   -0.617</td> <td> 0.538</td> <td>   -3.893</td> <td>    2.030</td>\n",
       "</tr>\n",
       "<tr>\n",
       "  <th>num_interrogative</th> <td>   -0.0519</td> <td>    0.151</td> <td>   -0.343</td> <td> 0.732</td> <td>   -0.348</td> <td>    0.245</td>\n",
       "</tr>\n",
       "<tr>\n",
       "  <th>constant</th>          <td>    0.5467</td> <td>    0.527</td> <td>    1.037</td> <td> 0.300</td> <td>   -0.486</td> <td>    1.580</td>\n",
       "</tr>\n",
       "</table>"
      ],
      "text/latex": [
       "\\begin{center}\n",
       "\\begin{tabular}{lclc}\n",
       "\\toprule\n",
       "\\textbf{Dep. Variable:}     &  binary\\_label   & \\textbf{  No. Observations:  } &       19    \\\\\n",
       "\\textbf{Model:}             &      Logit       & \\textbf{  Df Residuals:      } &       16    \\\\\n",
       "\\textbf{Method:}            &       MLE        & \\textbf{  Df Model:          } &        2    \\\\\n",
       "\\textbf{Date:}              & Fri, 11 Oct 2024 & \\textbf{  Pseudo R-squ.:     } &  0.03876    \\\\\n",
       "\\textbf{Time:}              &     15:29:35     & \\textbf{  Log-Likelihood:    } &   -12.431   \\\\\n",
       "\\textbf{converged:}         &       True       & \\textbf{  LL-Null:           } &   -12.932   \\\\\n",
       "\\textbf{Covariance Type:}   &    nonrobust     & \\textbf{  LLR p-value:       } &   0.6058    \\\\\n",
       "\\bottomrule\n",
       "\\end{tabular}\n",
       "\\begin{tabular}{lcccccc}\n",
       "                            & \\textbf{coef} & \\textbf{std err} & \\textbf{z} & \\textbf{P$> |$z$|$} & \\textbf{[0.025} & \\textbf{0.975]}  \\\\\n",
       "\\midrule\n",
       "\\textbf{bin\\_end\\_qmark}    &      -0.9315  &        1.511     &    -0.617  &         0.538        &       -3.893    &        2.030     \\\\\n",
       "\\textbf{num\\_interrogative} &      -0.0519  &        0.151     &    -0.343  &         0.732        &       -0.348    &        0.245     \\\\\n",
       "\\textbf{constant}           &       0.5467  &        0.527     &     1.037  &         0.300        &       -0.486    &        1.580     \\\\\n",
       "\\bottomrule\n",
       "\\end{tabular}\n",
       "%\\caption{Logit Regression Results}\n",
       "\\end{center}"
      ],
      "text/plain": [
       "<class 'statsmodels.iolib.summary.Summary'>\n",
       "\"\"\"\n",
       "                           Logit Regression Results                           \n",
       "==============================================================================\n",
       "Dep. Variable:           binary_label   No. Observations:                   19\n",
       "Model:                          Logit   Df Residuals:                       16\n",
       "Method:                           MLE   Df Model:                            2\n",
       "Date:                Fri, 11 Oct 2024   Pseudo R-squ.:                 0.03876\n",
       "Time:                        15:29:35   Log-Likelihood:                -12.431\n",
       "converged:                       True   LL-Null:                       -12.932\n",
       "Covariance Type:            nonrobust   LLR p-value:                    0.6058\n",
       "=====================================================================================\n",
       "                        coef    std err          z      P>|z|      [0.025      0.975]\n",
       "-------------------------------------------------------------------------------------\n",
       "bin_end_qmark        -0.9315      1.511     -0.617      0.538      -3.893       2.030\n",
       "num_interrogative    -0.0519      0.151     -0.343      0.732      -0.348       0.245\n",
       "constant              0.5467      0.527      1.037      0.300      -0.486       1.580\n",
       "=====================================================================================\n",
       "\"\"\""
      ]
     },
     "execution_count": 118,
     "metadata": {},
     "output_type": "execute_result"
    }
   ],
   "source": [
    "model_c.summary()"
   ]
  },
  {
   "cell_type": "markdown",
   "metadata": {},
   "source": [
    "***3) Report the accuracies of each of these three models.***"
   ]
  },
  {
   "cell_type": "markdown",
   "metadata": {},
   "source": [
    "- For first model"
   ]
  },
  {
   "cell_type": "code",
   "execution_count": 119,
   "metadata": {},
   "outputs": [
    {
     "name": "stdout",
     "output_type": "stream",
     "text": [
      "Accuracy score first model: 88.88888888888889 %\n"
     ]
    }
   ],
   "source": [
    "acc_1  =calculate_accuracy(pred, y_test_a)\n",
    "print('Accuracy score first model:', acc_1,'%')"
   ]
  },
  {
   "cell_type": "markdown",
   "metadata": {},
   "source": [
    "- For 2nd model"
   ]
  },
  {
   "cell_type": "code",
   "execution_count": 120,
   "metadata": {},
   "outputs": [
    {
     "name": "stdout",
     "output_type": "stream",
     "text": [
      "Accuracy score first model: 33.33333333333333 %\n"
     ]
    }
   ],
   "source": [
    "acc_2  =calculate_accuracy(pred_b, y_test_b)\n",
    "print('Accuracy score first model:', acc_2,'%')"
   ]
  },
  {
   "cell_type": "markdown",
   "metadata": {},
   "source": [
    "- For 3rd model"
   ]
  },
  {
   "cell_type": "code",
   "execution_count": 121,
   "metadata": {},
   "outputs": [
    {
     "name": "stdout",
     "output_type": "stream",
     "text": [
      "Accuracy score first model: 44.44444444444444 %\n"
     ]
    }
   ],
   "source": [
    "acc_3  =calculate_accuracy(pred_c, y_test_c)\n",
    "print('Accuracy score first model:', acc_3,'%')"
   ]
  },
  {
   "cell_type": "markdown",
   "metadata": {},
   "source": [
    "***4) For the two subsets that you use, provide some justification (why you chose those features in a given subset).***"
   ]
  },
  {
   "cell_type": "markdown",
   "metadata": {},
   "source": [
    "- For the second model, I chose the number of mispelled words, since I would consider mispells in a post as a good indicator of if the post is good or bad, such as spam, or post generated by bots\n",
    "- For the third model, I believe the appearance of interrogative words, or posts ending with a ? mark, indicate that the person posting the answer might not have a clear idea or enough knowledge regarding the topic discussed in the forum."
   ]
  },
  {
   "cell_type": "markdown",
   "metadata": {},
   "source": [
    "---------------\n",
    "\n",
    "***Problem 2***"
   ]
  },
  {
   "cell_type": "markdown",
   "metadata": {},
   "source": []
  },
  {
   "cell_type": "code",
   "execution_count": 122,
   "metadata": {},
   "outputs": [
    {
     "data": {
      "text/html": [
       "<div>\n",
       "<style scoped>\n",
       "    .dataframe tbody tr th:only-of-type {\n",
       "        vertical-align: middle;\n",
       "    }\n",
       "\n",
       "    .dataframe tbody tr th {\n",
       "        vertical-align: top;\n",
       "    }\n",
       "\n",
       "    .dataframe thead th {\n",
       "        text-align: right;\n",
       "    }\n",
       "</style>\n",
       "<table border=\"1\" class=\"dataframe\">\n",
       "  <thead>\n",
       "    <tr style=\"text-align: right;\">\n",
       "      <th></th>\n",
       "      <th>fixed_acidity</th>\n",
       "      <th>volatile_acidity</th>\n",
       "      <th>citric_acid</th>\n",
       "      <th>residual_sugar</th>\n",
       "      <th>chlorides</th>\n",
       "      <th>free_sulfur_dioxide</th>\n",
       "      <th>total_sulfur_dioxide</th>\n",
       "      <th>density</th>\n",
       "      <th>pH</th>\n",
       "      <th>sulphates</th>\n",
       "      <th>alcohol</th>\n",
       "      <th>quality</th>\n",
       "      <th>color</th>\n",
       "      <th>is_red</th>\n",
       "      <th>high_quality</th>\n",
       "    </tr>\n",
       "  </thead>\n",
       "  <tbody>\n",
       "    <tr>\n",
       "      <th>0</th>\n",
       "      <td>7.4</td>\n",
       "      <td>0.70</td>\n",
       "      <td>0.00</td>\n",
       "      <td>1.9</td>\n",
       "      <td>0.076</td>\n",
       "      <td>11.0</td>\n",
       "      <td>34.0</td>\n",
       "      <td>0.9978</td>\n",
       "      <td>3.51</td>\n",
       "      <td>0.56</td>\n",
       "      <td>9.4</td>\n",
       "      <td>5</td>\n",
       "      <td>red</td>\n",
       "      <td>1.0</td>\n",
       "      <td>0.0</td>\n",
       "    </tr>\n",
       "    <tr>\n",
       "      <th>1</th>\n",
       "      <td>7.8</td>\n",
       "      <td>0.88</td>\n",
       "      <td>0.00</td>\n",
       "      <td>2.6</td>\n",
       "      <td>0.098</td>\n",
       "      <td>25.0</td>\n",
       "      <td>67.0</td>\n",
       "      <td>0.9968</td>\n",
       "      <td>3.20</td>\n",
       "      <td>0.68</td>\n",
       "      <td>9.8</td>\n",
       "      <td>5</td>\n",
       "      <td>red</td>\n",
       "      <td>1.0</td>\n",
       "      <td>0.0</td>\n",
       "    </tr>\n",
       "    <tr>\n",
       "      <th>2</th>\n",
       "      <td>7.8</td>\n",
       "      <td>0.76</td>\n",
       "      <td>0.04</td>\n",
       "      <td>2.3</td>\n",
       "      <td>0.092</td>\n",
       "      <td>15.0</td>\n",
       "      <td>54.0</td>\n",
       "      <td>0.9970</td>\n",
       "      <td>3.26</td>\n",
       "      <td>0.65</td>\n",
       "      <td>9.8</td>\n",
       "      <td>5</td>\n",
       "      <td>red</td>\n",
       "      <td>1.0</td>\n",
       "      <td>0.0</td>\n",
       "    </tr>\n",
       "    <tr>\n",
       "      <th>3</th>\n",
       "      <td>11.2</td>\n",
       "      <td>0.28</td>\n",
       "      <td>0.56</td>\n",
       "      <td>1.9</td>\n",
       "      <td>0.075</td>\n",
       "      <td>17.0</td>\n",
       "      <td>60.0</td>\n",
       "      <td>0.9980</td>\n",
       "      <td>3.16</td>\n",
       "      <td>0.58</td>\n",
       "      <td>9.8</td>\n",
       "      <td>6</td>\n",
       "      <td>red</td>\n",
       "      <td>1.0</td>\n",
       "      <td>0.0</td>\n",
       "    </tr>\n",
       "    <tr>\n",
       "      <th>4</th>\n",
       "      <td>7.4</td>\n",
       "      <td>0.70</td>\n",
       "      <td>0.00</td>\n",
       "      <td>1.9</td>\n",
       "      <td>0.076</td>\n",
       "      <td>11.0</td>\n",
       "      <td>34.0</td>\n",
       "      <td>0.9978</td>\n",
       "      <td>3.51</td>\n",
       "      <td>0.56</td>\n",
       "      <td>9.4</td>\n",
       "      <td>5</td>\n",
       "      <td>red</td>\n",
       "      <td>1.0</td>\n",
       "      <td>0.0</td>\n",
       "    </tr>\n",
       "  </tbody>\n",
       "</table>\n",
       "</div>"
      ],
      "text/plain": [
       "   fixed_acidity  volatile_acidity  citric_acid  residual_sugar  chlorides  \\\n",
       "0            7.4              0.70         0.00             1.9      0.076   \n",
       "1            7.8              0.88         0.00             2.6      0.098   \n",
       "2            7.8              0.76         0.04             2.3      0.092   \n",
       "3           11.2              0.28         0.56             1.9      0.075   \n",
       "4            7.4              0.70         0.00             1.9      0.076   \n",
       "\n",
       "   free_sulfur_dioxide  total_sulfur_dioxide  density    pH  sulphates  \\\n",
       "0                 11.0                  34.0   0.9978  3.51       0.56   \n",
       "1                 25.0                  67.0   0.9968  3.20       0.68   \n",
       "2                 15.0                  54.0   0.9970  3.26       0.65   \n",
       "3                 17.0                  60.0   0.9980  3.16       0.58   \n",
       "4                 11.0                  34.0   0.9978  3.51       0.56   \n",
       "\n",
       "   alcohol  quality color  is_red  high_quality  \n",
       "0      9.4        5   red     1.0           0.0  \n",
       "1      9.8        5   red     1.0           0.0  \n",
       "2      9.8        5   red     1.0           0.0  \n",
       "3      9.8        6   red     1.0           0.0  \n",
       "4      9.4        5   red     1.0           0.0  "
      ]
     },
     "execution_count": 122,
     "metadata": {},
     "output_type": "execute_result"
    }
   ],
   "source": [
    "df = pd.read_csv(relative_path + 'Problem 2—wine dataset.csv')\n",
    "df.head()"
   ]
  },
  {
   "cell_type": "markdown",
   "metadata": {},
   "source": [
    "***1) Download the wine dataset. Download wine dataset. It contains information about several wines—their characteristics (features) and if it's considered high quality or not (1 or 0).***"
   ]
  },
  {
   "cell_type": "code",
   "execution_count": 123,
   "metadata": {},
   "outputs": [],
   "source": [
    "data_for_model_wine = df.copy()\n",
    "#Converting outcome var from decimal to integer\n",
    "data_for_model_wine['high_quality'] = data_for_model_wine['high_quality'].astype(int)\n",
    "data_for_model_wine['is_red'] = data_for_model_wine['is_red'].astype(int)\n",
    "data_for_model_wine['is_red'] = data_for_model_wine['quality'].astype(int)\n",
    "data_for_model_wine = data_for_model_wine.drop(['color'], axis = 1)\n",
    "data_for_model_wine['constant'] = 1\n",
    "# df_unique = data_for_model_wine.groupby('high_quality')\n",
    "# df_unique.nunique()\n",
    "# df_unique = data_for_model_wine.groupby('color')\n",
    "# df_unique.nunique()\n",
    "# df_unique = data_for_model_wine.groupby(['high_quality','quality'])\n",
    "# df_unique.nunique()"
   ]
  },
  {
   "cell_type": "code",
   "execution_count": 124,
   "metadata": {},
   "outputs": [],
   "source": [
    "#Dropping quality column, since it is visibly correlated with the outcome variable (high_quality = 1 when quality in (3-6))\n",
    "# (no high quality when quality in (7-9))\n",
    "data_for_model_wine = data_for_model_wine.drop(['quality'], axis = 1)"
   ]
  },
  {
   "cell_type": "code",
   "execution_count": 125,
   "metadata": {},
   "outputs": [
    {
     "data": {
      "text/html": [
       "<div>\n",
       "<style scoped>\n",
       "    .dataframe tbody tr th:only-of-type {\n",
       "        vertical-align: middle;\n",
       "    }\n",
       "\n",
       "    .dataframe tbody tr th {\n",
       "        vertical-align: top;\n",
       "    }\n",
       "\n",
       "    .dataframe thead th {\n",
       "        text-align: right;\n",
       "    }\n",
       "</style>\n",
       "<table border=\"1\" class=\"dataframe\">\n",
       "  <thead>\n",
       "    <tr style=\"text-align: right;\">\n",
       "      <th></th>\n",
       "      <th>fixed_acidity</th>\n",
       "      <th>volatile_acidity</th>\n",
       "      <th>citric_acid</th>\n",
       "      <th>residual_sugar</th>\n",
       "      <th>chlorides</th>\n",
       "      <th>free_sulfur_dioxide</th>\n",
       "      <th>total_sulfur_dioxide</th>\n",
       "      <th>density</th>\n",
       "      <th>pH</th>\n",
       "      <th>sulphates</th>\n",
       "      <th>alcohol</th>\n",
       "      <th>is_red</th>\n",
       "      <th>high_quality</th>\n",
       "      <th>constant</th>\n",
       "    </tr>\n",
       "  </thead>\n",
       "  <tbody>\n",
       "    <tr>\n",
       "      <th>0</th>\n",
       "      <td>7.4</td>\n",
       "      <td>0.70</td>\n",
       "      <td>0.00</td>\n",
       "      <td>1.9</td>\n",
       "      <td>0.076</td>\n",
       "      <td>11.0</td>\n",
       "      <td>34.0</td>\n",
       "      <td>0.9978</td>\n",
       "      <td>3.51</td>\n",
       "      <td>0.56</td>\n",
       "      <td>9.4</td>\n",
       "      <td>5</td>\n",
       "      <td>0</td>\n",
       "      <td>1</td>\n",
       "    </tr>\n",
       "    <tr>\n",
       "      <th>1</th>\n",
       "      <td>7.8</td>\n",
       "      <td>0.88</td>\n",
       "      <td>0.00</td>\n",
       "      <td>2.6</td>\n",
       "      <td>0.098</td>\n",
       "      <td>25.0</td>\n",
       "      <td>67.0</td>\n",
       "      <td>0.9968</td>\n",
       "      <td>3.20</td>\n",
       "      <td>0.68</td>\n",
       "      <td>9.8</td>\n",
       "      <td>5</td>\n",
       "      <td>0</td>\n",
       "      <td>1</td>\n",
       "    </tr>\n",
       "    <tr>\n",
       "      <th>2</th>\n",
       "      <td>7.8</td>\n",
       "      <td>0.76</td>\n",
       "      <td>0.04</td>\n",
       "      <td>2.3</td>\n",
       "      <td>0.092</td>\n",
       "      <td>15.0</td>\n",
       "      <td>54.0</td>\n",
       "      <td>0.9970</td>\n",
       "      <td>3.26</td>\n",
       "      <td>0.65</td>\n",
       "      <td>9.8</td>\n",
       "      <td>5</td>\n",
       "      <td>0</td>\n",
       "      <td>1</td>\n",
       "    </tr>\n",
       "    <tr>\n",
       "      <th>3</th>\n",
       "      <td>11.2</td>\n",
       "      <td>0.28</td>\n",
       "      <td>0.56</td>\n",
       "      <td>1.9</td>\n",
       "      <td>0.075</td>\n",
       "      <td>17.0</td>\n",
       "      <td>60.0</td>\n",
       "      <td>0.9980</td>\n",
       "      <td>3.16</td>\n",
       "      <td>0.58</td>\n",
       "      <td>9.8</td>\n",
       "      <td>6</td>\n",
       "      <td>0</td>\n",
       "      <td>1</td>\n",
       "    </tr>\n",
       "    <tr>\n",
       "      <th>4</th>\n",
       "      <td>7.4</td>\n",
       "      <td>0.70</td>\n",
       "      <td>0.00</td>\n",
       "      <td>1.9</td>\n",
       "      <td>0.076</td>\n",
       "      <td>11.0</td>\n",
       "      <td>34.0</td>\n",
       "      <td>0.9978</td>\n",
       "      <td>3.51</td>\n",
       "      <td>0.56</td>\n",
       "      <td>9.4</td>\n",
       "      <td>5</td>\n",
       "      <td>0</td>\n",
       "      <td>1</td>\n",
       "    </tr>\n",
       "  </tbody>\n",
       "</table>\n",
       "</div>"
      ],
      "text/plain": [
       "   fixed_acidity  volatile_acidity  citric_acid  residual_sugar  chlorides  \\\n",
       "0            7.4              0.70         0.00             1.9      0.076   \n",
       "1            7.8              0.88         0.00             2.6      0.098   \n",
       "2            7.8              0.76         0.04             2.3      0.092   \n",
       "3           11.2              0.28         0.56             1.9      0.075   \n",
       "4            7.4              0.70         0.00             1.9      0.076   \n",
       "\n",
       "   free_sulfur_dioxide  total_sulfur_dioxide  density    pH  sulphates  \\\n",
       "0                 11.0                  34.0   0.9978  3.51       0.56   \n",
       "1                 25.0                  67.0   0.9968  3.20       0.68   \n",
       "2                 15.0                  54.0   0.9970  3.26       0.65   \n",
       "3                 17.0                  60.0   0.9980  3.16       0.58   \n",
       "4                 11.0                  34.0   0.9978  3.51       0.56   \n",
       "\n",
       "   alcohol  is_red  high_quality  constant  \n",
       "0      9.4       5             0         1  \n",
       "1      9.8       5             0         1  \n",
       "2      9.8       5             0         1  \n",
       "3      9.8       6             0         1  \n",
       "4      9.4       5             0         1  "
      ]
     },
     "execution_count": 125,
     "metadata": {},
     "output_type": "execute_result"
    }
   ],
   "source": [
    "data_for_model_wine.head()"
   ]
  },
  {
   "cell_type": "code",
   "execution_count": 126,
   "metadata": {},
   "outputs": [
    {
     "data": {
      "text/plain": [
       "fixed_acidity           False\n",
       "volatile_acidity        False\n",
       "citric_acid             False\n",
       "residual_sugar          False\n",
       "chlorides               False\n",
       "free_sulfur_dioxide     False\n",
       "total_sulfur_dioxide    False\n",
       "density                 False\n",
       "pH                      False\n",
       "sulphates               False\n",
       "alcohol                 False\n",
       "is_red                  False\n",
       "high_quality            False\n",
       "constant                False\n",
       "dtype: bool"
      ]
     },
     "execution_count": 126,
     "metadata": {},
     "output_type": "execute_result"
    }
   ],
   "source": [
    "#Checking if there are missing values that need to be imputed\n",
    "data_for_model_wine.isna().any()"
   ]
  },
  {
   "cell_type": "markdown",
   "metadata": {},
   "source": [
    "***2) First, do some experiments (trial-and-error) to figure out a good subset of features to use for learning wine quality (last column). Report these features.***"
   ]
  },
  {
   "cell_type": "code",
   "execution_count": 127,
   "metadata": {},
   "outputs": [],
   "source": [
    "#Using logit and backward selection to choose best predictors:\n",
    "\n",
    "#Logit(Y, X)\n",
    "X_logit_wine = data_for_model_wine.drop(['high_quality','is_red'], axis=1)\n",
    "\n",
    "# X_logit_wine = data_for_model_wine[['fixed_acidity'\n",
    "#                                     ,'volatile_acidity'\n",
    "#                                     ,'citric_acid'\n",
    "#                                     ,'residual_sugar'\n",
    "#                                     ,'chlorides' \n",
    "#                                     ,'free_sulfur_dioxide' \n",
    "#                                     ,'total_sulfur_dioxide' \n",
    "#                                     ,'density' \n",
    "#                                     ,'pH'\n",
    "#                                     ,'sulphates'\n",
    "#                                     ,'alcohol'\n",
    "#                                     #,'is_red'\n",
    "#                                     , 'constant']]       \n",
    "y_logit_wine = data_for_model_wine.high_quality"
   ]
  },
  {
   "cell_type": "code",
   "execution_count": 128,
   "metadata": {},
   "outputs": [
    {
     "name": "stdout",
     "output_type": "stream",
     "text": [
      "Optimization terminated successfully.\n",
      "         Current function value: 0.398746\n",
      "         Iterations 9\n"
     ]
    }
   ],
   "source": [
    "model_logit__wine, X_test_wine, y_test_wine = train_model(X_logit_wine, y_logit_wine, 0.3)"
   ]
  },
  {
   "cell_type": "code",
   "execution_count": 129,
   "metadata": {},
   "outputs": [
    {
     "data": {
      "text/html": [
       "<table class=\"simpletable\">\n",
       "<caption>Logit Regression Results</caption>\n",
       "<tr>\n",
       "  <th>Dep. Variable:</th>     <td>high_quality</td>   <th>  No. Observations:  </th>   <td>  4547</td>  \n",
       "</tr>\n",
       "<tr>\n",
       "  <th>Model:</th>                 <td>Logit</td>      <th>  Df Residuals:      </th>   <td>  4535</td>  \n",
       "</tr>\n",
       "<tr>\n",
       "  <th>Method:</th>                 <td>MLE</td>       <th>  Df Model:          </th>   <td>    11</td>  \n",
       "</tr>\n",
       "<tr>\n",
       "  <th>Date:</th>            <td>Fri, 11 Oct 2024</td> <th>  Pseudo R-squ.:     </th>   <td>0.2039</td>  \n",
       "</tr>\n",
       "<tr>\n",
       "  <th>Time:</th>                <td>15:29:35</td>     <th>  Log-Likelihood:    </th>  <td> -1813.1</td> \n",
       "</tr>\n",
       "<tr>\n",
       "  <th>converged:</th>             <td>True</td>       <th>  LL-Null:           </th>  <td> -2277.5</td> \n",
       "</tr>\n",
       "<tr>\n",
       "  <th>Covariance Type:</th>     <td>nonrobust</td>    <th>  LLR p-value:       </th> <td>3.788e-192</td>\n",
       "</tr>\n",
       "</table>\n",
       "<table class=\"simpletable\">\n",
       "<tr>\n",
       "            <td></td>              <th>coef</th>     <th>std err</th>      <th>z</th>      <th>P>|z|</th>  <th>[0.025</th>    <th>0.975]</th>  \n",
       "</tr>\n",
       "<tr>\n",
       "  <th>fixed_acidity</th>        <td>    0.4331</td> <td>    0.076</td> <td>    5.703</td> <td> 0.000</td> <td>    0.284</td> <td>    0.582</td>\n",
       "</tr>\n",
       "<tr>\n",
       "  <th>volatile_acidity</th>     <td>   -3.3805</td> <td>    0.448</td> <td>   -7.545</td> <td> 0.000</td> <td>   -4.259</td> <td>   -2.502</td>\n",
       "</tr>\n",
       "<tr>\n",
       "  <th>citric_acid</th>          <td>   -0.2547</td> <td>    0.397</td> <td>   -0.641</td> <td> 0.522</td> <td>   -1.034</td> <td>    0.524</td>\n",
       "</tr>\n",
       "<tr>\n",
       "  <th>residual_sugar</th>       <td>    0.1672</td> <td>    0.026</td> <td>    6.367</td> <td> 0.000</td> <td>    0.116</td> <td>    0.219</td>\n",
       "</tr>\n",
       "<tr>\n",
       "  <th>chlorides</th>            <td>   -6.5443</td> <td>    2.746</td> <td>   -2.383</td> <td> 0.017</td> <td>  -11.927</td> <td>   -1.161</td>\n",
       "</tr>\n",
       "<tr>\n",
       "  <th>free_sulfur_dioxide</th>  <td>    0.0110</td> <td>    0.003</td> <td>    3.326</td> <td> 0.001</td> <td>    0.005</td> <td>    0.018</td>\n",
       "</tr>\n",
       "<tr>\n",
       "  <th>total_sulfur_dioxide</th> <td>   -0.0052</td> <td>    0.001</td> <td>   -3.881</td> <td> 0.000</td> <td>   -0.008</td> <td>   -0.003</td>\n",
       "</tr>\n",
       "<tr>\n",
       "  <th>density</th>              <td> -307.9376</td> <td>   64.289</td> <td>   -4.790</td> <td> 0.000</td> <td> -433.942</td> <td> -181.933</td>\n",
       "</tr>\n",
       "<tr>\n",
       "  <th>pH</th>                   <td>    2.5994</td> <td>    0.418</td> <td>    6.212</td> <td> 0.000</td> <td>    1.779</td> <td>    3.420</td>\n",
       "</tr>\n",
       "<tr>\n",
       "  <th>sulphates</th>            <td>    2.4370</td> <td>    0.341</td> <td>    7.154</td> <td> 0.000</td> <td>    1.769</td> <td>    3.105</td>\n",
       "</tr>\n",
       "<tr>\n",
       "  <th>alcohol</th>              <td>    0.5426</td> <td>    0.083</td> <td>    6.515</td> <td> 0.000</td> <td>    0.379</td> <td>    0.706</td>\n",
       "</tr>\n",
       "<tr>\n",
       "  <th>constant</th>             <td>  286.9111</td> <td>   63.041</td> <td>    4.551</td> <td> 0.000</td> <td>  163.352</td> <td>  410.470</td>\n",
       "</tr>\n",
       "</table>"
      ],
      "text/latex": [
       "\\begin{center}\n",
       "\\begin{tabular}{lclc}\n",
       "\\toprule\n",
       "\\textbf{Dep. Variable:}         &  high\\_quality   & \\textbf{  No. Observations:  } &     4547    \\\\\n",
       "\\textbf{Model:}                 &      Logit       & \\textbf{  Df Residuals:      } &     4535    \\\\\n",
       "\\textbf{Method:}                &       MLE        & \\textbf{  Df Model:          } &       11    \\\\\n",
       "\\textbf{Date:}                  & Fri, 11 Oct 2024 & \\textbf{  Pseudo R-squ.:     } &   0.2039    \\\\\n",
       "\\textbf{Time:}                  &     15:29:35     & \\textbf{  Log-Likelihood:    } &   -1813.1   \\\\\n",
       "\\textbf{converged:}             &       True       & \\textbf{  LL-Null:           } &   -2277.5   \\\\\n",
       "\\textbf{Covariance Type:}       &    nonrobust     & \\textbf{  LLR p-value:       } & 3.788e-192  \\\\\n",
       "\\bottomrule\n",
       "\\end{tabular}\n",
       "\\begin{tabular}{lcccccc}\n",
       "                                & \\textbf{coef} & \\textbf{std err} & \\textbf{z} & \\textbf{P$> |$z$|$} & \\textbf{[0.025} & \\textbf{0.975]}  \\\\\n",
       "\\midrule\n",
       "\\textbf{fixed\\_acidity}         &       0.4331  &        0.076     &     5.703  &         0.000        &        0.284    &        0.582     \\\\\n",
       "\\textbf{volatile\\_acidity}      &      -3.3805  &        0.448     &    -7.545  &         0.000        &       -4.259    &       -2.502     \\\\\n",
       "\\textbf{citric\\_acid}           &      -0.2547  &        0.397     &    -0.641  &         0.522        &       -1.034    &        0.524     \\\\\n",
       "\\textbf{residual\\_sugar}        &       0.1672  &        0.026     &     6.367  &         0.000        &        0.116    &        0.219     \\\\\n",
       "\\textbf{chlorides}              &      -6.5443  &        2.746     &    -2.383  &         0.017        &      -11.927    &       -1.161     \\\\\n",
       "\\textbf{free\\_sulfur\\_dioxide}  &       0.0110  &        0.003     &     3.326  &         0.001        &        0.005    &        0.018     \\\\\n",
       "\\textbf{total\\_sulfur\\_dioxide} &      -0.0052  &        0.001     &    -3.881  &         0.000        &       -0.008    &       -0.003     \\\\\n",
       "\\textbf{density}                &    -307.9376  &       64.289     &    -4.790  &         0.000        &     -433.942    &     -181.933     \\\\\n",
       "\\textbf{pH}                     &       2.5994  &        0.418     &     6.212  &         0.000        &        1.779    &        3.420     \\\\\n",
       "\\textbf{sulphates}              &       2.4370  &        0.341     &     7.154  &         0.000        &        1.769    &        3.105     \\\\\n",
       "\\textbf{alcohol}                &       0.5426  &        0.083     &     6.515  &         0.000        &        0.379    &        0.706     \\\\\n",
       "\\textbf{constant}               &     286.9111  &       63.041     &     4.551  &         0.000        &      163.352    &      410.470     \\\\\n",
       "\\bottomrule\n",
       "\\end{tabular}\n",
       "%\\caption{Logit Regression Results}\n",
       "\\end{center}"
      ],
      "text/plain": [
       "<class 'statsmodels.iolib.summary.Summary'>\n",
       "\"\"\"\n",
       "                           Logit Regression Results                           \n",
       "==============================================================================\n",
       "Dep. Variable:           high_quality   No. Observations:                 4547\n",
       "Model:                          Logit   Df Residuals:                     4535\n",
       "Method:                           MLE   Df Model:                           11\n",
       "Date:                Fri, 11 Oct 2024   Pseudo R-squ.:                  0.2039\n",
       "Time:                        15:29:35   Log-Likelihood:                -1813.1\n",
       "converged:                       True   LL-Null:                       -2277.5\n",
       "Covariance Type:            nonrobust   LLR p-value:                3.788e-192\n",
       "========================================================================================\n",
       "                           coef    std err          z      P>|z|      [0.025      0.975]\n",
       "----------------------------------------------------------------------------------------\n",
       "fixed_acidity            0.4331      0.076      5.703      0.000       0.284       0.582\n",
       "volatile_acidity        -3.3805      0.448     -7.545      0.000      -4.259      -2.502\n",
       "citric_acid             -0.2547      0.397     -0.641      0.522      -1.034       0.524\n",
       "residual_sugar           0.1672      0.026      6.367      0.000       0.116       0.219\n",
       "chlorides               -6.5443      2.746     -2.383      0.017     -11.927      -1.161\n",
       "free_sulfur_dioxide      0.0110      0.003      3.326      0.001       0.005       0.018\n",
       "total_sulfur_dioxide    -0.0052      0.001     -3.881      0.000      -0.008      -0.003\n",
       "density               -307.9376     64.289     -4.790      0.000    -433.942    -181.933\n",
       "pH                       2.5994      0.418      6.212      0.000       1.779       3.420\n",
       "sulphates                2.4370      0.341      7.154      0.000       1.769       3.105\n",
       "alcohol                  0.5426      0.083      6.515      0.000       0.379       0.706\n",
       "constant               286.9111     63.041      4.551      0.000     163.352     410.470\n",
       "========================================================================================\n",
       "\"\"\""
      ]
     },
     "execution_count": 129,
     "metadata": {},
     "output_type": "execute_result"
    }
   ],
   "source": [
    "model_logit__wine.summary()"
   ]
  },
  {
   "cell_type": "markdown",
   "metadata": {},
   "source": [
    "****The lowest coefficients are free_sulfur_dioxide, total_sulfur_dioxide, so it appears these are the least significant predictors for the outcome variable***"
   ]
  },
  {
   "cell_type": "markdown",
   "metadata": {},
   "source": [
    "***3) Then, use 70% data for training to build a kNN classifier with different values of k ranging from 2–10.***"
   ]
  },
  {
   "cell_type": "code",
   "execution_count": 130,
   "metadata": {},
   "outputs": [],
   "source": [
    "data_for_model_wine_reduced = data_for_model_wine.drop(['is_red', 'free_sulfur_dioxide', 'total_sulfur_dioxide'], axis=1).copy()"
   ]
  },
  {
   "cell_type": "code",
   "execution_count": 131,
   "metadata": {},
   "outputs": [],
   "source": [
    "#New dataset with minimal predictors after trial & error stage\n",
    "X_logit_wine = data_for_model_wine_reduced.drop(['high_quality'], axis=1)\n",
    "y_logit_wine = data_for_model_wine_reduced.high_quality"
   ]
  },
  {
   "cell_type": "code",
   "execution_count": 132,
   "metadata": {},
   "outputs": [],
   "source": [
    "#Dividing data in 30% test and 70% training\n",
    "X_train_wine, X_test_wine, y_train_wine, y_test_wine = train_test_split(X_logit_wine, y_logit_wine, test_size=0.3, random_state=11) "
   ]
  },
  {
   "cell_type": "code",
   "execution_count": 133,
   "metadata": {},
   "outputs": [],
   "source": [
    "def calculate_knn(X_train, y_train,k):\n",
    "    knn_model = KNeighborsClassifier(n_neighbors=k)\n",
    "    knn_model.fit(X_train, y_train)\n",
    "\n",
    "    return knn_model"
   ]
  },
  {
   "cell_type": "code",
   "execution_count": 134,
   "metadata": {},
   "outputs": [],
   "source": [
    "def plotter(accuracies):\n",
    "\n",
    "    accuracy_list = sorted(accuracies.items()) # sorted by key, return a list of tuples\n",
    "\n",
    "    x, y = zip(*accuracy_list) # unpack a list of pairs into two tuples\n",
    "    \n",
    "    plt.xlabel(\"Number of K Neighbors\")\n",
    "    plt.ylabel(\"Accuracy\")\n",
    "    plt.plot(x, y)\n",
    "    plt.show()  "
   ]
  },
  {
   "cell_type": "code",
   "execution_count": 135,
   "metadata": {},
   "outputs": [
    {
     "name": "stdout",
     "output_type": "stream",
     "text": [
      "Accuracy for K= 2 : 83.6923076923077\n",
      "Accuracy for K= 3 : 81.53846153846153\n",
      "Accuracy for K= 4 : 83.02564102564102\n",
      "Accuracy for K= 5 : 81.7948717948718\n",
      "Accuracy for K= 6 : 82.25641025641026\n",
      "Accuracy for K= 7 : 81.43589743589743\n",
      "Accuracy for K= 8 : 82.0\n",
      "Accuracy for K= 9 : 82.3076923076923\n",
      "Accuracy for K= 10 : 81.64102564102565\n"
     ]
    }
   ],
   "source": [
    "accuracy_dict=dict()\n",
    "\n",
    "for n in range(2,10+1):\n",
    "    knn_model_wine = calculate_knn(X_train_wine, y_train_wine, n)\n",
    "    \n",
    "    pred = knn_model_wine.predict(X_test_wine)\n",
    "\n",
    "    acc_knn = calculate_accuracy(pred, y_test_wine)\n",
    "\n",
    "    print('Accuracy for K=', n, ':', acc_knn)\n",
    "\n",
    "    accuracy_dict[n]= acc_knn\n",
    "\n"
   ]
  },
  {
   "cell_type": "markdown",
   "metadata": {},
   "source": [
    "***4) Plot your accuracies with each of these. In other words, your final result will be a line chart with k on the x-axis and accuracy on the y-axis.***"
   ]
  },
  {
   "cell_type": "code",
   "execution_count": 136,
   "metadata": {},
   "outputs": [
    {
     "data": {
      "image/png": "[encoded data removed]",
      "text/plain": [
       "<Figure size 640x480 with 1 Axes>"
      ]
     },
     "metadata": {},
     "output_type": "display_data"
    }
   ],
   "source": [
    "plotter(accuracy_dict)"
   ]
  }
 ],
 "metadata": {
  "kernelspec": {
   "display_name": "Python 3 (ipykernel)",
   "language": "python",
   "name": "python3"
  },
  "language_info": {
   "codemirror_mode": {
    "name": "ipython",
    "version": 3
   },
   "file_extension": ".py",
   "mimetype": "text/x-python",
   "name": "python",
   "nbconvert_exporter": "python",
   "pygments_lexer": "ipython3",
   "version": "3.11.7"
  }
 },
 "nbformat": 4,
 "nbformat_minor": 2
}
